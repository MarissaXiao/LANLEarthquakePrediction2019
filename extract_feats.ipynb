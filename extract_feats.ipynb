{
 "cells": [
  {
   "cell_type": "code",
   "execution_count": 1,
   "metadata": {},
   "outputs": [],
   "source": [
    "import pandas as pd\n",
    "import numpy as np\n",
    "import matplotlib.pyplot as plt\n",
    "import seaborn as sns\n",
    "import librosa\n",
    "import librosa.display\n",
    "from scipy import signal\n",
    "import scipy.signal as sg\n",
    "from tqdm import tqdm\n",
    "import os\n",
    "\n",
    "from obspy.signal.filter import bandpass, lowpass, highpass\n",
    "\n",
    "from hyperopt import hp, tpe, Trials, fmin\n",
    "from librosa import power_to_db\n",
    "import scipy.fftpack\n",
    "from sklearn.preprocessing import StandardScaler\n",
    "from sklearn.model_selection import StratifiedKFold, KFold, RepeatedKFold\n",
    "import lightgbm as lgb\n",
    "from sklearn.metrics import mean_absolute_error\n",
    "from sklearn.model_selection._search import ParameterGrid\n",
    "from sklearn import preprocessing\n",
    "\n",
    "from sklearn.linear_model import LinearRegression\n",
    "from scipy.signal import hilbert\n",
    "from scipy.signal import hann\n",
    "from scipy.signal import convolve\n",
    "from scipy import stats\n",
    "from sklearn.kernel_ridge import KernelRidge\n",
    "from sklearn.metrics import r2_score, mean_absolute_error, mean_squared_error\n",
    "from sklearn.svm import NuSVR\n",
    "from sklearn.neighbors import KNeighborsRegressor\n",
    "from sklearn.ensemble import RandomForestRegressor\n",
    "from sklearn.linear_model import Lasso,Ridge\n",
    "\n",
    "import xgboost as xgb\n",
    "import catboost as cb\n",
    "from scipy.signal import welch\n",
    "\n",
    "import tsfresh\n",
    "from tsfresh import extract_features\n",
    "from tsfresh import select_features\n",
    "from tsfresh.utilities.dataframe_functions import impute\n",
    "from tsfresh.feature_extraction import ComprehensiveFCParameters\n",
    "from tsfresh.feature_extraction import feature_calculators\n",
    "\n",
    "import eli5\n",
    "from eli5.sklearn import PermutationImportance\n",
    "\n",
    "import datetime"
   ]
  },
  {
   "cell_type": "code",
   "execution_count": 7,
   "metadata": {
    "scrolled": false
   },
   "outputs": [
    {
     "name": "stdout",
     "output_type": "stream",
     "text": [
      "variance_larger_than_standard_deviation None\n",
      "\n",
      "has_duplicate_max None\n",
      "\n",
      "has_duplicate_min None\n",
      "\n",
      "has_duplicate None\n",
      "\n",
      "sum_values None\n",
      "\n",
      "abs_energy None\n",
      "\n",
      "mean_abs_change None\n",
      "\n",
      "mean_change None\n",
      "\n",
      "mean_second_derivative_central None\n",
      "\n",
      "median None\n",
      "\n",
      "mean None\n",
      "\n",
      "length None\n",
      "\n",
      "standard_deviation None\n",
      "\n",
      "variance None\n",
      "\n",
      "skewness None\n",
      "\n",
      "kurtosis None\n",
      "\n",
      "absolute_sum_of_changes None\n",
      "\n",
      "longest_strike_below_mean None\n",
      "\n",
      "longest_strike_above_mean None\n",
      "\n",
      "count_above_mean None\n",
      "\n",
      "count_below_mean None\n",
      "\n",
      "last_location_of_maximum None\n",
      "\n",
      "first_location_of_maximum None\n",
      "\n",
      "last_location_of_minimum None\n",
      "\n",
      "first_location_of_minimum None\n",
      "\n",
      "percentage_of_reoccurring_datapoints_to_all_datapoints None\n",
      "\n",
      "percentage_of_reoccurring_values_to_all_values None\n",
      "\n",
      "sum_of_reoccurring_values None\n",
      "\n",
      "sum_of_reoccurring_data_points None\n",
      "\n",
      "ratio_value_number_to_time_series_length None\n",
      "\n",
      "sample_entropy None\n",
      "\n",
      "maximum None\n",
      "\n",
      "minimum None\n",
      "\n",
      "time_reversal_asymmetry_statistic [{'lag': 1}, {'lag': 2}, {'lag': 3}]\n",
      "\n",
      "c3 [{'lag': 1}, {'lag': 2}, {'lag': 3}]\n",
      "\n",
      "cid_ce [{'normalize': True}, {'normalize': False}]\n",
      "\n",
      "symmetry_looking [{'r': 0.0}, {'r': 0.05}, {'r': 0.1}, {'r': 0.15000000000000002}, {'r': 0.2}, {'r': 0.25}, {'r': 0.30000000000000004}, {'r': 0.35000000000000003}, {'r': 0.4}, {'r': 0.45}, {'r': 0.5}, {'r': 0.55}, {'r': 0.6000000000000001}, {'r': 0.65}, {'r': 0.7000000000000001}, {'r': 0.75}, {'r': 0.8}, {'r': 0.8500000000000001}, {'r': 0.9}, {'r': 0.9500000000000001}]\n",
      "\n",
      "large_standard_deviation [{'r': 0.05}, {'r': 0.1}, {'r': 0.15000000000000002}, {'r': 0.2}, {'r': 0.25}, {'r': 0.30000000000000004}, {'r': 0.35000000000000003}, {'r': 0.4}, {'r': 0.45}, {'r': 0.5}, {'r': 0.55}, {'r': 0.6000000000000001}, {'r': 0.65}, {'r': 0.7000000000000001}, {'r': 0.75}, {'r': 0.8}, {'r': 0.8500000000000001}, {'r': 0.9}, {'r': 0.9500000000000001}]\n",
      "\n",
      "quantile [{'q': 0.1}, {'q': 0.2}, {'q': 0.3}, {'q': 0.4}, {'q': 0.6}, {'q': 0.7}, {'q': 0.8}, {'q': 0.9}]\n",
      "\n",
      "autocorrelation [{'lag': 0}, {'lag': 1}, {'lag': 2}, {'lag': 3}, {'lag': 4}, {'lag': 5}, {'lag': 6}, {'lag': 7}, {'lag': 8}, {'lag': 9}]\n",
      "\n",
      "agg_autocorrelation [{'f_agg': 'mean', 'maxlag': 40}, {'f_agg': 'median', 'maxlag': 40}, {'f_agg': 'var', 'maxlag': 40}]\n",
      "\n",
      "partial_autocorrelation [{'lag': 0}, {'lag': 1}, {'lag': 2}, {'lag': 3}, {'lag': 4}, {'lag': 5}, {'lag': 6}, {'lag': 7}, {'lag': 8}, {'lag': 9}]\n",
      "\n",
      "number_cwt_peaks [{'n': 1}, {'n': 5}]\n",
      "\n",
      "number_peaks [{'n': 1}, {'n': 3}, {'n': 5}, {'n': 10}, {'n': 50}]\n",
      "\n",
      "binned_entropy [{'max_bins': 10}]\n",
      "\n",
      "index_mass_quantile [{'q': 0.1}, {'q': 0.2}, {'q': 0.3}, {'q': 0.4}, {'q': 0.6}, {'q': 0.7}, {'q': 0.8}, {'q': 0.9}]\n",
      "\n",
      "cwt_coefficients [{'widths': (2, 5, 10, 20), 'coeff': 0, 'w': 2}, {'widths': (2, 5, 10, 20), 'coeff': 0, 'w': 5}, {'widths': (2, 5, 10, 20), 'coeff': 0, 'w': 10}, {'widths': (2, 5, 10, 20), 'coeff': 0, 'w': 20}, {'widths': (2, 5, 10, 20), 'coeff': 1, 'w': 2}, {'widths': (2, 5, 10, 20), 'coeff': 1, 'w': 5}, {'widths': (2, 5, 10, 20), 'coeff': 1, 'w': 10}, {'widths': (2, 5, 10, 20), 'coeff': 1, 'w': 20}, {'widths': (2, 5, 10, 20), 'coeff': 2, 'w': 2}, {'widths': (2, 5, 10, 20), 'coeff': 2, 'w': 5}, {'widths': (2, 5, 10, 20), 'coeff': 2, 'w': 10}, {'widths': (2, 5, 10, 20), 'coeff': 2, 'w': 20}, {'widths': (2, 5, 10, 20), 'coeff': 3, 'w': 2}, {'widths': (2, 5, 10, 20), 'coeff': 3, 'w': 5}, {'widths': (2, 5, 10, 20), 'coeff': 3, 'w': 10}, {'widths': (2, 5, 10, 20), 'coeff': 3, 'w': 20}, {'widths': (2, 5, 10, 20), 'coeff': 4, 'w': 2}, {'widths': (2, 5, 10, 20), 'coeff': 4, 'w': 5}, {'widths': (2, 5, 10, 20), 'coeff': 4, 'w': 10}, {'widths': (2, 5, 10, 20), 'coeff': 4, 'w': 20}, {'widths': (2, 5, 10, 20), 'coeff': 5, 'w': 2}, {'widths': (2, 5, 10, 20), 'coeff': 5, 'w': 5}, {'widths': (2, 5, 10, 20), 'coeff': 5, 'w': 10}, {'widths': (2, 5, 10, 20), 'coeff': 5, 'w': 20}, {'widths': (2, 5, 10, 20), 'coeff': 6, 'w': 2}, {'widths': (2, 5, 10, 20), 'coeff': 6, 'w': 5}, {'widths': (2, 5, 10, 20), 'coeff': 6, 'w': 10}, {'widths': (2, 5, 10, 20), 'coeff': 6, 'w': 20}, {'widths': (2, 5, 10, 20), 'coeff': 7, 'w': 2}, {'widths': (2, 5, 10, 20), 'coeff': 7, 'w': 5}, {'widths': (2, 5, 10, 20), 'coeff': 7, 'w': 10}, {'widths': (2, 5, 10, 20), 'coeff': 7, 'w': 20}, {'widths': (2, 5, 10, 20), 'coeff': 8, 'w': 2}, {'widths': (2, 5, 10, 20), 'coeff': 8, 'w': 5}, {'widths': (2, 5, 10, 20), 'coeff': 8, 'w': 10}, {'widths': (2, 5, 10, 20), 'coeff': 8, 'w': 20}, {'widths': (2, 5, 10, 20), 'coeff': 9, 'w': 2}, {'widths': (2, 5, 10, 20), 'coeff': 9, 'w': 5}, {'widths': (2, 5, 10, 20), 'coeff': 9, 'w': 10}, {'widths': (2, 5, 10, 20), 'coeff': 9, 'w': 20}, {'widths': (2, 5, 10, 20), 'coeff': 10, 'w': 2}, {'widths': (2, 5, 10, 20), 'coeff': 10, 'w': 5}, {'widths': (2, 5, 10, 20), 'coeff': 10, 'w': 10}, {'widths': (2, 5, 10, 20), 'coeff': 10, 'w': 20}, {'widths': (2, 5, 10, 20), 'coeff': 11, 'w': 2}, {'widths': (2, 5, 10, 20), 'coeff': 11, 'w': 5}, {'widths': (2, 5, 10, 20), 'coeff': 11, 'w': 10}, {'widths': (2, 5, 10, 20), 'coeff': 11, 'w': 20}, {'widths': (2, 5, 10, 20), 'coeff': 12, 'w': 2}, {'widths': (2, 5, 10, 20), 'coeff': 12, 'w': 5}, {'widths': (2, 5, 10, 20), 'coeff': 12, 'w': 10}, {'widths': (2, 5, 10, 20), 'coeff': 12, 'w': 20}, {'widths': (2, 5, 10, 20), 'coeff': 13, 'w': 2}, {'widths': (2, 5, 10, 20), 'coeff': 13, 'w': 5}, {'widths': (2, 5, 10, 20), 'coeff': 13, 'w': 10}, {'widths': (2, 5, 10, 20), 'coeff': 13, 'w': 20}, {'widths': (2, 5, 10, 20), 'coeff': 14, 'w': 2}, {'widths': (2, 5, 10, 20), 'coeff': 14, 'w': 5}, {'widths': (2, 5, 10, 20), 'coeff': 14, 'w': 10}, {'widths': (2, 5, 10, 20), 'coeff': 14, 'w': 20}]\n",
      "\n",
      "spkt_welch_density [{'coeff': 2}, {'coeff': 5}, {'coeff': 8}]\n",
      "\n",
      "ar_coefficient [{'coeff': 0, 'k': 10}, {'coeff': 1, 'k': 10}, {'coeff': 2, 'k': 10}, {'coeff': 3, 'k': 10}, {'coeff': 4, 'k': 10}]\n",
      "\n",
      "change_quantiles [{'ql': 0.0, 'qh': 0.2, 'isabs': False, 'f_agg': 'mean'}, {'ql': 0.0, 'qh': 0.2, 'isabs': False, 'f_agg': 'var'}, {'ql': 0.0, 'qh': 0.2, 'isabs': True, 'f_agg': 'mean'}, {'ql': 0.0, 'qh': 0.2, 'isabs': True, 'f_agg': 'var'}, {'ql': 0.0, 'qh': 0.4, 'isabs': False, 'f_agg': 'mean'}, {'ql': 0.0, 'qh': 0.4, 'isabs': False, 'f_agg': 'var'}, {'ql': 0.0, 'qh': 0.4, 'isabs': True, 'f_agg': 'mean'}, {'ql': 0.0, 'qh': 0.4, 'isabs': True, 'f_agg': 'var'}, {'ql': 0.0, 'qh': 0.6, 'isabs': False, 'f_agg': 'mean'}, {'ql': 0.0, 'qh': 0.6, 'isabs': False, 'f_agg': 'var'}, {'ql': 0.0, 'qh': 0.6, 'isabs': True, 'f_agg': 'mean'}, {'ql': 0.0, 'qh': 0.6, 'isabs': True, 'f_agg': 'var'}, {'ql': 0.0, 'qh': 0.8, 'isabs': False, 'f_agg': 'mean'}, {'ql': 0.0, 'qh': 0.8, 'isabs': False, 'f_agg': 'var'}, {'ql': 0.0, 'qh': 0.8, 'isabs': True, 'f_agg': 'mean'}, {'ql': 0.0, 'qh': 0.8, 'isabs': True, 'f_agg': 'var'}, {'ql': 0.0, 'qh': 1.0, 'isabs': False, 'f_agg': 'mean'}, {'ql': 0.0, 'qh': 1.0, 'isabs': False, 'f_agg': 'var'}, {'ql': 0.0, 'qh': 1.0, 'isabs': True, 'f_agg': 'mean'}, {'ql': 0.0, 'qh': 1.0, 'isabs': True, 'f_agg': 'var'}, {'ql': 0.2, 'qh': 0.2, 'isabs': False, 'f_agg': 'mean'}, {'ql': 0.2, 'qh': 0.2, 'isabs': False, 'f_agg': 'var'}, {'ql': 0.2, 'qh': 0.2, 'isabs': True, 'f_agg': 'mean'}, {'ql': 0.2, 'qh': 0.2, 'isabs': True, 'f_agg': 'var'}, {'ql': 0.2, 'qh': 0.4, 'isabs': False, 'f_agg': 'mean'}, {'ql': 0.2, 'qh': 0.4, 'isabs': False, 'f_agg': 'var'}, {'ql': 0.2, 'qh': 0.4, 'isabs': True, 'f_agg': 'mean'}, {'ql': 0.2, 'qh': 0.4, 'isabs': True, 'f_agg': 'var'}, {'ql': 0.2, 'qh': 0.6, 'isabs': False, 'f_agg': 'mean'}, {'ql': 0.2, 'qh': 0.6, 'isabs': False, 'f_agg': 'var'}, {'ql': 0.2, 'qh': 0.6, 'isabs': True, 'f_agg': 'mean'}, {'ql': 0.2, 'qh': 0.6, 'isabs': True, 'f_agg': 'var'}, {'ql': 0.2, 'qh': 0.8, 'isabs': False, 'f_agg': 'mean'}, {'ql': 0.2, 'qh': 0.8, 'isabs': False, 'f_agg': 'var'}, {'ql': 0.2, 'qh': 0.8, 'isabs': True, 'f_agg': 'mean'}, {'ql': 0.2, 'qh': 0.8, 'isabs': True, 'f_agg': 'var'}, {'ql': 0.2, 'qh': 1.0, 'isabs': False, 'f_agg': 'mean'}, {'ql': 0.2, 'qh': 1.0, 'isabs': False, 'f_agg': 'var'}, {'ql': 0.2, 'qh': 1.0, 'isabs': True, 'f_agg': 'mean'}, {'ql': 0.2, 'qh': 1.0, 'isabs': True, 'f_agg': 'var'}, {'ql': 0.4, 'qh': 0.2, 'isabs': False, 'f_agg': 'mean'}, {'ql': 0.4, 'qh': 0.2, 'isabs': False, 'f_agg': 'var'}, {'ql': 0.4, 'qh': 0.2, 'isabs': True, 'f_agg': 'mean'}, {'ql': 0.4, 'qh': 0.2, 'isabs': True, 'f_agg': 'var'}, {'ql': 0.4, 'qh': 0.4, 'isabs': False, 'f_agg': 'mean'}, {'ql': 0.4, 'qh': 0.4, 'isabs': False, 'f_agg': 'var'}, {'ql': 0.4, 'qh': 0.4, 'isabs': True, 'f_agg': 'mean'}, {'ql': 0.4, 'qh': 0.4, 'isabs': True, 'f_agg': 'var'}, {'ql': 0.4, 'qh': 0.6, 'isabs': False, 'f_agg': 'mean'}, {'ql': 0.4, 'qh': 0.6, 'isabs': False, 'f_agg': 'var'}, {'ql': 0.4, 'qh': 0.6, 'isabs': True, 'f_agg': 'mean'}, {'ql': 0.4, 'qh': 0.6, 'isabs': True, 'f_agg': 'var'}, {'ql': 0.4, 'qh': 0.8, 'isabs': False, 'f_agg': 'mean'}, {'ql': 0.4, 'qh': 0.8, 'isabs': False, 'f_agg': 'var'}, {'ql': 0.4, 'qh': 0.8, 'isabs': True, 'f_agg': 'mean'}, {'ql': 0.4, 'qh': 0.8, 'isabs': True, 'f_agg': 'var'}, {'ql': 0.4, 'qh': 1.0, 'isabs': False, 'f_agg': 'mean'}, {'ql': 0.4, 'qh': 1.0, 'isabs': False, 'f_agg': 'var'}, {'ql': 0.4, 'qh': 1.0, 'isabs': True, 'f_agg': 'mean'}, {'ql': 0.4, 'qh': 1.0, 'isabs': True, 'f_agg': 'var'}, {'ql': 0.6, 'qh': 0.2, 'isabs': False, 'f_agg': 'mean'}, {'ql': 0.6, 'qh': 0.2, 'isabs': False, 'f_agg': 'var'}, {'ql': 0.6, 'qh': 0.2, 'isabs': True, 'f_agg': 'mean'}, {'ql': 0.6, 'qh': 0.2, 'isabs': True, 'f_agg': 'var'}, {'ql': 0.6, 'qh': 0.4, 'isabs': False, 'f_agg': 'mean'}, {'ql': 0.6, 'qh': 0.4, 'isabs': False, 'f_agg': 'var'}, {'ql': 0.6, 'qh': 0.4, 'isabs': True, 'f_agg': 'mean'}, {'ql': 0.6, 'qh': 0.4, 'isabs': True, 'f_agg': 'var'}, {'ql': 0.6, 'qh': 0.6, 'isabs': False, 'f_agg': 'mean'}, {'ql': 0.6, 'qh': 0.6, 'isabs': False, 'f_agg': 'var'}, {'ql': 0.6, 'qh': 0.6, 'isabs': True, 'f_agg': 'mean'}, {'ql': 0.6, 'qh': 0.6, 'isabs': True, 'f_agg': 'var'}, {'ql': 0.6, 'qh': 0.8, 'isabs': False, 'f_agg': 'mean'}, {'ql': 0.6, 'qh': 0.8, 'isabs': False, 'f_agg': 'var'}, {'ql': 0.6, 'qh': 0.8, 'isabs': True, 'f_agg': 'mean'}, {'ql': 0.6, 'qh': 0.8, 'isabs': True, 'f_agg': 'var'}, {'ql': 0.6, 'qh': 1.0, 'isabs': False, 'f_agg': 'mean'}, {'ql': 0.6, 'qh': 1.0, 'isabs': False, 'f_agg': 'var'}, {'ql': 0.6, 'qh': 1.0, 'isabs': True, 'f_agg': 'mean'}, {'ql': 0.6, 'qh': 1.0, 'isabs': True, 'f_agg': 'var'}, {'ql': 0.8, 'qh': 0.2, 'isabs': False, 'f_agg': 'mean'}, {'ql': 0.8, 'qh': 0.2, 'isabs': False, 'f_agg': 'var'}, {'ql': 0.8, 'qh': 0.2, 'isabs': True, 'f_agg': 'mean'}, {'ql': 0.8, 'qh': 0.2, 'isabs': True, 'f_agg': 'var'}, {'ql': 0.8, 'qh': 0.4, 'isabs': False, 'f_agg': 'mean'}, {'ql': 0.8, 'qh': 0.4, 'isabs': False, 'f_agg': 'var'}, {'ql': 0.8, 'qh': 0.4, 'isabs': True, 'f_agg': 'mean'}, {'ql': 0.8, 'qh': 0.4, 'isabs': True, 'f_agg': 'var'}, {'ql': 0.8, 'qh': 0.6, 'isabs': False, 'f_agg': 'mean'}, {'ql': 0.8, 'qh': 0.6, 'isabs': False, 'f_agg': 'var'}, {'ql': 0.8, 'qh': 0.6, 'isabs': True, 'f_agg': 'mean'}, {'ql': 0.8, 'qh': 0.6, 'isabs': True, 'f_agg': 'var'}, {'ql': 0.8, 'qh': 0.8, 'isabs': False, 'f_agg': 'mean'}, {'ql': 0.8, 'qh': 0.8, 'isabs': False, 'f_agg': 'var'}, {'ql': 0.8, 'qh': 0.8, 'isabs': True, 'f_agg': 'mean'}, {'ql': 0.8, 'qh': 0.8, 'isabs': True, 'f_agg': 'var'}, {'ql': 0.8, 'qh': 1.0, 'isabs': False, 'f_agg': 'mean'}, {'ql': 0.8, 'qh': 1.0, 'isabs': False, 'f_agg': 'var'}, {'ql': 0.8, 'qh': 1.0, 'isabs': True, 'f_agg': 'mean'}, {'ql': 0.8, 'qh': 1.0, 'isabs': True, 'f_agg': 'var'}]\n",
      "\n",
      "fft_coefficient [{'coeff': 0, 'attr': 'real'}, {'coeff': 1, 'attr': 'real'}, {'coeff': 2, 'attr': 'real'}, {'coeff': 3, 'attr': 'real'}, {'coeff': 4, 'attr': 'real'}, {'coeff': 5, 'attr': 'real'}, {'coeff': 6, 'attr': 'real'}, {'coeff': 7, 'attr': 'real'}, {'coeff': 8, 'attr': 'real'}, {'coeff': 9, 'attr': 'real'}, {'coeff': 10, 'attr': 'real'}, {'coeff': 11, 'attr': 'real'}, {'coeff': 12, 'attr': 'real'}, {'coeff': 13, 'attr': 'real'}, {'coeff': 14, 'attr': 'real'}, {'coeff': 15, 'attr': 'real'}, {'coeff': 16, 'attr': 'real'}, {'coeff': 17, 'attr': 'real'}, {'coeff': 18, 'attr': 'real'}, {'coeff': 19, 'attr': 'real'}, {'coeff': 20, 'attr': 'real'}, {'coeff': 21, 'attr': 'real'}, {'coeff': 22, 'attr': 'real'}, {'coeff': 23, 'attr': 'real'}, {'coeff': 24, 'attr': 'real'}, {'coeff': 25, 'attr': 'real'}, {'coeff': 26, 'attr': 'real'}, {'coeff': 27, 'attr': 'real'}, {'coeff': 28, 'attr': 'real'}, {'coeff': 29, 'attr': 'real'}, {'coeff': 30, 'attr': 'real'}, {'coeff': 31, 'attr': 'real'}, {'coeff': 32, 'attr': 'real'}, {'coeff': 33, 'attr': 'real'}, {'coeff': 34, 'attr': 'real'}, {'coeff': 35, 'attr': 'real'}, {'coeff': 36, 'attr': 'real'}, {'coeff': 37, 'attr': 'real'}, {'coeff': 38, 'attr': 'real'}, {'coeff': 39, 'attr': 'real'}, {'coeff': 40, 'attr': 'real'}, {'coeff': 41, 'attr': 'real'}, {'coeff': 42, 'attr': 'real'}, {'coeff': 43, 'attr': 'real'}, {'coeff': 44, 'attr': 'real'}, {'coeff': 45, 'attr': 'real'}, {'coeff': 46, 'attr': 'real'}, {'coeff': 47, 'attr': 'real'}, {'coeff': 48, 'attr': 'real'}, {'coeff': 49, 'attr': 'real'}, {'coeff': 50, 'attr': 'real'}, {'coeff': 51, 'attr': 'real'}, {'coeff': 52, 'attr': 'real'}, {'coeff': 53, 'attr': 'real'}, {'coeff': 54, 'attr': 'real'}, {'coeff': 55, 'attr': 'real'}, {'coeff': 56, 'attr': 'real'}, {'coeff': 57, 'attr': 'real'}, {'coeff': 58, 'attr': 'real'}, {'coeff': 59, 'attr': 'real'}, {'coeff': 60, 'attr': 'real'}, {'coeff': 61, 'attr': 'real'}, {'coeff': 62, 'attr': 'real'}, {'coeff': 63, 'attr': 'real'}, {'coeff': 64, 'attr': 'real'}, {'coeff': 65, 'attr': 'real'}, {'coeff': 66, 'attr': 'real'}, {'coeff': 67, 'attr': 'real'}, {'coeff': 68, 'attr': 'real'}, {'coeff': 69, 'attr': 'real'}, {'coeff': 70, 'attr': 'real'}, {'coeff': 71, 'attr': 'real'}, {'coeff': 72, 'attr': 'real'}, {'coeff': 73, 'attr': 'real'}, {'coeff': 74, 'attr': 'real'}, {'coeff': 75, 'attr': 'real'}, {'coeff': 76, 'attr': 'real'}, {'coeff': 77, 'attr': 'real'}, {'coeff': 78, 'attr': 'real'}, {'coeff': 79, 'attr': 'real'}, {'coeff': 80, 'attr': 'real'}, {'coeff': 81, 'attr': 'real'}, {'coeff': 82, 'attr': 'real'}, {'coeff': 83, 'attr': 'real'}, {'coeff': 84, 'attr': 'real'}, {'coeff': 85, 'attr': 'real'}, {'coeff': 86, 'attr': 'real'}, {'coeff': 87, 'attr': 'real'}, {'coeff': 88, 'attr': 'real'}, {'coeff': 89, 'attr': 'real'}, {'coeff': 90, 'attr': 'real'}, {'coeff': 91, 'attr': 'real'}, {'coeff': 92, 'attr': 'real'}, {'coeff': 93, 'attr': 'real'}, {'coeff': 94, 'attr': 'real'}, {'coeff': 95, 'attr': 'real'}, {'coeff': 96, 'attr': 'real'}, {'coeff': 97, 'attr': 'real'}, {'coeff': 98, 'attr': 'real'}, {'coeff': 99, 'attr': 'real'}, {'coeff': 0, 'attr': 'imag'}, {'coeff': 1, 'attr': 'imag'}, {'coeff': 2, 'attr': 'imag'}, {'coeff': 3, 'attr': 'imag'}, {'coeff': 4, 'attr': 'imag'}, {'coeff': 5, 'attr': 'imag'}, {'coeff': 6, 'attr': 'imag'}, {'coeff': 7, 'attr': 'imag'}, {'coeff': 8, 'attr': 'imag'}, {'coeff': 9, 'attr': 'imag'}, {'coeff': 10, 'attr': 'imag'}, {'coeff': 11, 'attr': 'imag'}, {'coeff': 12, 'attr': 'imag'}, {'coeff': 13, 'attr': 'imag'}, {'coeff': 14, 'attr': 'imag'}, {'coeff': 15, 'attr': 'imag'}, {'coeff': 16, 'attr': 'imag'}, {'coeff': 17, 'attr': 'imag'}, {'coeff': 18, 'attr': 'imag'}, {'coeff': 19, 'attr': 'imag'}, {'coeff': 20, 'attr': 'imag'}, {'coeff': 21, 'attr': 'imag'}, {'coeff': 22, 'attr': 'imag'}, {'coeff': 23, 'attr': 'imag'}, {'coeff': 24, 'attr': 'imag'}, {'coeff': 25, 'attr': 'imag'}, {'coeff': 26, 'attr': 'imag'}, {'coeff': 27, 'attr': 'imag'}, {'coeff': 28, 'attr': 'imag'}, {'coeff': 29, 'attr': 'imag'}, {'coeff': 30, 'attr': 'imag'}, {'coeff': 31, 'attr': 'imag'}, {'coeff': 32, 'attr': 'imag'}, {'coeff': 33, 'attr': 'imag'}, {'coeff': 34, 'attr': 'imag'}, {'coeff': 35, 'attr': 'imag'}, {'coeff': 36, 'attr': 'imag'}, {'coeff': 37, 'attr': 'imag'}, {'coeff': 38, 'attr': 'imag'}, {'coeff': 39, 'attr': 'imag'}, {'coeff': 40, 'attr': 'imag'}, {'coeff': 41, 'attr': 'imag'}, {'coeff': 42, 'attr': 'imag'}, {'coeff': 43, 'attr': 'imag'}, {'coeff': 44, 'attr': 'imag'}, {'coeff': 45, 'attr': 'imag'}, {'coeff': 46, 'attr': 'imag'}, {'coeff': 47, 'attr': 'imag'}, {'coeff': 48, 'attr': 'imag'}, {'coeff': 49, 'attr': 'imag'}, {'coeff': 50, 'attr': 'imag'}, {'coeff': 51, 'attr': 'imag'}, {'coeff': 52, 'attr': 'imag'}, {'coeff': 53, 'attr': 'imag'}, {'coeff': 54, 'attr': 'imag'}, {'coeff': 55, 'attr': 'imag'}, {'coeff': 56, 'attr': 'imag'}, {'coeff': 57, 'attr': 'imag'}, {'coeff': 58, 'attr': 'imag'}, {'coeff': 59, 'attr': 'imag'}, {'coeff': 60, 'attr': 'imag'}, {'coeff': 61, 'attr': 'imag'}, {'coeff': 62, 'attr': 'imag'}, {'coeff': 63, 'attr': 'imag'}, {'coeff': 64, 'attr': 'imag'}, {'coeff': 65, 'attr': 'imag'}, {'coeff': 66, 'attr': 'imag'}, {'coeff': 67, 'attr': 'imag'}, {'coeff': 68, 'attr': 'imag'}, {'coeff': 69, 'attr': 'imag'}, {'coeff': 70, 'attr': 'imag'}, {'coeff': 71, 'attr': 'imag'}, {'coeff': 72, 'attr': 'imag'}, {'coeff': 73, 'attr': 'imag'}, {'coeff': 74, 'attr': 'imag'}, {'coeff': 75, 'attr': 'imag'}, {'coeff': 76, 'attr': 'imag'}, {'coeff': 77, 'attr': 'imag'}, {'coeff': 78, 'attr': 'imag'}, {'coeff': 79, 'attr': 'imag'}, {'coeff': 80, 'attr': 'imag'}, {'coeff': 81, 'attr': 'imag'}, {'coeff': 82, 'attr': 'imag'}, {'coeff': 83, 'attr': 'imag'}, {'coeff': 84, 'attr': 'imag'}, {'coeff': 85, 'attr': 'imag'}, {'coeff': 86, 'attr': 'imag'}, {'coeff': 87, 'attr': 'imag'}, {'coeff': 88, 'attr': 'imag'}, {'coeff': 89, 'attr': 'imag'}, {'coeff': 90, 'attr': 'imag'}, {'coeff': 91, 'attr': 'imag'}, {'coeff': 92, 'attr': 'imag'}, {'coeff': 93, 'attr': 'imag'}, {'coeff': 94, 'attr': 'imag'}, {'coeff': 95, 'attr': 'imag'}, {'coeff': 96, 'attr': 'imag'}, {'coeff': 97, 'attr': 'imag'}, {'coeff': 98, 'attr': 'imag'}, {'coeff': 99, 'attr': 'imag'}, {'coeff': 0, 'attr': 'abs'}, {'coeff': 1, 'attr': 'abs'}, {'coeff': 2, 'attr': 'abs'}, {'coeff': 3, 'attr': 'abs'}, {'coeff': 4, 'attr': 'abs'}, {'coeff': 5, 'attr': 'abs'}, {'coeff': 6, 'attr': 'abs'}, {'coeff': 7, 'attr': 'abs'}, {'coeff': 8, 'attr': 'abs'}, {'coeff': 9, 'attr': 'abs'}, {'coeff': 10, 'attr': 'abs'}, {'coeff': 11, 'attr': 'abs'}, {'coeff': 12, 'attr': 'abs'}, {'coeff': 13, 'attr': 'abs'}, {'coeff': 14, 'attr': 'abs'}, {'coeff': 15, 'attr': 'abs'}, {'coeff': 16, 'attr': 'abs'}, {'coeff': 17, 'attr': 'abs'}, {'coeff': 18, 'attr': 'abs'}, {'coeff': 19, 'attr': 'abs'}, {'coeff': 20, 'attr': 'abs'}, {'coeff': 21, 'attr': 'abs'}, {'coeff': 22, 'attr': 'abs'}, {'coeff': 23, 'attr': 'abs'}, {'coeff': 24, 'attr': 'abs'}, {'coeff': 25, 'attr': 'abs'}, {'coeff': 26, 'attr': 'abs'}, {'coeff': 27, 'attr': 'abs'}, {'coeff': 28, 'attr': 'abs'}, {'coeff': 29, 'attr': 'abs'}, {'coeff': 30, 'attr': 'abs'}, {'coeff': 31, 'attr': 'abs'}, {'coeff': 32, 'attr': 'abs'}, {'coeff': 33, 'attr': 'abs'}, {'coeff': 34, 'attr': 'abs'}, {'coeff': 35, 'attr': 'abs'}, {'coeff': 36, 'attr': 'abs'}, {'coeff': 37, 'attr': 'abs'}, {'coeff': 38, 'attr': 'abs'}, {'coeff': 39, 'attr': 'abs'}, {'coeff': 40, 'attr': 'abs'}, {'coeff': 41, 'attr': 'abs'}, {'coeff': 42, 'attr': 'abs'}, {'coeff': 43, 'attr': 'abs'}, {'coeff': 44, 'attr': 'abs'}, {'coeff': 45, 'attr': 'abs'}, {'coeff': 46, 'attr': 'abs'}, {'coeff': 47, 'attr': 'abs'}, {'coeff': 48, 'attr': 'abs'}, {'coeff': 49, 'attr': 'abs'}, {'coeff': 50, 'attr': 'abs'}, {'coeff': 51, 'attr': 'abs'}, {'coeff': 52, 'attr': 'abs'}, {'coeff': 53, 'attr': 'abs'}, {'coeff': 54, 'attr': 'abs'}, {'coeff': 55, 'attr': 'abs'}, {'coeff': 56, 'attr': 'abs'}, {'coeff': 57, 'attr': 'abs'}, {'coeff': 58, 'attr': 'abs'}, {'coeff': 59, 'attr': 'abs'}, {'coeff': 60, 'attr': 'abs'}, {'coeff': 61, 'attr': 'abs'}, {'coeff': 62, 'attr': 'abs'}, {'coeff': 63, 'attr': 'abs'}, {'coeff': 64, 'attr': 'abs'}, {'coeff': 65, 'attr': 'abs'}, {'coeff': 66, 'attr': 'abs'}, {'coeff': 67, 'attr': 'abs'}, {'coeff': 68, 'attr': 'abs'}, {'coeff': 69, 'attr': 'abs'}, {'coeff': 70, 'attr': 'abs'}, {'coeff': 71, 'attr': 'abs'}, {'coeff': 72, 'attr': 'abs'}, {'coeff': 73, 'attr': 'abs'}, {'coeff': 74, 'attr': 'abs'}, {'coeff': 75, 'attr': 'abs'}, {'coeff': 76, 'attr': 'abs'}, {'coeff': 77, 'attr': 'abs'}, {'coeff': 78, 'attr': 'abs'}, {'coeff': 79, 'attr': 'abs'}, {'coeff': 80, 'attr': 'abs'}, {'coeff': 81, 'attr': 'abs'}, {'coeff': 82, 'attr': 'abs'}, {'coeff': 83, 'attr': 'abs'}, {'coeff': 84, 'attr': 'abs'}, {'coeff': 85, 'attr': 'abs'}, {'coeff': 86, 'attr': 'abs'}, {'coeff': 87, 'attr': 'abs'}, {'coeff': 88, 'attr': 'abs'}, {'coeff': 89, 'attr': 'abs'}, {'coeff': 90, 'attr': 'abs'}, {'coeff': 91, 'attr': 'abs'}, {'coeff': 92, 'attr': 'abs'}, {'coeff': 93, 'attr': 'abs'}, {'coeff': 94, 'attr': 'abs'}, {'coeff': 95, 'attr': 'abs'}, {'coeff': 96, 'attr': 'abs'}, {'coeff': 97, 'attr': 'abs'}, {'coeff': 98, 'attr': 'abs'}, {'coeff': 99, 'attr': 'abs'}, {'coeff': 0, 'attr': 'angle'}, {'coeff': 1, 'attr': 'angle'}, {'coeff': 2, 'attr': 'angle'}, {'coeff': 3, 'attr': 'angle'}, {'coeff': 4, 'attr': 'angle'}, {'coeff': 5, 'attr': 'angle'}, {'coeff': 6, 'attr': 'angle'}, {'coeff': 7, 'attr': 'angle'}, {'coeff': 8, 'attr': 'angle'}, {'coeff': 9, 'attr': 'angle'}, {'coeff': 10, 'attr': 'angle'}, {'coeff': 11, 'attr': 'angle'}, {'coeff': 12, 'attr': 'angle'}, {'coeff': 13, 'attr': 'angle'}, {'coeff': 14, 'attr': 'angle'}, {'coeff': 15, 'attr': 'angle'}, {'coeff': 16, 'attr': 'angle'}, {'coeff': 17, 'attr': 'angle'}, {'coeff': 18, 'attr': 'angle'}, {'coeff': 19, 'attr': 'angle'}, {'coeff': 20, 'attr': 'angle'}, {'coeff': 21, 'attr': 'angle'}, {'coeff': 22, 'attr': 'angle'}, {'coeff': 23, 'attr': 'angle'}, {'coeff': 24, 'attr': 'angle'}, {'coeff': 25, 'attr': 'angle'}, {'coeff': 26, 'attr': 'angle'}, {'coeff': 27, 'attr': 'angle'}, {'coeff': 28, 'attr': 'angle'}, {'coeff': 29, 'attr': 'angle'}, {'coeff': 30, 'attr': 'angle'}, {'coeff': 31, 'attr': 'angle'}, {'coeff': 32, 'attr': 'angle'}, {'coeff': 33, 'attr': 'angle'}, {'coeff': 34, 'attr': 'angle'}, {'coeff': 35, 'attr': 'angle'}, {'coeff': 36, 'attr': 'angle'}, {'coeff': 37, 'attr': 'angle'}, {'coeff': 38, 'attr': 'angle'}, {'coeff': 39, 'attr': 'angle'}, {'coeff': 40, 'attr': 'angle'}, {'coeff': 41, 'attr': 'angle'}, {'coeff': 42, 'attr': 'angle'}, {'coeff': 43, 'attr': 'angle'}, {'coeff': 44, 'attr': 'angle'}, {'coeff': 45, 'attr': 'angle'}, {'coeff': 46, 'attr': 'angle'}, {'coeff': 47, 'attr': 'angle'}, {'coeff': 48, 'attr': 'angle'}, {'coeff': 49, 'attr': 'angle'}, {'coeff': 50, 'attr': 'angle'}, {'coeff': 51, 'attr': 'angle'}, {'coeff': 52, 'attr': 'angle'}, {'coeff': 53, 'attr': 'angle'}, {'coeff': 54, 'attr': 'angle'}, {'coeff': 55, 'attr': 'angle'}, {'coeff': 56, 'attr': 'angle'}, {'coeff': 57, 'attr': 'angle'}, {'coeff': 58, 'attr': 'angle'}, {'coeff': 59, 'attr': 'angle'}, {'coeff': 60, 'attr': 'angle'}, {'coeff': 61, 'attr': 'angle'}, {'coeff': 62, 'attr': 'angle'}, {'coeff': 63, 'attr': 'angle'}, {'coeff': 64, 'attr': 'angle'}, {'coeff': 65, 'attr': 'angle'}, {'coeff': 66, 'attr': 'angle'}, {'coeff': 67, 'attr': 'angle'}, {'coeff': 68, 'attr': 'angle'}, {'coeff': 69, 'attr': 'angle'}, {'coeff': 70, 'attr': 'angle'}, {'coeff': 71, 'attr': 'angle'}, {'coeff': 72, 'attr': 'angle'}, {'coeff': 73, 'attr': 'angle'}, {'coeff': 74, 'attr': 'angle'}, {'coeff': 75, 'attr': 'angle'}, {'coeff': 76, 'attr': 'angle'}, {'coeff': 77, 'attr': 'angle'}, {'coeff': 78, 'attr': 'angle'}, {'coeff': 79, 'attr': 'angle'}, {'coeff': 80, 'attr': 'angle'}, {'coeff': 81, 'attr': 'angle'}, {'coeff': 82, 'attr': 'angle'}, {'coeff': 83, 'attr': 'angle'}, {'coeff': 84, 'attr': 'angle'}, {'coeff': 85, 'attr': 'angle'}, {'coeff': 86, 'attr': 'angle'}, {'coeff': 87, 'attr': 'angle'}, {'coeff': 88, 'attr': 'angle'}, {'coeff': 89, 'attr': 'angle'}, {'coeff': 90, 'attr': 'angle'}, {'coeff': 91, 'attr': 'angle'}, {'coeff': 92, 'attr': 'angle'}, {'coeff': 93, 'attr': 'angle'}, {'coeff': 94, 'attr': 'angle'}, {'coeff': 95, 'attr': 'angle'}, {'coeff': 96, 'attr': 'angle'}, {'coeff': 97, 'attr': 'angle'}, {'coeff': 98, 'attr': 'angle'}, {'coeff': 99, 'attr': 'angle'}]\n",
      "\n",
      "fft_aggregated [{'aggtype': 'centroid'}, {'aggtype': 'variance'}, {'aggtype': 'skew'}, {'aggtype': 'kurtosis'}]\n",
      "\n",
      "value_count [{'value': 0}, {'value': 1}, {'value': -1}]\n",
      "\n",
      "range_count [{'min': -1, 'max': 1}, {'min': 1000000000000.0, 'max': 0}, {'min': 0, 'max': 1000000000000.0}]\n",
      "\n",
      "approximate_entropy [{'m': 2, 'r': 0.1}, {'m': 2, 'r': 0.3}, {'m': 2, 'r': 0.5}, {'m': 2, 'r': 0.7}, {'m': 2, 'r': 0.9}]\n",
      "\n",
      "friedrich_coefficients [{'coeff': 0, 'm': 3, 'r': 30}, {'coeff': 1, 'm': 3, 'r': 30}, {'coeff': 2, 'm': 3, 'r': 30}, {'coeff': 3, 'm': 3, 'r': 30}]\n",
      "\n",
      "max_langevin_fixed_point [{'m': 3, 'r': 30}]\n",
      "\n",
      "linear_trend [{'attr': 'pvalue'}, {'attr': 'rvalue'}, {'attr': 'intercept'}, {'attr': 'slope'}, {'attr': 'stderr'}]\n",
      "\n",
      "agg_linear_trend [{'attr': 'rvalue', 'chunk_len': 5, 'f_agg': 'max'}, {'attr': 'rvalue', 'chunk_len': 5, 'f_agg': 'min'}, {'attr': 'rvalue', 'chunk_len': 5, 'f_agg': 'mean'}, {'attr': 'rvalue', 'chunk_len': 5, 'f_agg': 'var'}, {'attr': 'rvalue', 'chunk_len': 10, 'f_agg': 'max'}, {'attr': 'rvalue', 'chunk_len': 10, 'f_agg': 'min'}, {'attr': 'rvalue', 'chunk_len': 10, 'f_agg': 'mean'}, {'attr': 'rvalue', 'chunk_len': 10, 'f_agg': 'var'}, {'attr': 'rvalue', 'chunk_len': 50, 'f_agg': 'max'}, {'attr': 'rvalue', 'chunk_len': 50, 'f_agg': 'min'}, {'attr': 'rvalue', 'chunk_len': 50, 'f_agg': 'mean'}, {'attr': 'rvalue', 'chunk_len': 50, 'f_agg': 'var'}, {'attr': 'intercept', 'chunk_len': 5, 'f_agg': 'max'}, {'attr': 'intercept', 'chunk_len': 5, 'f_agg': 'min'}, {'attr': 'intercept', 'chunk_len': 5, 'f_agg': 'mean'}, {'attr': 'intercept', 'chunk_len': 5, 'f_agg': 'var'}, {'attr': 'intercept', 'chunk_len': 10, 'f_agg': 'max'}, {'attr': 'intercept', 'chunk_len': 10, 'f_agg': 'min'}, {'attr': 'intercept', 'chunk_len': 10, 'f_agg': 'mean'}, {'attr': 'intercept', 'chunk_len': 10, 'f_agg': 'var'}, {'attr': 'intercept', 'chunk_len': 50, 'f_agg': 'max'}, {'attr': 'intercept', 'chunk_len': 50, 'f_agg': 'min'}, {'attr': 'intercept', 'chunk_len': 50, 'f_agg': 'mean'}, {'attr': 'intercept', 'chunk_len': 50, 'f_agg': 'var'}, {'attr': 'slope', 'chunk_len': 5, 'f_agg': 'max'}, {'attr': 'slope', 'chunk_len': 5, 'f_agg': 'min'}, {'attr': 'slope', 'chunk_len': 5, 'f_agg': 'mean'}, {'attr': 'slope', 'chunk_len': 5, 'f_agg': 'var'}, {'attr': 'slope', 'chunk_len': 10, 'f_agg': 'max'}, {'attr': 'slope', 'chunk_len': 10, 'f_agg': 'min'}, {'attr': 'slope', 'chunk_len': 10, 'f_agg': 'mean'}, {'attr': 'slope', 'chunk_len': 10, 'f_agg': 'var'}, {'attr': 'slope', 'chunk_len': 50, 'f_agg': 'max'}, {'attr': 'slope', 'chunk_len': 50, 'f_agg': 'min'}, {'attr': 'slope', 'chunk_len': 50, 'f_agg': 'mean'}, {'attr': 'slope', 'chunk_len': 50, 'f_agg': 'var'}, {'attr': 'stderr', 'chunk_len': 5, 'f_agg': 'max'}, {'attr': 'stderr', 'chunk_len': 5, 'f_agg': 'min'}, {'attr': 'stderr', 'chunk_len': 5, 'f_agg': 'mean'}, {'attr': 'stderr', 'chunk_len': 5, 'f_agg': 'var'}, {'attr': 'stderr', 'chunk_len': 10, 'f_agg': 'max'}, {'attr': 'stderr', 'chunk_len': 10, 'f_agg': 'min'}, {'attr': 'stderr', 'chunk_len': 10, 'f_agg': 'mean'}, {'attr': 'stderr', 'chunk_len': 10, 'f_agg': 'var'}, {'attr': 'stderr', 'chunk_len': 50, 'f_agg': 'max'}, {'attr': 'stderr', 'chunk_len': 50, 'f_agg': 'min'}, {'attr': 'stderr', 'chunk_len': 50, 'f_agg': 'mean'}, {'attr': 'stderr', 'chunk_len': 50, 'f_agg': 'var'}]\n",
      "\n",
      "augmented_dickey_fuller [{'attr': 'teststat'}, {'attr': 'pvalue'}, {'attr': 'usedlag'}]\n",
      "\n",
      "number_crossing_m [{'m': 0}, {'m': -1}, {'m': 1}]\n",
      "\n",
      "energy_ratio_by_chunks [{'num_segments': 10, 'segment_focus': 0}, {'num_segments': 10, 'segment_focus': 1}, {'num_segments': 10, 'segment_focus': 2}, {'num_segments': 10, 'segment_focus': 3}, {'num_segments': 10, 'segment_focus': 4}, {'num_segments': 10, 'segment_focus': 5}, {'num_segments': 10, 'segment_focus': 6}, {'num_segments': 10, 'segment_focus': 7}, {'num_segments': 10, 'segment_focus': 8}, {'num_segments': 10, 'segment_focus': 9}]\n",
      "\n",
      "ratio_beyond_r_sigma [{'r': 0.5}, {'r': 1}, {'r': 1.5}, {'r': 2}, {'r': 2.5}, {'r': 3}, {'r': 5}, {'r': 6}, {'r': 7}, {'r': 10}]\n",
      "\n"
     ]
    }
   ],
   "source": [
    "for k, v in ComprehensiveFCParameters().items():\n",
    "    print(k, v)\n",
    "    print()"
   ]
  },
  {
   "cell_type": "code",
   "execution_count": 1,
   "metadata": {},
   "outputs": [
    {
     "data": {
      "text/html": [
       "<style>\n",
       "   div#notebook-container    { width: 95%; }\n",
       "   div#menubar-container     { width: 65%; }\n",
       "   div#maintoolbar-container { width: 99%; }\n",
       "</style>"
      ],
      "text/plain": [
       "<IPython.core.display.HTML object>"
      ]
     },
     "metadata": {},
     "output_type": "display_data"
    }
   ],
   "source": [
    "%%HTML\n",
    "<style>\n",
    "   div#notebook-container    { width: 95%; }\n",
    "   div#menubar-container     { width: 65%; }\n",
    "   div#maintoolbar-container { width: 99%; }\n",
    "</style>"
   ]
  },
  {
   "cell_type": "code",
   "execution_count": 3,
   "metadata": {
    "collapsed": true
   },
   "outputs": [],
   "source": [
    "df = pd.read_csv('data/train.csv', dtype={'acoustic_data': np.float64, 'time_to_failure': np.float64})"
   ]
  },
  {
   "cell_type": "code",
   "execution_count": 7,
   "metadata": {},
   "outputs": [
    {
     "data": {
      "text/plain": [
       "array([  5656574,  50085878, 104677356, 138772453, 187641820, 218652630,\n",
       "       245829585, 307838917, 338276287, 375377848, 419368880, 461811623,\n",
       "       495800225, 528777115, 585568144, 621985673])"
      ]
     },
     "execution_count": 7,
     "metadata": {},
     "output_type": "execute_result"
    }
   ],
   "source": [
    "np.where(df['time_to_failure'].diff()>0)[0]"
   ]
  },
  {
   "cell_type": "code",
   "execution_count": 17,
   "metadata": {
    "collapsed": true
   },
   "outputs": [],
   "source": [
    "st_idx = np.array([0,  5656574,  50085878, 104677356, 138772453, 187641820, 218652630,\n",
    "       245829585, 307838917, 338276287, 375377848, 419368880, 461811623,\n",
    "       495800225, 528777115, 585568144, 621985673])"
   ]
  },
  {
   "cell_type": "code",
   "execution_count": 19,
   "metadata": {
    "collapsed": true
   },
   "outputs": [],
   "source": [
    "end_idx = np.array([5656574,  50085878, 104677356, 138772453, 187641820, 218652630,\n",
    "       245829585, 307838917, 338276287, 375377848, 419368880, 461811623,\n",
    "       495800225, 528777115, 585568144, 621985673, 629145480])-1"
   ]
  },
  {
   "cell_type": "code",
   "execution_count": 20,
   "metadata": {},
   "outputs": [
    {
     "data": {
      "text/plain": [
       "<matplotlib.axes._subplots.AxesSubplot at 0x7fd99d0f5208>"
      ]
     },
     "execution_count": 20,
     "metadata": {},
     "output_type": "execute_result"
    },
    {
     "data": {
      "image/png": "[encoded data removed]",
      "text/plain": [
       "<Figure size 1800x360 with 1 Axes>"
      ]
     },
     "metadata": {},
     "output_type": "display_data"
    }
   ],
   "source": [
    "plt.figure(figsize=(25,5))\n",
    "sns.lineplot(x=np.arange(df.shape[0])[::150000], y=df['time_to_failure'].values[::150000])\n",
    "sns.lineplot(x=st_idx, y=df['time_to_failure'].values[st_idx])\n",
    "sns.lineplot(x=end_idx, y=df['time_to_failure'].values[end_idx])"
   ]
  },
  {
   "cell_type": "code",
   "execution_count": 50,
   "metadata": {
    "collapsed": true
   },
   "outputs": [],
   "source": [
    "def add_trend_feature(arr, abs_values=False):\n",
    "    idx = np.array(range(len(arr)))\n",
    "    if abs_values:\n",
    "        arr = np.abs(arr)\n",
    "    lr = LinearRegression()\n",
    "    lr.fit(idx.reshape(-1, 1), arr)\n",
    "    return lr.coef_[0]\n",
    "\n",
    "def classic_sta_lta(x, length_sta, length_lta):\n",
    "    \n",
    "    sta = np.cumsum(x ** 2)\n",
    "\n",
    "    # Convert to float\n",
    "    sta = np.require(sta, dtype=np.float)\n",
    "\n",
    "    # Copy for LTA\n",
    "    lta = sta.copy()\n",
    "\n",
    "    # Compute the STA and the LTA\n",
    "    sta[length_sta:] = sta[length_sta:] - sta[:-length_sta]\n",
    "    sta /= length_sta\n",
    "    lta[length_lta:] = lta[length_lta:] - lta[:-length_lta]\n",
    "    lta /= length_lta\n",
    "\n",
    "    # Pad zeros\n",
    "    sta[:length_lta - 1] = 0\n",
    "\n",
    "    # Avoid division by zero by setting zero values to tiny float\n",
    "    dtiny = np.finfo(0.0).tiny\n",
    "    idx = lta < dtiny\n",
    "    lta[idx] = dtiny\n",
    "\n",
    "    return sta / lta\n",
    "\n",
    "def calc_change_rate(x):\n",
    "    change = (np.diff(x) / x[:-1]).values\n",
    "    change = change[np.nonzero(change)[0]]\n",
    "    change = change[~np.isnan(change)]\n",
    "    change = change[change != -np.inf]\n",
    "    change = change[change != np.inf]\n",
    "    return np.mean(change)\n",
    "\n",
    "def rms_(X):\n",
    "    return np.sqrt(np.mean(np.power(X,2)))\n",
    "\n",
    "# relation with len\n",
    "def rssq_(X):\n",
    "    return np.sum(np.power(X,2))\n",
    "\n",
    "def crest_factor_(X):\n",
    "    return abs(max(X, key=abs))/(np.sqrt(np.mean(X**2)))\n",
    "\n",
    "def peak_peak_amp_(X):\n",
    "    return abs(max(X, key=abs)) - abs(min(X, key=abs))\n",
    "\n",
    "def clearance_factor_(X):\n",
    "    return abs(max(X, key=abs))/(np.mean(np.sqrt(abs(X)))**2)\n",
    "\n",
    "def impluse_indicator_(X):\n",
    "    return abs(max(X, key=abs))/(np.mean(abs(X)))\n",
    "\n",
    "\n",
    "def impulse_factor_(X):\n",
    "    return  peak_peak_amp_(X)/2/(np.sum(np.abs(X)) / len(X))\n",
    "\n",
    "# 3rd moment\n",
    "def skewness_(X):\n",
    "    return scipy.stats.skew(X)\n",
    "\n",
    "def kurtosis_(X):\n",
    "    return scipy.stats.kurtosis(X)\n",
    "\n",
    "def mean_(X):\n",
    "    return np.mean(X)\n",
    "\n",
    "def median_(X):\n",
    "    return np.median(X)\n",
    "\n",
    "def max_(X):\n",
    "    return np.max(X)\n",
    "\n",
    "def min_(X):\n",
    "    return np.min(X)\n",
    "\n",
    "def std_(X):\n",
    "    return np.std(X)\n",
    "\n",
    "def variance_(X):\n",
    "    return np.var(X)\n",
    "\n",
    "# relation with len\n",
    "def entropy_(X):\n",
    "    return scipy.stats.entropy(X)\n",
    "\n",
    "def form_factor_(X):\n",
    "    return rms_(X) / np.mean(np.abs(X))\n",
    "\n",
    "# def moment_(X, moment):\n",
    "#     return stats.moment(X, moment)\n",
    "\n",
    "# relation with len\n",
    "def no_zero_crossing_(X):\n",
    "    return (np.diff(np.sign(X)) != 0).sum()\n",
    "\n",
    "def peak_to_average_power_ratio_(X):\n",
    "    return np.power(crest_factor_(X), 2)\n",
    "\n",
    "def smoothness_(X):\n",
    "    return 1 - 1 / (1 + np.power(std_(X), 2))\n",
    "\n",
    "def quantile99(X):\n",
    "    return np.quantile(X, 0.99)\n",
    "\n",
    "def quantile95(X):\n",
    "    return np.quantile(X, 0.95)\n",
    "\n",
    "def quantile75(X):\n",
    "    return np.quantile(X, 0.75)\n",
    "\n",
    "def quantile25(X):\n",
    "    return np.quantile(X, 0.25)\n",
    "\n",
    "def quantile05(X):\n",
    "    return np.quantile(X, 0.05)\n",
    "\n",
    "def quantile01(X):\n",
    "    return np.quantile(X, 0.01)\n",
    "\n",
    "# def v_order(X, degree):\n",
    "#     return np.power(np.sum(np.power(abs(X), degree))/len(data), 1/degree)\n",
    "\n",
    "funcs = [rms_,rssq_,crest_factor_,peak_peak_amp_,\n",
    "         clearance_factor_,impluse_indicator_,impulse_factor_,skewness_, kurtosis_, mean_, median_, max_, min_, std_, variance_, entropy_, mean_, \n",
    "         form_factor_,no_zero_crossing_,peak_to_average_power_ratio_,smoothness_,\n",
    "        quantile99, quantile95, quantile75, quantile25, quantile05, quantile01]\n",
    "\n",
    "CUTOFF = 18000\n",
    "NY_FREQ_IDX = 75000\n",
    "MAX_FREQ_IDX = 20000\n",
    "FREQ_STEP = 2500\n",
    "def des_bw_filter_lp(cutoff=CUTOFF):  # low pass filter\n",
    "    b, a = sg.butter(4, Wn=cutoff/NY_FREQ_IDX)\n",
    "    return b, a\n",
    "\n",
    "def des_bw_filter_hp(cutoff=CUTOFF):  # high pass filter\n",
    "    b, a = sg.butter(4, Wn=cutoff/NY_FREQ_IDX, btype='highpass')\n",
    "    return b, a\n",
    "\n",
    "def des_bw_filter_bp(low, high):  # band pass filter\n",
    "    b, a = sg.butter(4, Wn=(low/NY_FREQ_IDX, high/NY_FREQ_IDX), btype='bandpass')\n",
    "    return b, a"
   ]
  },
  {
   "cell_type": "code",
   "execution_count": 32,
   "metadata": {
    "collapsed": true
   },
   "outputs": [],
   "source": [
    "def extract_kaggle_features(x):\n",
    "    \n",
    "    df_features = pd.DataFrame()\n",
    "    segment = 0\n",
    "    \n",
    "    for func in funcs:\n",
    "        df_features.loc[segment, '{}'.format(func.__name__)] = func(x)\n",
    "    \n",
    "    for windows in [5000]:\n",
    "        particle_feats = []\n",
    "        splited_x = x.values.reshape(-1, windows)\n",
    "        for particle in list(splited_x):\n",
    "            dct = {}\n",
    "            for func in funcs:\n",
    "                dct['{}{}'.format(windows, func.__name__)] = func(particle)\n",
    "            particle_feats.append(dct)\n",
    "        df_particle_feats = pd.DataFrame(particle_feats)\n",
    "        for col in  df_particle_feats.columns:\n",
    "            for func in funcs:\n",
    "                df_features.loc[segment, '{}{}'.format(col, func.__name__)] = func(df_particle_feats[col].values)\n",
    "        \n",
    "    df_features.loc[segment, 'mean'] = x.mean()\n",
    "    df_features.loc[segment, 'std'] = x.std()\n",
    "    df_features.loc[segment, 'max'] = x.max()\n",
    "    df_features.loc[segment, 'min'] = x.min()\n",
    "    \n",
    "    df_features.loc[segment, 'mean_change_abs'] = np.mean(np.diff(x))\n",
    "    df_features.loc[segment, 'mean_change_rate'] = calc_change_rate(x)\n",
    "    df_features.loc[segment, 'abs_max'] = np.abs(x).max()\n",
    "    df_features.loc[segment, 'abs_min'] = np.abs(x).min()\n",
    "    \n",
    "    df_features.loc[segment, 'std_first_50000'] = x[:50000].std()\n",
    "    df_features.loc[segment, 'std_last_50000'] = x[-50000:].std()\n",
    "    df_features.loc[segment, 'std_first_10000'] = x[:10000].std()\n",
    "    df_features.loc[segment, 'std_last_10000'] = x[-10000:].std()\n",
    "    \n",
    "    df_features.loc[segment, 'avg_first_50000'] = x[:50000].mean()\n",
    "    df_features.loc[segment, 'avg_last_50000'] = x[-50000:].mean()\n",
    "    df_features.loc[segment, 'avg_first_10000'] = x[:10000].mean()\n",
    "    df_features.loc[segment, 'avg_last_10000'] = x[-10000:].mean()\n",
    "    \n",
    "    df_features.loc[segment, 'min_first_50000'] = x[:50000].min()\n",
    "    df_features.loc[segment, 'min_last_50000'] = x[-50000:].min()\n",
    "    df_features.loc[segment, 'min_first_10000'] = x[:10000].min()\n",
    "    df_features.loc[segment, 'min_last_10000'] = x[-10000:].min()\n",
    "    \n",
    "    df_features.loc[segment, 'max_first_50000'] = x[:50000].max()\n",
    "    df_features.loc[segment, 'max_last_50000'] = x[-50000:].max()\n",
    "    df_features.loc[segment, 'max_first_10000'] = x[:10000].max()\n",
    "    df_features.loc[segment, 'max_last_10000'] = x[-10000:].max()\n",
    "    \n",
    "    df_features.loc[segment, 'max_to_min'] = x.max() / np.abs(x.min())\n",
    "    df_features.loc[segment, 'max_to_min_diff'] = x.max() - np.abs(x.min())\n",
    "    df_features.loc[segment, 'count_big'] = len(x[np.abs(x) > 500])\n",
    "    df_features.loc[segment, 'sum'] = x.sum()\n",
    "    \n",
    "    df_features.loc[segment, 'mean_change_rate_first_50000'] = calc_change_rate(x[:50000])\n",
    "    df_features.loc[segment, 'mean_change_rate_last_50000'] = calc_change_rate(x[-50000:])\n",
    "    df_features.loc[segment, 'mean_change_rate_first_10000'] = calc_change_rate(x[:10000])\n",
    "    df_features.loc[segment, 'mean_change_rate_last_10000'] = calc_change_rate(x[-10000:])\n",
    "    \n",
    "    df_features.loc[segment, 'q95'] = np.quantile(x,0.95)\n",
    "    df_features.loc[segment, 'q99'] = np.quantile(x,0.99)\n",
    "    df_features.loc[segment, 'q05'] = np.quantile(x,0.05)\n",
    "    df_features.loc[segment, 'q01'] = np.quantile(x,0.01)\n",
    "    \n",
    "    df_features.loc[segment, 'abs_q95'] = np.quantile(np.abs(x), 0.95)\n",
    "    df_features.loc[segment, 'abs_q99'] = np.quantile(np.abs(x), 0.99)\n",
    "    df_features.loc[segment, 'abs_q05'] = np.quantile(np.abs(x), 0.05)\n",
    "    df_features.loc[segment, 'abs_q01'] = np.quantile(np.abs(x), 0.01)\n",
    "    \n",
    "    df_features.loc[segment, 'trend'] = add_trend_feature(x)\n",
    "    df_features.loc[segment, 'abs_trend'] = add_trend_feature(x, abs_values=True)\n",
    "    df_features.loc[segment, 'abs_mean'] = np.abs(x).mean()\n",
    "    df_features.loc[segment, 'abs_std'] = np.abs(x).std()\n",
    "    \n",
    "#     df_features.loc[segment, 'mad'] = x.mad()\n",
    "#     df_features.loc[segment, 'kurt'] = x.kurtosis()\n",
    "#     df_features.loc[segment, 'skew'] = x.skew()\n",
    "#     df_features.loc[segment, 'med'] = x.median()\n",
    "    \n",
    "    df_features.loc[segment, 'Hilbert_mean'] = np.abs(hilbert(x)).mean()\n",
    "    df_features.loc[segment, 'Hann_window_mean'] = (convolve(x, hann(150), mode='same') / sum(hann(150))).mean()\n",
    "    df_features.loc[segment, 'classic_sta_lta1_mean'] = classic_sta_lta(x, 500, 10000).mean()\n",
    "    df_features.loc[segment, 'classic_sta_lta2_mean'] = classic_sta_lta(x, 5000, 100000).mean()\n",
    "    df_features.loc[segment, 'classic_sta_lta3_mean'] = classic_sta_lta(x, 3333, 6666).mean()\n",
    "    df_features.loc[segment, 'classic_sta_lta4_mean'] = classic_sta_lta(x, 10000, 25000).mean()\n",
    "    df_features.loc[segment, 'classic_sta_lta5_mean'] = classic_sta_lta(x, 50, 1000).mean()\n",
    "    df_features.loc[segment, 'classic_sta_lta6_mean'] = classic_sta_lta(x, 100, 5000).mean()\n",
    "    df_features.loc[segment, 'classic_sta_lta7_mean'] = classic_sta_lta(x, 333, 666).mean()\n",
    "    df_features.loc[segment, 'classic_sta_lta8_mean'] = classic_sta_lta(x, 4000, 10000).mean()\n",
    "    df_features.loc[segment, 'Moving_average_700_mean'] = x.rolling(window=700).mean().mean(skipna=True)\n",
    "    \n",
    "    ewma = pd.Series.ewm\n",
    "    df_features.loc[segment, 'exp_Moving_average_300_mean'] = (ewma(x, span=300).mean()).mean(skipna=True)\n",
    "    df_features.loc[segment, 'exp_Moving_average_3000_mean'] = ewma(x, span=3000).mean().mean(skipna=True)\n",
    "    df_features.loc[segment, 'exp_Moving_average_30000_mean'] = ewma(x, span=6000).mean().mean(skipna=True)\n",
    "    \n",
    "    no_of_std = 3\n",
    "    df_features.loc[segment, 'MA_700MA_std_mean'] = x.rolling(window=700).std().mean()\n",
    "    df_features.loc[segment,'MA_700MA_BB_high_mean'] = (df_features.loc[segment, 'Moving_average_700_mean'] + no_of_std * df_features.loc[segment, 'MA_700MA_std_mean']).mean()\n",
    "    df_features.loc[segment,'MA_700MA_BB_low_mean'] = (df_features.loc[segment, 'Moving_average_700_mean'] - no_of_std * df_features.loc[segment, 'MA_700MA_std_mean']).mean()\n",
    "    df_features.loc[segment, 'MA_400MA_std_mean'] = x.rolling(window=400).std().mean()\n",
    "    df_features.loc[segment,'MA_400MA_BB_high_mean'] = (df_features.loc[segment, 'Moving_average_700_mean'] + no_of_std * df_features.loc[segment, 'MA_400MA_std_mean']).mean()\n",
    "    df_features.loc[segment,'MA_400MA_BB_low_mean'] = (df_features.loc[segment, 'Moving_average_700_mean'] - no_of_std * df_features.loc[segment, 'MA_400MA_std_mean']).mean()\n",
    "    df_features.loc[segment, 'MA_1000MA_std_mean'] = x.rolling(window=1000).std().mean()\n",
    "    df_features.drop('Moving_average_700_mean', axis=1, inplace=True)\n",
    "    \n",
    "    df_features.loc[segment, 'iqr'] = np.subtract(*np.percentile(x, [75, 25]))\n",
    "    df_features.loc[segment, 'q999'] = np.quantile(x,0.999)\n",
    "    df_features.loc[segment, 'q001'] = np.quantile(x,0.001)\n",
    "    df_features.loc[segment, 'ave10'] = stats.trim_mean(x, 0.1)\n",
    "    \n",
    "    for windows in [10, 100, 1000]:\n",
    "        x_roll_std = x.rolling(windows).std().dropna().values\n",
    "        x_roll_mean = x.rolling(windows).mean().dropna().values\n",
    "        \n",
    "        df_features.loc[segment, 'ave_roll_std_' + str(windows)] = x_roll_std.mean()\n",
    "        df_features.loc[segment, 'std_roll_std_' + str(windows)] = x_roll_std.std()\n",
    "        df_features.loc[segment, 'max_roll_std_' + str(windows)] = x_roll_std.max()\n",
    "        df_features.loc[segment, 'min_roll_std_' + str(windows)] = x_roll_std.min()\n",
    "        df_features.loc[segment, 'q01_roll_std_' + str(windows)] = np.quantile(x_roll_std, 0.01)\n",
    "        df_features.loc[segment, 'q05_roll_std_' + str(windows)] = np.quantile(x_roll_std, 0.05)\n",
    "        df_features.loc[segment, 'q25_roll_std_' + str(windows)] = np.quantile(x_roll_std, 0.25)\n",
    "        df_features.loc[segment, 'q75_roll_std_' + str(windows)] = np.quantile(x_roll_std, 0.75)\n",
    "        df_features.loc[segment, 'q95_roll_std_' + str(windows)] = np.quantile(x_roll_std, 0.95)\n",
    "        df_features.loc[segment, 'q99_roll_std_' + str(windows)] = np.quantile(x_roll_std, 0.99)\n",
    "        df_features.loc[segment, 'av_change_abs_roll_std_' + str(windows)] = np.mean(np.diff(x_roll_std))\n",
    "        df_features.loc[segment, 'av_change_rate_roll_std_' + str(windows)] = np.mean(np.nonzero((np.diff(x_roll_std) / x_roll_std[:-1]))[0])\n",
    "        df_features.loc[segment, 'abs_max_roll_std_' + str(windows)] = np.abs(x_roll_std).max()\n",
    "        \n",
    "        df_features.loc[segment, 'ave_roll_mean_' + str(windows)] = x_roll_mean.mean()\n",
    "        df_features.loc[segment, 'std_roll_mean_' + str(windows)] = x_roll_mean.std()\n",
    "        df_features.loc[segment, 'max_roll_mean_' + str(windows)] = x_roll_mean.max()\n",
    "        df_features.loc[segment, 'min_roll_mean_' + str(windows)] = x_roll_mean.min()\n",
    "        df_features.loc[segment, 'q01_roll_mean_' + str(windows)] = np.quantile(x_roll_mean, 0.01)\n",
    "        df_features.loc[segment, 'q05_roll_mean_' + str(windows)] = np.quantile(x_roll_mean, 0.05)\n",
    "        df_features.loc[segment, 'q25_roll_mean_' + str(windows)] = np.quantile(x_roll_mean, 0.25)\n",
    "        df_features.loc[segment, 'q75_roll_mean_' + str(windows)] = np.quantile(x_roll_mean, 0.75)\n",
    "        df_features.loc[segment, 'q95_roll_mean_' + str(windows)] = np.quantile(x_roll_mean, 0.95)\n",
    "        df_features.loc[segment, 'q99_roll_mean_' + str(windows)] = np.quantile(x_roll_mean, 0.99)\n",
    "        df_features.loc[segment, 'av_change_abs_roll_mean_' + str(windows)] = np.mean(np.diff(x_roll_mean))\n",
    "        df_features.loc[segment, 'av_change_rate_roll_mean_' + str(windows)] = np.mean(np.nonzero((np.diff(x_roll_mean) / x_roll_mean[:-1]))[0])\n",
    "        df_features.loc[segment, 'abs_max_roll_mean_' + str(windows)] = np.abs(x_roll_mean).max()\n",
    "        \n",
    "        for func in funcs:\n",
    "            df_features.loc[segment, '{}{}'.format(func.__name__, '_roll_std')] = func(x_roll_std)\n",
    "            df_features.loc[segment, '{}{}'.format(func.__name__, '_roll_mean')] = func(x_roll_mean)\n",
    "\n",
    "    return df_features.iloc[0].T.to_dict()"
   ]
  },
  {
   "cell_type": "code",
   "execution_count": 63,
   "metadata": {
    "collapsed": true
   },
   "outputs": [],
   "source": [
    "def extract_kaggle_features2(seg):\n",
    "    \n",
    "    df_features = pd.DataFrame()\n",
    "    seg_id = 0\n",
    "\n",
    "    df_featuresc = pd.Series(seg)\n",
    "    df_featurescdm = df_featuresc - np.mean(df_featuresc)\n",
    "\n",
    "    b, a = des_bw_filter_lp(cutoff=18000)\n",
    "    df_featurescz = sg.lfilter(b, a, df_featurescdm)\n",
    "\n",
    "    zc = np.fft.fft(df_featurescz)\n",
    "    zc = zc[:MAX_FREQ_IDX]\n",
    "\n",
    "    # FFT transform values\n",
    "    realFFT = np.real(zc)\n",
    "    imagFFT = np.imag(zc)\n",
    "\n",
    "    freq_bands = [df_features for df_features in range(0, MAX_FREQ_IDX, FREQ_STEP)]\n",
    "    magFFT = np.sqrt(realFFT ** 2 + imagFFT ** 2)\n",
    "    phzFFT = np.arctan(imagFFT / realFFT)\n",
    "    phzFFT[phzFFT == -np.inf] = -np.pi / 2.0\n",
    "    phzFFT[phzFFT == np.inf] = np.pi / 2.0\n",
    "    phzFFT = np.nan_to_num(phzFFT)\n",
    "\n",
    "    for freq in freq_bands:\n",
    "        df_features.loc[seg_id, 'FFT_Mag_01q%d' % freq] = np.quantile(magFFT[freq: freq + FREQ_STEP], 0.01)\n",
    "        df_features.loc[seg_id, 'FFT_Mag_05q%d' % freq] = np.quantile(magFFT[freq: freq + FREQ_STEP], 0.05)\n",
    "        df_features.loc[seg_id, 'FFT_Mag_10q%d' % freq] = np.quantile(magFFT[freq: freq + FREQ_STEP], 0.1)\n",
    "        df_features.loc[seg_id, 'FFT_Mag_25q%d' % freq] = np.quantile(magFFT[freq: freq + FREQ_STEP], 0.25)\n",
    "        df_features.loc[seg_id, 'FFT_Mag_75q%d' % freq] = np.quantile(magFFT[freq: freq + FREQ_STEP], 0.75)\n",
    "        df_features.loc[seg_id, 'FFT_Mag_90q%d' % freq] = np.quantile(magFFT[freq: freq + FREQ_STEP], 0.9)\n",
    "        df_features.loc[seg_id, 'FFT_Mag_95q%d' % freq] = np.quantile(magFFT[freq: freq + FREQ_STEP], 0.95)\n",
    "        df_features.loc[seg_id, 'FFT_Mag_99q%d' % freq] = np.quantile(magFFT[freq: freq + FREQ_STEP], 0.99)\n",
    "        df_features.loc[seg_id, 'FFT_Mag_mean%d' % freq] = np.mean(magFFT[freq: freq + FREQ_STEP])\n",
    "        df_features.loc[seg_id, 'FFT_Mag_std%d' % freq] = np.std(magFFT[freq: freq + FREQ_STEP])\n",
    "        df_features.loc[seg_id, 'FFT_Mag_max%d' % freq] = np.max(magFFT[freq: freq + FREQ_STEP])\n",
    "\n",
    "        df_features.loc[seg_id, 'FFT_Phz_mean%d' % freq] = np.mean(phzFFT[freq: freq + FREQ_STEP])\n",
    "        df_features.loc[seg_id, 'FFT_Phz_std%d' % freq] = np.std(phzFFT[freq: freq + FREQ_STEP])\n",
    "\n",
    "    df_features.loc[seg_id, 'FFT_Rmean'] = realFFT.mean()\n",
    "    df_features.loc[seg_id, 'FFT_Rstd'] = realFFT.std()\n",
    "    df_features.loc[seg_id, 'FFT_Rmax'] = realFFT.max()\n",
    "    df_features.loc[seg_id, 'FFT_Rmin'] = realFFT.min()\n",
    "    df_features.loc[seg_id, 'FFT_Imean'] = imagFFT.mean()\n",
    "    df_features.loc[seg_id, 'FFT_Istd'] = imagFFT.std()\n",
    "    df_features.loc[seg_id, 'FFT_Imax'] = imagFFT.max()\n",
    "    df_features.loc[seg_id, 'FFT_Imin'] = imagFFT.min()\n",
    "\n",
    "    df_features.loc[seg_id, 'FFT_Rmean_first_6000'] = realFFT[:6000].mean()\n",
    "    df_features.loc[seg_id, 'FFT_Rstd__first_6000'] = realFFT[:6000].std()\n",
    "    df_features.loc[seg_id, 'FFT_Rmax_first_6000'] = realFFT[:6000].max()\n",
    "    df_features.loc[seg_id, 'FFT_Rmin_first_6000'] = realFFT[:6000].min()\n",
    "    df_features.loc[seg_id, 'FFT_Rmean_first_18000'] = realFFT[:18000].mean()\n",
    "    df_features.loc[seg_id, 'FFT_Rstd_first_18000'] = realFFT[:18000].std()\n",
    "    df_features.loc[seg_id, 'FFT_Rmax_first_18000'] = realFFT[:18000].max()\n",
    "    df_features.loc[seg_id, 'FFT_Rmin_first_18000'] = realFFT[:18000].min()\n",
    "\n",
    "    del df_featurescz\n",
    "    del zc\n",
    "\n",
    "    b, a = des_bw_filter_lp(cutoff=2500)\n",
    "    df_featuresc0 = sg.lfilter(b, a, df_featurescdm)\n",
    "\n",
    "    b, a = des_bw_filter_bp(low=2500, high=5000)\n",
    "    df_featuresc1 = sg.lfilter(b, a, df_featurescdm)\n",
    "\n",
    "    b, a = des_bw_filter_bp(low=5000, high=7500)\n",
    "    df_featuresc2 = sg.lfilter(b, a, df_featurescdm)\n",
    "\n",
    "    b, a = des_bw_filter_bp(low=7500, high=10000)\n",
    "    df_featuresc3 = sg.lfilter(b, a, df_featurescdm)\n",
    "\n",
    "    b, a = des_bw_filter_bp(low=10000, high=12500)\n",
    "    df_featuresc4 = sg.lfilter(b, a, df_featurescdm)\n",
    "\n",
    "    b, a = des_bw_filter_bp(low=12500, high=15000)\n",
    "    df_featuresc5 = sg.lfilter(b, a, df_featurescdm)\n",
    "\n",
    "    b, a = des_bw_filter_bp(low=15000, high=17500)\n",
    "    df_featuresc6 = sg.lfilter(b, a, df_featurescdm)\n",
    "\n",
    "    b, a = des_bw_filter_bp(low=17500, high=20000)\n",
    "    df_featuresc7 = sg.lfilter(b, a, df_featurescdm)\n",
    "\n",
    "    b, a = des_bw_filter_hp(cutoff=20000)\n",
    "    df_featuresc8 = sg.lfilter(b, a, df_featurescdm)\n",
    "\n",
    "    sigs = [df_featuresc, pd.Series(df_featuresc0), pd.Series(df_featuresc1), pd.Series(df_featuresc2), pd.Series(df_featuresc3),\n",
    "            pd.Series(df_featuresc4), pd.Series(df_featuresc5), pd.Series(df_featuresc6), pd.Series(df_featuresc7), pd.Series(df_featuresc8)]\n",
    "\n",
    "    for i, sig in enumerate(sigs):\n",
    "        df_features.loc[seg_id, 'mean_%d' % i] = sig.mean()\n",
    "        df_features.loc[seg_id, 'std_%d' % i] = sig.std()\n",
    "        df_features.loc[seg_id, 'max_%d' % i] = sig.max()\n",
    "        df_features.loc[seg_id, 'min_%d' % i] = sig.min()\n",
    "\n",
    "        df_features.loc[seg_id, 'mean_change_abs_%d' % i] = np.mean(np.diff(sig))\n",
    "        df_features.loc[seg_id, 'mean_change_rate_%d' % i] = np.mean(np.nonzero((np.diff(sig) / sig[:-1]))[0])\n",
    "        df_features.loc[seg_id, 'abs_max_%d' % i] = np.abs(sig).max()\n",
    "        df_features.loc[seg_id, 'abs_min_%d' % i] = np.abs(sig).min()\n",
    "\n",
    "        df_features.loc[seg_id, 'std_first_50000_%d' % i] = sig[:50000].std()\n",
    "        df_features.loc[seg_id, 'std_last_50000_%d' % i] = sig[-50000:].std()\n",
    "        df_features.loc[seg_id, 'std_first_10000_%d' % i] = sig[:10000].std()\n",
    "        df_features.loc[seg_id, 'std_last_10000_%d' % i] = sig[-10000:].std()\n",
    "\n",
    "        df_features.loc[seg_id, 'avg_first_50000_%d' % i] = sig[:50000].mean()\n",
    "        df_features.loc[seg_id, 'avg_last_50000_%d' % i] = sig[-50000:].mean()\n",
    "        df_features.loc[seg_id, 'avg_first_10000_%d' % i] = sig[:10000].mean()\n",
    "        df_features.loc[seg_id, 'avg_last_10000_%d' % i] = sig[-10000:].mean()\n",
    "\n",
    "        df_features.loc[seg_id, 'min_first_50000_%d' % i] = sig[:50000].min()\n",
    "        df_features.loc[seg_id, 'min_last_50000_%d' % i] = sig[-50000:].min()\n",
    "        df_features.loc[seg_id, 'min_first_10000_%d' % i] = sig[:10000].min()\n",
    "        df_features.loc[seg_id, 'min_last_10000_%d' % i] = sig[-10000:].min()\n",
    "\n",
    "        df_features.loc[seg_id, 'max_first_50000_%d' % i] = sig[:50000].max()\n",
    "        df_features.loc[seg_id, 'max_last_50000_%d' % i] = sig[-50000:].max()\n",
    "        df_features.loc[seg_id, 'max_first_10000_%d' % i] = sig[:10000].max()\n",
    "        df_features.loc[seg_id, 'max_last_10000_%d' % i] = sig[-10000:].max()\n",
    "\n",
    "        df_features.loc[seg_id, 'max_to_min_%d' % i] = sig.max() / np.abs(sig.min())\n",
    "        df_features.loc[seg_id, 'max_to_min_diff_%d' % i] = sig.max() - np.abs(sig.min())\n",
    "        df_features.loc[seg_id, 'count_big_%d' % i] = len(sig[np.abs(sig) > 500])\n",
    "        df_features.loc[seg_id, 'sum_%d' % i] = sig.sum()\n",
    "\n",
    "        df_features.loc[seg_id, 'mean_change_rate_first_50000_%d' % i] = np.mean(np.nonzero((np.diff(sig[:50000]) / sig[:50000][:-1]))[0])\n",
    "        df_features.loc[seg_id, 'mean_change_rate_last_50000_%d' % i] = np.mean(np.nonzero((np.diff(sig[-50000:]) / sig[-50000:][:-1]))[0])\n",
    "        df_features.loc[seg_id, 'mean_change_rate_first_10000_%d' % i] = np.mean(np.nonzero((np.diff(sig[:10000]) / sig[:10000][:-1]))[0])\n",
    "        df_features.loc[seg_id, 'mean_change_rate_last_10000_%d' % i] = np.mean(np.nonzero((np.diff(sig[-10000:]) / sig[-10000:][:-1]))[0])\n",
    "\n",
    "        df_features.loc[seg_id, 'q75_%d' % i] = np.quantile(sig, 0.75)\n",
    "        df_features.loc[seg_id, 'q95_%d' % i] = np.quantile(sig, 0.95)\n",
    "        df_features.loc[seg_id, 'q99_%d' % i] = np.quantile(sig, 0.99)\n",
    "        df_features.loc[seg_id, 'q25_%d' % i] = np.quantile(sig, 0.25)\n",
    "        df_features.loc[seg_id, 'q05_%d' % i] = np.quantile(sig, 0.05)\n",
    "        df_features.loc[seg_id, 'q01_%d' % i] = np.quantile(sig, 0.01)\n",
    "\n",
    "        df_features.loc[seg_id, 'abs_q75_%d' % i] = np.quantile(np.abs(sig), 0.75)\n",
    "        df_features.loc[seg_id, 'abs_q95_%d' % i] = np.quantile(np.abs(sig), 0.95)\n",
    "        df_features.loc[seg_id, 'abs_q99_%d' % i] = np.quantile(np.abs(sig), 0.99)\n",
    "        df_features.loc[seg_id, 'abs_q25_%d' % i] = np.quantile(np.abs(sig), 0.25)\n",
    "        df_features.loc[seg_id, 'abs_q05_%d' % i] = np.quantile(np.abs(sig), 0.05)\n",
    "        df_features.loc[seg_id, 'abs_q01_%d' % i] = np.quantile(np.abs(sig), 0.01)\n",
    "\n",
    "        df_features.loc[seg_id, 'trend_%d' % i] = add_trend_feature(sig)\n",
    "        df_features.loc[seg_id, 'abs_trend_%d' % i] = add_trend_feature(sig, abs_values=True)\n",
    "        df_features.loc[seg_id, 'abs_mean_%d' % i] = np.abs(sig).mean()\n",
    "        df_features.loc[seg_id, 'abs_std_%d' % i] = np.abs(sig).std()\n",
    "\n",
    "        df_features.loc[seg_id, 'mad_%d' % i] = sig.mad()\n",
    "        df_features.loc[seg_id, 'kurt_%d' % i] = sig.kurtosis()\n",
    "        df_features.loc[seg_id, 'skew_%d' % i] = sig.skew()\n",
    "        df_features.loc[seg_id, 'med_%d' % i] = sig.median()\n",
    "\n",
    "        df_features.loc[seg_id, 'Hilbert_mean_%d' % i] = np.abs(hilbert(sig)).mean()\n",
    "        df_features.loc[seg_id, 'Hann_window_mean2'] = (convolve(df_featuresc, hann(150), mode='same') / sum(hann(150))).mean()\n",
    "\n",
    "        df_features.loc[seg_id, 'classic_sta_lta1_mean_%d' % i] = classic_sta_lta(sig, 500, 10000).mean()\n",
    "        df_features.loc[seg_id, 'classic_sta_lta2_mean_%d' % i] = classic_sta_lta(sig, 5000, 100000).mean()\n",
    "        df_features.loc[seg_id, 'classic_sta_lta3_mean_%d' % i] = classic_sta_lta(sig, 3333, 6666).mean()\n",
    "        df_features.loc[seg_id, 'classic_sta_lta4_mean_%d' % i] = classic_sta_lta(sig, 10000, 25000).mean()\n",
    "\n",
    "        df_features.loc[seg_id, 'Moving_average_700_mean_%d' % i] = sig.rolling(window=700).mean().mean(skipna=True)\n",
    "        df_features.loc[seg_id, 'Moving_average_1500_mean_%d' % i] = sig.rolling(window=1500).mean().mean(skipna=True)\n",
    "        df_features.loc[seg_id, 'Moving_average_3000_mean_%d' % i] = sig.rolling(window=3000).mean().mean(skipna=True)\n",
    "        df_features.loc[seg_id, 'Moving_average_6000_mean_%d' % i] = sig.rolling(window=6000).mean().mean(skipna=True)\n",
    "\n",
    "        ewma = pd.Series.ewm\n",
    "        df_features.loc[seg_id, 'edf_featuresp_Moving_average_300_mean_%d' % i] = ewma(sig, span=300).mean().mean(skipna=True)\n",
    "        df_features.loc[seg_id, 'edf_featuresp_Moving_average_3000_mean_%d' % i] = ewma(sig, span=3000).mean().mean(skipna=True)\n",
    "        df_features.loc[seg_id, 'edf_featuresp_Moving_average_30000_mean_%d' % i] = ewma(sig, span=6000).mean().mean(skipna=True)\n",
    "\n",
    "        no_of_std = 2\n",
    "        df_features.loc[seg_id, 'MA_700MA_std_mean_%d' % i] = sig.rolling(window=700).std().mean()\n",
    "        df_features.loc[seg_id, 'MA_700MA_BB_high_mean_%d' % i] = (\n",
    "                    df_features.loc[seg_id, 'Moving_average_700_mean_%d' % i] + no_of_std * df_features.loc[seg_id, 'MA_700MA_std_mean_%d' % i]).mean()\n",
    "        df_features.loc[seg_id, 'MA_700MA_BB_low_mean_%d' % i] = (\n",
    "                    df_features.loc[seg_id, 'Moving_average_700_mean_%d' % i] - no_of_std * df_features.loc[seg_id, 'MA_700MA_std_mean_%d' % i]).mean()\n",
    "        df_features.loc[seg_id, 'MA_400MA_std_mean_%d' % i] = sig.rolling(window=400).std().mean()\n",
    "        df_features.loc[seg_id, 'MA_400MA_BB_high_mean_%d' % i] = (\n",
    "                    df_features.loc[seg_id, 'Moving_average_700_mean_%d' % i] + no_of_std * df_features.loc[seg_id, 'MA_400MA_std_mean_%d' % i]).mean()\n",
    "        df_features.loc[seg_id, 'MA_400MA_BB_low_mean_%d' % i] = (\n",
    "                    df_features.loc[seg_id, 'Moving_average_700_mean_%d' % i] - no_of_std * df_features.loc[seg_id, 'MA_400MA_std_mean_%d' % i]).mean()\n",
    "        df_features.loc[seg_id, 'MA_1000MA_std_mean_%d' % i] = sig.rolling(window=1000).std().mean()\n",
    "\n",
    "        df_features.loc[seg_id, 'iqr_%d' % i] = np.subtract(*np.percentile(sig, [75, 25]))\n",
    "        df_features.loc[seg_id, 'q999_%d' % i] = np.quantile(sig, 0.999)\n",
    "        df_features.loc[seg_id, 'q001_%d' % i] = np.quantile(sig, 0.001)\n",
    "        df_features.loc[seg_id, 'ave10_%d' % i] = stats.trim_mean(sig, 0.1)\n",
    "\n",
    "\n",
    "    return df_features.iloc[0].T.to_dict()"
   ]
  },
  {
   "cell_type": "code",
   "execution_count": 25,
   "metadata": {
    "collapsed": true
   },
   "outputs": [],
   "source": [
    "func_tooslow =  [ 'sample_entropy','partial_autocorrelation','number_cwt_peaks', 'approximate_entropy', 'augmented_dickey_fuller', 'agg_linear_trend']"
   ]
  },
  {
   "cell_type": "code",
   "execution_count": 76,
   "metadata": {
    "collapsed": true
   },
   "outputs": [],
   "source": [
    "normal_parameters ={}\n",
    "slow_parameters = {}\n",
    "for k in ComprehensiveFCParameters().keys():\n",
    "    if k in func_tooslow:\n",
    "        pass\n",
    "#         slow_parameters[k] = ComprehensiveFCParameters()[k]\n",
    "    else:\n",
    "        normal_parameters[k] = ComprehensiveFCParameters()[k]"
   ]
  },
  {
   "cell_type": "code",
   "execution_count": 77,
   "metadata": {
    "collapsed": true
   },
   "outputs": [],
   "source": [
    "for k in [ 'partial_autocorrelation','number_cwt_peaks', 'agg_linear_trend']:\n",
    "    slow_parameters[k] = ComprehensiveFCParameters()[k]"
   ]
  },
  {
   "cell_type": "code",
   "execution_count": 78,
   "metadata": {},
   "outputs": [
    {
     "data": {
      "text/plain": [
       "(57, 3, 63)"
      ]
     },
     "execution_count": 78,
     "metadata": {},
     "output_type": "execute_result"
    }
   ],
   "source": [
    "len(normal_parameters),len(slow_parameters),len(ComprehensiveFCParameters())"
   ]
  },
  {
   "cell_type": "code",
   "execution_count": 30,
   "metadata": {
    "collapsed": true
   },
   "outputs": [],
   "source": [
    "def extract_tsfresh_feats(x, parameters):\n",
    "    dct_fcp = parameters.copy()\n",
    "    dct_feats = {}\n",
    "    for k in dct_fcp.keys():\n",
    "        try:\n",
    "            func = getattr(feature_calculators, k)\n",
    "            p = dct_fcp[k]\n",
    "            if p == None:\n",
    "                res = func(x)\n",
    "            elif 'param' in func.__code__.co_varnames:\n",
    "                res = func(x, p)\n",
    "                for res_i in res:\n",
    "                    dct_feats['{}{}'.format(k,res_i[0])] = res_i[1]\n",
    "            else:\n",
    "                for p_i in p:\n",
    "                    res = func(x, **p_i)\n",
    "                    dct_feats['{}{}'.format(k,p_i)] = res\n",
    "        except Exception as e:\n",
    "            raise Exception(k, p)\n",
    "        \n",
    "    return dct_feats"
   ]
  },
  {
   "cell_type": "code",
   "execution_count": 111,
   "metadata": {
    "collapsed": true
   },
   "outputs": [],
   "source": [
    "def extract_add_features(x):\n",
    "    df_features = pd.DataFrame()\n",
    "    segment = 0\n",
    "    for windows in [25, 50, 75]:\n",
    "        x_roll_std = x.rolling(windows).std().dropna().values\n",
    "        df_features.loc[segment, 'q05_roll_std_' + str(windows)] = np.quantile(x_roll_std, 0.05)\n",
    "        df_features.loc[segment, 'q10_roll_std_' + str(windows)] = np.quantile(x_roll_std, 0.10)\n",
    "        df_features.loc[segment, 'q15_roll_std_' + str(windows)] = np.quantile(x_roll_std, 0.15)\n",
    "        df_features.loc[segment, 'q20_roll_std_' + str(windows)] = np.quantile(x_roll_std, 0.20)\n",
    "        df_features.loc[segment, 'q25_roll_std_' + str(windows)] = np.quantile(x_roll_std, 0.25)\n",
    "    return df_features.iloc[0].T.to_dict()\n",
    "    "
   ]
  },
  {
   "cell_type": "code",
   "execution_count": 112,
   "metadata": {
    "collapsed": true
   },
   "outputs": [],
   "source": [
    "def detect_peaks(x, mph=None, mpd=1, threshold=0, edge='rising',\n",
    "                 kpsh=False, valley=False, show=False, ax=None):\n",
    "\n",
    "    \"\"\"Detect peaks in data based on their amplitude and other features.\n",
    "\n",
    "    Parameters\n",
    "    ----------\n",
    "    x : 1D array_like\n",
    "        data.\n",
    "    mph : {None, number}, optional (default = None)\n",
    "        detect peaks that are greater than minimum peak height (if parameter\n",
    "        `valley` is False) or peaks that are smaller than maximum peak height\n",
    "         (if parameter `valley` is True).\n",
    "    mpd : positive integer, optional (default = 1)\n",
    "        detect peaks that are at least separated by minimum peak distance (in\n",
    "        number of data).\n",
    "    threshold : positive number, optional (default = 0)\n",
    "        detect peaks (valleys) that are greater (smaller) than `threshold`\n",
    "        in relation to their immediate neighbors.\n",
    "    edge : {None, 'rising', 'falling', 'both'}, optional (default = 'rising')\n",
    "        for a flat peak, keep only the rising edge ('rising'), only the\n",
    "        falling edge ('falling'), both edges ('both'), or don't detect a\n",
    "        flat peak (None).\n",
    "    kpsh : bool, optional (default = False)\n",
    "        keep peaks with same height even if they are closer than `mpd`.\n",
    "    valley : bool, optional (default = False)\n",
    "        if True (1), detect valleys (local minima) instead of peaks.\n",
    "    show : bool, optional (default = False)\n",
    "        if True (1), plot data in matplotlib figure.\n",
    "    ax : a matplotlib.axes.Axes instance, optional (default = None).\n",
    "\n",
    "    Returns\n",
    "    -------\n",
    "    ind : 1D array_like\n",
    "        indeces of the peaks in `x`.\n",
    "\n",
    "    Notes\n",
    "    -----\n",
    "    The detection of valleys instead of peaks is performed internally by simply\n",
    "    negating the data: `ind_valleys = detect_peaks(-x)`\n",
    "    \n",
    "    The function can handle NaN's \n",
    "\n",
    "    See this IPython Notebook [1]_.\n",
    "\n",
    "    References\n",
    "    ----------\n",
    "    .. [1] http://nbviewer.ipython.org/github/demotu/BMC/blob/master/notebooks/DetectPeaks.ipynb\n",
    "\n",
    "    Examples\n",
    "    --------\n",
    "    >>> from detect_peaks import detect_peaks\n",
    "    >>> x = np.random.randn(100)\n",
    "    >>> x[60:81] = np.nan\n",
    "    >>> # detect all peaks and plot data\n",
    "    >>> ind = detect_peaks(x, show=True)\n",
    "    >>> print(ind)\n",
    "\n",
    "    >>> x = np.sin(2*np.pi*5*np.linspace(0, 1, 200)) + np.random.randn(200)/5\n",
    "    >>> # set minimum peak height = 0 and minimum peak distance = 20\n",
    "    >>> detect_peaks(x, mph=0, mpd=20, show=True)\n",
    "\n",
    "    >>> x = [0, 1, 0, 2, 0, 3, 0, 2, 0, 1, 0]\n",
    "    >>> # set minimum peak distance = 2\n",
    "    >>> detect_peaks(x, mpd=2, show=True)\n",
    "\n",
    "    >>> x = np.sin(2*np.pi*5*np.linspace(0, 1, 200)) + np.random.randn(200)/5\n",
    "    >>> # detection of valleys instead of peaks\n",
    "    >>> detect_peaks(x, mph=-1.2, mpd=20, valley=True, show=True)\n",
    "\n",
    "    >>> x = [0, 1, 1, 0, 1, 1, 0]\n",
    "    >>> # detect both edges\n",
    "    >>> detect_peaks(x, edge='both', show=True)\n",
    "\n",
    "    >>> x = [-2, 1, -2, 2, 1, 1, 3, 0]\n",
    "    >>> # set threshold = 2\n",
    "    >>> detect_peaks(x, threshold = 2, show=True)\n",
    "\n",
    "    Version history\n",
    "    ---------------\n",
    "    '1.0.5':\n",
    "        The sign of `mph` is inverted if parameter `valley` is True\n",
    "    \n",
    "    \"\"\"\n",
    "\n",
    "    x = np.atleast_1d(x).astype('float64')\n",
    "    if x.size < 3:\n",
    "        return np.array([], dtype=int)\n",
    "    if valley:\n",
    "        x = -x\n",
    "        if mph is not None:\n",
    "            mph = -mph\n",
    "    # find indices of all peaks\n",
    "    dx = x[1:] - x[:-1]\n",
    "    # handle NaN's\n",
    "    indnan = np.where(np.isnan(x))[0]\n",
    "    if indnan.size:\n",
    "        x[indnan] = np.inf\n",
    "        dx[np.where(np.isnan(dx))[0]] = np.inf\n",
    "    ine, ire, ife = np.array([[], [], []], dtype=int)\n",
    "    if not edge:\n",
    "        ine = np.where((np.hstack((dx, 0)) < 0) & (np.hstack((0, dx)) > 0))[0]\n",
    "    else:\n",
    "        if edge.lower() in ['rising', 'both']:\n",
    "            ire = np.where((np.hstack((dx, 0)) <= 0) & (np.hstack((0, dx)) > 0))[0]\n",
    "        if edge.lower() in ['falling', 'both']:\n",
    "            ife = np.where((np.hstack((dx, 0)) < 0) & (np.hstack((0, dx)) >= 0))[0]\n",
    "    ind = np.unique(np.hstack((ine, ire, ife)))\n",
    "    # handle NaN's\n",
    "    if ind.size and indnan.size:\n",
    "        # NaN's and values close to NaN's cannot be peaks\n",
    "        ind = ind[np.in1d(ind, np.unique(np.hstack((indnan, indnan-1, indnan+1))), invert=True)]\n",
    "    # first and last values of x cannot be peaks\n",
    "    if ind.size and ind[0] == 0:\n",
    "        ind = ind[1:]\n",
    "    if ind.size and ind[-1] == x.size-1:\n",
    "        ind = ind[:-1]\n",
    "    # remove peaks < minimum peak height\n",
    "    if ind.size and mph is not None:\n",
    "        ind = ind[x[ind] >= mph]\n",
    "    # remove peaks - neighbors < threshold\n",
    "    if ind.size and threshold > 0:\n",
    "        dx = np.min(np.vstack([x[ind]-x[ind-1], x[ind]-x[ind+1]]), axis=0)\n",
    "        ind = np.delete(ind, np.where(dx < threshold)[0])\n",
    "    # detect small peaks closer than minimum peak distance\n",
    "    if ind.size and mpd > 1:\n",
    "        ind = ind[np.argsort(x[ind])][::-1]  # sort ind by peak height\n",
    "        idel = np.zeros(ind.size, dtype=bool)\n",
    "        for i in range(ind.size):\n",
    "            if not idel[i]:\n",
    "                # keep peaks with the same height if kpsh is True\n",
    "                idel = idel | (ind >= ind[i] - mpd) & (ind <= ind[i] + mpd) \\\n",
    "                    & (x[ind[i]] > x[ind] if kpsh else True)\n",
    "                idel[i] = 0  # Keep current peak\n",
    "        # remove the small peaks and sort back the indices by their occurrence\n",
    "        ind = np.sort(ind[~idel])\n",
    "\n",
    "    if show:\n",
    "        if indnan.size:\n",
    "            x[indnan] = np.nan\n",
    "        if valley:\n",
    "            x = -x\n",
    "            if mph is not None:\n",
    "                mph = -mph\n",
    "        _plot(x, mph, mpd, threshold, edge, valley, ax, ind)\n",
    "\n",
    "    return ind\n",
    "\n",
    "def psd_toppeak(x, n, fs, nperseg):\n",
    "    f_values, psd_values = welch(x, fs=fs, nperseg=nperseg)\n",
    "    peak_idx = detect_peaks(psd_values)\n",
    "    sorted_idx = np.argsort(psd_values[peak_idx])[::-1]\n",
    "    return f_values[peak_idx][sorted_idx][:n], psd_values[peak_idx][sorted_idx][:n]\n",
    "\n",
    "def extract_add_features2(x):\n",
    "    f_values, psd_values = psd_toppeak(x, 5, sr, 256)\n",
    "    \n",
    "    res = {}\n",
    "    for a,b in (feature_calculators.spkt_welch_density(pd.Series(x), [{\"coeff\": i} for i in range(129)])):\n",
    "        res['spkt_welch_density__{}'.format(a)] = b\n",
    "    \n",
    "    \n",
    "    for idx, (f_v , psd_v) in enumerate(zip(f_values, psd_values)):\n",
    "        res['{}th_peak_freq'.format(idx+1)] = f_v\n",
    "        res['{}th_peak_psd'.format(idx+1)] = psd_v\n",
    "    return res"
   ]
  },
  {
   "cell_type": "code",
   "execution_count": 35,
   "metadata": {},
   "outputs": [
    {
     "name": "stderr",
     "output_type": "stream",
     "text": [
      "/home/ubuntu/.conda/envs/py36/lib/python3.6/site-packages/ipykernel_launcher.py:51: RuntimeWarning: invalid value encountered in double_scalars\n",
      "/home/ubuntu/.conda/envs/py36/lib/python3.6/site-packages/ipykernel_launcher.py:54: RuntimeWarning: invalid value encountered in double_scalars\n",
      "/home/ubuntu/.conda/envs/py36/lib/python3.6/site-packages/ipykernel_launcher.py:57: RuntimeWarning: invalid value encountered in double_scalars\n",
      "/home/ubuntu/.conda/envs/py36/lib/python3.6/site-packages/ipykernel_launcher.py:60: RuntimeWarning: invalid value encountered in double_scalars\n",
      "/home/ubuntu/.conda/envs/py36/lib/python3.6/site-packages/scipy/stats/stats.py:969: RuntimeWarning: invalid value encountered in subtract\n",
      "  a_zero_mean = a - np.expand_dims(np.mean(a, axis), axis)\n",
      "/home/ubuntu/.conda/envs/py36/lib/python3.6/site-packages/numpy/core/_methods.py:117: RuntimeWarning: invalid value encountered in subtract\n",
      "  x = asanyarray(arr - arrmean)\n",
      "/home/ubuntu/.conda/envs/py36/lib/python3.6/site-packages/scipy/stats/_distn_infrastructure.py:2544: RuntimeWarning: invalid value encountered in true_divide\n",
      "  pk = 1.0*pk / np.sum(pk, axis=0)\n",
      "/home/ubuntu/.conda/envs/py36/lib/python3.6/site-packages/ipykernel_launcher.py:96: RuntimeWarning: invalid value encountered in double_scalars\n",
      "/home/ubuntu/.conda/envs/py36/lib/python3.6/site-packages/ipykernel_launcher.py:143: RuntimeWarning: divide by zero encountered in true_divide\n",
      "/home/ubuntu/.conda/envs/py36/lib/python3.6/site-packages/ipykernel_launcher.py:143: RuntimeWarning: invalid value encountered in true_divide\n"
     ]
    },
    {
     "name": "stdout",
     "output_type": "stream",
     "text": [
      "CPU times: user 5 s, sys: 3.01 s, total: 8.01 s\n",
      "Wall time: 4.48 s\n"
     ]
    }
   ],
   "source": [
    "%%time\n",
    "a = extract_kaggle_features(pd.Series(df_sample.raw.values[0]))\n",
    "len(a)"
   ]
  },
  {
   "cell_type": "code",
   "execution_count": 64,
   "metadata": {},
   "outputs": [
    {
     "name": "stderr",
     "output_type": "stream",
     "text": [
      "/home/ubuntu/.conda/envs/py36/lib/python3.6/site-packages/numpy/core/fromnumeric.py:56: FutureWarning: Series.nonzero() is deprecated and will be removed in a future version.Use Series.to_numpy().nonzero() instead\n",
      "  return getattr(obj, method)(*args, **kwds)\n"
     ]
    },
    {
     "name": "stdout",
     "output_type": "stream",
     "text": [
      "CPU times: user 4.76 s, sys: 360 ms, total: 5.12 s\n",
      "Wall time: 4.62 s\n"
     ]
    }
   ],
   "source": [
    "%%time\n",
    "b = extract_kaggle_features2(pd.Series(df_sample.raw.values[0]))\n",
    "len(b)"
   ]
  },
  {
   "cell_type": "code",
   "execution_count": 52,
   "metadata": {},
   "outputs": [
    {
     "name": "stdout",
     "output_type": "stream",
     "text": [
      "CPU times: user 41.8 s, sys: 27.4 s, total: 1min 9s\n",
      "Wall time: 38.8 s\n"
     ]
    }
   ],
   "source": [
    "%%time\n",
    "c = extract_tsfresh_feats(df_sample.raw.values[0], normal_parameters)\n",
    "len(c)"
   ]
  },
  {
   "cell_type": "code",
   "execution_count": 53,
   "metadata": {},
   "outputs": [
    {
     "name": "stdout",
     "output_type": "stream",
     "text": [
      "CPU times: user 1min 41s, sys: 35.1 s, total: 2min 17s\n",
      "Wall time: 1min 45s\n"
     ]
    }
   ],
   "source": [
    "%%time\n",
    "d = extract_tsfresh_feats(df_sample.raw.values[0][::20], slow_parameters)\n",
    "len(d)"
   ]
  },
  {
   "cell_type": "code",
   "execution_count": 101,
   "metadata": {},
   "outputs": [
    {
     "name": "stdout",
     "output_type": "stream",
     "text": [
      "CPU times: user 88 ms, sys: 16 ms, total: 104 ms\n",
      "Wall time: 95.6 ms\n"
     ]
    }
   ],
   "source": [
    "%%time\n",
    "e = extract_add_features(pd.Series(df_sample.raw.values[0]))\n",
    "len(e)"
   ]
  },
  {
   "cell_type": "code",
   "execution_count": 104,
   "metadata": {},
   "outputs": [
    {
     "name": "stdout",
     "output_type": "stream",
     "text": [
      "CPU times: user 32 ms, sys: 0 ns, total: 32 ms\n",
      "Wall time: 25.8 ms\n"
     ]
    }
   ],
   "source": [
    "%%time\n",
    "f = extract_add_features2(pd.Series(df_sample.raw.values[0]))\n",
    "len(f)"
   ]
  },
  {
   "cell_type": "code",
   "execution_count": 65,
   "metadata": {},
   "outputs": [
    {
     "data": {
      "text/plain": [
       "(900, 871, 693, 68, 2532)"
      ]
     },
     "execution_count": 65,
     "metadata": {},
     "output_type": "execute_result"
    }
   ],
   "source": [
    "len(a), len(b), len(c), len(d), np.sum([len(a), len(b), len(c), len(d)])"
   ]
  },
  {
   "cell_type": "code",
   "execution_count": 66,
   "metadata": {},
   "outputs": [
    {
     "data": {
      "text/plain": [
       "2532"
      ]
     },
     "execution_count": 66,
     "metadata": {},
     "output_type": "execute_result"
    }
   ],
   "source": [
    "len(set(list(a.keys())+list(b.keys())+list(c.keys())+list(d.keys())))"
   ]
  },
  {
   "cell_type": "code",
   "execution_count": 22,
   "metadata": {
    "collapsed": true
   },
   "outputs": [],
   "source": [
    "samples = []\n",
    "rows = 150_000\n",
    "hop_rows = rows//8\n",
    "# segments = int((df.shape[0])/rows)\n",
    "i = 0\n",
    "for seg_i_st_idx, seg_i_end_idx in zip(st_idx, end_idx):\n",
    "    i += 1\n",
    "    for index in range(seg_i_st_idx, seg_i_end_idx-rows, hop_rows):\n",
    "        try:\n",
    "            seg = df.iloc[index:index+rows]\n",
    "            x = seg['acoustic_data'].values\n",
    "            y = seg['time_to_failure'].values[-1]\n",
    "            samples.append({'raw':x,'y':y,'index':index, 'season':i})\n",
    "        except Exception as e:\n",
    "            raise Exception('{}-{}-{}'.format(i, segment, seg.shape))\n",
    "df_sample = pd.DataFrame(samples)\n",
    "del samples"
   ]
  },
  {
   "cell_type": "code",
   "execution_count": 67,
   "metadata": {
    "collapsed": true
   },
   "outputs": [],
   "source": [
    "from multiprocessing import Pool, Value, Manager\n",
    "from multiprocessing import Queue as PQueue\n",
    "import multiprocessing\n",
    "import numpy as np\n",
    "import time\n",
    "import sys\n",
    "\n",
    "class VCParallel(object):\n",
    "\n",
    "    '''\n",
    "    generate samples from some data structure\n",
    "    '''\n",
    "    def run(self, iterable_obj, n_jobs=-1):\n",
    "        \n",
    "        try:\n",
    "            iter(iterable_obj)\n",
    "        except Exception as e:\n",
    "            raise Exception(e.__str__())\n",
    "            \n",
    "        X = Manager().list()\n",
    "        if n_jobs == -1:\n",
    "            import multiprocessing\n",
    "            n_jobs = multiprocessing.cpu_count()\n",
    "        pool = Pool(n_jobs)\n",
    "        \n",
    "        params = []\n",
    "        for item in iterable_obj:\n",
    "            params.append((X, item))\n",
    "        pool.starmap(self.worker, params)\n",
    "        pool.close()\n",
    "        pool.join()\n",
    "        return pd.DataFrame(list(X))\n",
    "\n",
    "\n",
    "    def worker(self, X, item, **kwargs):\n",
    "        raise Exception('no inheritance')"
   ]
  },
  {
   "cell_type": "code",
   "execution_count": 68,
   "metadata": {},
   "outputs": [
    {
     "name": "stdout",
     "output_type": "stream",
     "text": [
      "(33426, 4)\n"
     ]
    },
    {
     "data": {
      "text/plain": [
       "(0, index                                                     0\n",
       " raw       [12.0, 6.0, 8.0, 5.0, 8.0, 8.0, 9.0, 7.0, -5.0...\n",
       " season                                                    1\n",
       " y                                                    1.4308\n",
       " Name: 0, dtype: object)"
      ]
     },
     "execution_count": 68,
     "metadata": {},
     "output_type": "execute_result"
    }
   ],
   "source": [
    "print(df_sample.shape)\n",
    "next(df_sample.iterrows())"
   ]
  },
  {
   "cell_type": "code",
   "execution_count": 79,
   "metadata": {},
   "outputs": [
    {
     "name": "stdout",
     "output_type": "stream",
     "text": [
      "CPU times: user 0 ns, sys: 0 ns, total: 0 ns\n",
      "Wall time: 1.32 ms\n"
     ]
    }
   ],
   "source": [
    "%%time\n",
    "\n",
    "sr = 4000000\n",
    "import warnings\n",
    "warnings.filterwarnings(\"ignore\")\n",
    "\n",
    "class ParallelGenTSF(VCParallel):\n",
    "    \n",
    "    def __init__(self, ):\n",
    "        return\n",
    "    \n",
    "    def worker(self, X, item,  **kwargs):\n",
    "        \n",
    "        try:\n",
    "            index = item[1][0]\n",
    "            x = item[1][1]\n",
    "#             print(index, x.shape)\n",
    "            \n",
    "            part1 = extract_kaggle_features(pd.Series(x))\n",
    "            part2 = extract_kaggle_features2(pd.Series(x))\n",
    "            part3 = extract_tsfresh_feats(x, normal_parameters)\n",
    "            part4 = extract_tsfresh_feats(x[::20], slow_parameters)\n",
    "            \n",
    "            X.append({'index':index, **part1, **part2, **part3, **part4})\n",
    "        except Exception as e :\n",
    "            print(item , e.__str__())\n",
    "            raise Exception()"
   ]
  },
  {
   "cell_type": "code",
   "execution_count": 115,
   "metadata": {},
   "outputs": [
    {
     "name": "stdout",
     "output_type": "stream",
     "text": [
      "CPU times: user 0 ns, sys: 0 ns, total: 0 ns\n",
      "Wall time: 1.48 ms\n"
     ]
    }
   ],
   "source": [
    "%%time\n",
    "\n",
    "sr = 4000000\n",
    "import warnings\n",
    "warnings.filterwarnings(\"ignore\")\n",
    "\n",
    "class ParallelGenTSF(VCParallel):\n",
    "    \n",
    "    def __init__(self, ):\n",
    "        return\n",
    "    \n",
    "    def worker(self, X, item,  **kwargs):\n",
    "        \n",
    "        try:\n",
    "            index = item[1][0]\n",
    "            x = item[1][1]\n",
    "#             print(index, x.shape)\n",
    "\n",
    "            part5 = extract_add_features(pd.Series(x))\n",
    "            part6 = extract_add_features2(pd.Series(x))\n",
    "            \n",
    "            X.append({'index':index, **part5, **part6})\n",
    "        except Exception as e :\n",
    "            print(item , e.__str__())\n",
    "            raise Exception()"
   ]
  },
  {
   "cell_type": "code",
   "execution_count": 116,
   "metadata": {},
   "outputs": [
    {
     "name": "stdout",
     "output_type": "stream",
     "text": [
      "CPU times: user 55.3 s, sys: 1min 10s, total: 2min 6s\n",
      "Wall time: 3min 53s\n"
     ]
    }
   ],
   "source": [
    "%%time\n",
    "df_train_add = ParallelGenTSF().run(df_sample.iterrows(), n_jobs=32)"
   ]
  },
  {
   "cell_type": "code",
   "execution_count": 118,
   "metadata": {},
   "outputs": [],
   "source": [
    "df_train_add = df_train_add.sort_values(by=['index'])\n",
    "df_train_add = df_train_add.reset_index(drop=True)"
   ]
  },
  {
   "cell_type": "code",
   "execution_count": 119,
   "metadata": {},
   "outputs": [
    {
     "name": "stdout",
     "output_type": "stream",
     "text": [
      "CPU times: user 1.33 s, sys: 3.52 s, total: 4.85 s\n",
      "Wall time: 24.3 s\n"
     ]
    }
   ],
   "source": [
    "%%time\n",
    "\n",
    "import warnings\n",
    "warnings.filterwarnings(\"ignore\")\n",
    "class ParallelGenTSF(VCParallel):\n",
    "    \n",
    "    def worker(self, X, item, **kwargs):\n",
    "        \n",
    "        try:\n",
    "            file = item\n",
    "            df_test_i = pd.read_csv(test_file_path+file)\n",
    "            x = df_test_i['acoustic_data'].values\n",
    "            \n",
    "            part5 = extract_add_features(pd.Series(x))\n",
    "            part6 = extract_add_features2(pd.Series(x))\n",
    "            \n",
    "            X.append({'index':file.replace('.csv',''), **part5, **part6})\n",
    "        except Exception as e :\n",
    "            print(item , e.__str__())\n",
    "\n",
    "test_file_path = 'data/test/'\n",
    "df_test_add = ParallelGenTSF().run(sorted(os.listdir(test_file_path)), n_jobs=32)\n",
    "\n",
    "warnings.filterwarnings(\"default\")"
   ]
  },
  {
   "cell_type": "code",
   "execution_count": 120,
   "metadata": {
    "collapsed": true
   },
   "outputs": [],
   "source": [
    "df_test_add = df_test_add.sort_values(by=['index'])\n",
    "df_test_add = df_test_add.reset_index(drop=True)"
   ]
  },
  {
   "cell_type": "code",
   "execution_count": 122,
   "metadata": {},
   "outputs": [],
   "source": [
    "df_train_add.to_pickle('feats2/df_train_add.pkl')\n",
    "df_test_add.to_pickle('feats2/df_test_add.pkl')"
   ]
  },
  {
   "cell_type": "code",
   "execution_count": 80,
   "metadata": {
    "collapsed": true
   },
   "outputs": [],
   "source": [
    "df_train = pd.DataFrame()"
   ]
  },
  {
   "cell_type": "code",
   "execution_count": 81,
   "metadata": {},
   "outputs": [
    {
     "name": "stderr",
     "output_type": "stream",
     "text": [
      "\n",
      "\n",
      "\n",
      "  0%|          | 0/101 [00:00<?, ?it/s]\u001b[A\u001b[A\u001b[A\n",
      "\n",
      "\n",
      "  1%|          | 1/101 [11:38<19:24:51, 698.91s/it]\u001b[A\u001b[A\u001b[A\n",
      "\n",
      "\n",
      "  2%|▏         | 2/101 [23:11<19:07:42, 695.58s/it]\u001b[A\u001b[A\u001b[A\n",
      "\n",
      "\n",
      "  3%|▎         | 3/101 [34:42<18:53:53, 694.22s/it]\u001b[A\u001b[A\u001b[A\n",
      "\n",
      "\n",
      "  4%|▍         | 4/101 [46:14<18:41:22, 693.64s/it]\u001b[A\u001b[A\u001b[A\n",
      "\n",
      "\n",
      "  5%|▍         | 5/101 [57:52<18:31:19, 694.57s/it]\u001b[A\u001b[A\u001b[A\n",
      "\n",
      "\n",
      "  6%|▌         | 6/101 [1:09:30<18:20:28, 695.03s/it]\u001b[A\u001b[A\u001b[A\n",
      "\n",
      "\n",
      "  7%|▋         | 7/101 [1:21:07<18:09:29, 695.42s/it]\u001b[A\u001b[A\u001b[A\n",
      "\n",
      "\n",
      "  8%|▊         | 8/101 [1:32:44<17:58:09, 695.59s/it]\u001b[A\u001b[A\u001b[A\n",
      "\n",
      "\n",
      "  9%|▉         | 9/101 [1:44:22<17:46:58, 695.85s/it]\u001b[A\u001b[A\u001b[A\n",
      "\n",
      "\n",
      " 10%|▉         | 10/101 [1:55:55<17:34:57, 695.58s/it]\u001b[A\u001b[A\u001b[A\n",
      "\n",
      "\n",
      " 11%|█         | 11/101 [2:07:29<17:23:02, 695.36s/it]\u001b[A\u001b[A\u001b[A\n",
      "\n",
      "\n",
      " 12%|█▏        | 12/101 [2:19:01<17:11:08, 695.15s/it]\u001b[A\u001b[A\u001b[A\n",
      "\n",
      "\n",
      " 13%|█▎        | 13/101 [2:30:34<16:59:13, 694.93s/it]\u001b[A\u001b[A\u001b[A\n",
      "\n",
      "\n",
      " 14%|█▍        | 14/101 [2:42:03<16:47:02, 694.51s/it]\u001b[A\u001b[A\u001b[A\n",
      "\n",
      "\n",
      " 15%|█▍        | 15/101 [2:53:39<16:35:40, 694.66s/it]\u001b[A\u001b[A\u001b[A\n",
      "\n",
      "\n",
      " 16%|█▌        | 16/101 [3:05:18<16:24:24, 694.88s/it]\u001b[A\u001b[A\u001b[A\n",
      "\n",
      "\n",
      " 17%|█▋        | 17/101 [3:16:51<16:12:40, 694.77s/it]\u001b[A\u001b[A\u001b[A\n",
      "\n",
      "\n",
      " 18%|█▊        | 18/101 [3:28:32<16:01:36, 695.14s/it]\u001b[A\u001b[A\u001b[A\n",
      "\n",
      "\n",
      " 19%|█▉        | 19/101 [3:40:09<15:50:08, 695.22s/it]\u001b[A\u001b[A\u001b[A\n",
      "\n",
      "\n",
      " 20%|█▉        | 20/101 [3:51:40<15:38:18, 695.05s/it]\u001b[A\u001b[A\u001b[A\n",
      "\n",
      "\n",
      " 21%|██        | 21/101 [4:03:25<15:27:20, 695.50s/it]\u001b[A\u001b[A\u001b[A\n",
      "\n",
      "\n",
      " 22%|██▏       | 22/101 [4:14:58<15:15:34, 695.37s/it]\u001b[A\u001b[A\u001b[A\n",
      "\n",
      "\n",
      " 23%|██▎       | 23/101 [4:26:33<15:03:58, 695.36s/it]\u001b[A\u001b[A\u001b[A\n",
      "\n",
      "\n",
      " 24%|██▍       | 24/101 [4:38:03<14:52:05, 695.14s/it]\u001b[A\u001b[A\u001b[A\n",
      "\n",
      "\n",
      " 25%|██▍       | 25/101 [4:49:32<14:40:12, 694.90s/it]\u001b[A\u001b[A\u001b[A\n",
      "\n",
      "\n",
      " 26%|██▌       | 26/101 [5:01:05<14:28:31, 694.82s/it]\u001b[A\u001b[A\u001b[A\n",
      "\n",
      "\n",
      " 27%|██▋       | 27/101 [5:12:38<14:16:50, 694.74s/it]\u001b[A\u001b[A\u001b[A\n",
      "\n",
      "\n",
      " 28%|██▊       | 28/101 [5:24:09<14:05:08, 694.63s/it]\u001b[A\u001b[A\u001b[A\n",
      "\n",
      "\n",
      " 29%|██▊       | 29/101 [5:35:40<13:53:23, 694.49s/it]\u001b[A\u001b[A\u001b[A\n",
      "\n",
      "\n",
      " 30%|██▉       | 30/101 [5:47:13<13:41:45, 694.44s/it]\u001b[A\u001b[A\u001b[A\n",
      "\n",
      "\n",
      " 31%|███       | 31/101 [5:58:45<13:30:05, 694.36s/it]\u001b[A\u001b[A\u001b[A\n",
      "\n",
      "\n",
      " 32%|███▏      | 32/101 [6:10:20<13:18:32, 694.38s/it]\u001b[A\u001b[A\u001b[A\n",
      "\n",
      "\n",
      " 33%|███▎      | 33/101 [6:21:58<13:07:06, 694.51s/it]\u001b[A\u001b[A\u001b[A\n",
      "\n",
      "\n",
      " 34%|███▎      | 34/101 [6:33:32<12:55:29, 694.47s/it]\u001b[A\u001b[A\u001b[A\n",
      "\n",
      "\n",
      " 35%|███▍      | 35/101 [6:45:00<12:43:43, 694.30s/it]\u001b[A\u001b[A\u001b[A\n",
      "\n",
      "\n",
      " 36%|███▌      | 36/101 [6:56:24<12:31:50, 694.00s/it]\u001b[A\u001b[A\u001b[A\n",
      "\n",
      "\n",
      " 37%|███▋      | 37/101 [7:07:51<12:20:04, 693.81s/it]\u001b[A\u001b[A\u001b[A\n",
      "\n",
      "\n",
      " 38%|███▊      | 38/101 [7:19:24<12:08:29, 693.80s/it]\u001b[A\u001b[A\u001b[A\n",
      "\n",
      "\n",
      " 39%|███▊      | 39/101 [7:30:59<11:56:57, 693.83s/it]\u001b[A\u001b[A\u001b[A\n",
      "\n",
      "\n",
      " 40%|███▉      | 40/101 [7:42:30<11:45:19, 693.77s/it]\u001b[A\u001b[A\u001b[A\n",
      "\n",
      "\n",
      " 41%|████      | 41/101 [7:54:05<11:33:47, 693.80s/it]\u001b[A\u001b[A\u001b[A\n",
      "\n",
      "\n",
      " 42%|████▏     | 42/101 [8:05:37<11:22:11, 693.76s/it]\u001b[A\u001b[A\u001b[A\n",
      "\n",
      "\n",
      " 43%|████▎     | 43/101 [8:17:05<11:10:30, 693.63s/it]\u001b[A\u001b[A\u001b[A\n",
      "\n",
      "\n",
      " 44%|████▎     | 44/101 [8:28:45<10:59:04, 693.76s/it]\u001b[A\u001b[A\u001b[A\n",
      "\n",
      "\n",
      " 45%|████▍     | 45/101 [8:40:15<10:47:25, 693.67s/it]\u001b[A\u001b[A\u001b[A\n",
      "\n",
      "\n",
      " 46%|████▌     | 46/101 [8:51:54<10:35:59, 693.80s/it]\u001b[A\u001b[A\u001b[A\n",
      "\n",
      "\n",
      " 47%|████▋     | 47/101 [9:03:24<10:24:20, 693.71s/it]\u001b[A\u001b[A\u001b[A\n",
      "\n",
      "\n",
      " 48%|████▊     | 48/101 [9:14:49<10:12:37, 693.53s/it]\u001b[A\u001b[A\u001b[A\n",
      "\n",
      "\n",
      " 49%|████▊     | 49/101 [9:26:20<10:01:01, 693.48s/it]\u001b[A\u001b[A\u001b[A\n",
      "\n",
      "\n",
      " 50%|████▉     | 50/101 [9:37:53<9:49:26, 693.46s/it] \u001b[A\u001b[A\u001b[A\n",
      "\n",
      "\n",
      " 50%|█████     | 51/101 [9:49:31<9:37:57, 693.56s/it]\u001b[A\u001b[A\u001b[A\n",
      "\n",
      "\n",
      " 51%|█████▏    | 52/101 [10:01:13<9:26:31, 693.71s/it]\u001b[A\u001b[A\u001b[A\n",
      "\n",
      "\n",
      " 52%|█████▏    | 53/101 [10:12:55<9:15:06, 693.88s/it]\u001b[A\u001b[A\u001b[A\n",
      "\n",
      "\n",
      " 53%|█████▎    | 54/101 [10:24:22<9:03:26, 693.75s/it]\u001b[A\u001b[A\u001b[A\n",
      "\n",
      "\n",
      " 54%|█████▍    | 55/101 [10:35:52<8:51:49, 693.68s/it]\u001b[A\u001b[A\u001b[A\n",
      "\n",
      "\n",
      " 55%|█████▌    | 56/101 [10:47:21<8:40:11, 693.60s/it]\u001b[A\u001b[A\u001b[A\n",
      "\n",
      "\n",
      " 56%|█████▋    | 57/101 [10:58:54<8:28:37, 693.59s/it]\u001b[A\u001b[A\u001b[A\n",
      "\n",
      "\n",
      " 57%|█████▋    | 58/101 [11:10:28<8:17:04, 693.60s/it]\u001b[A\u001b[A\u001b[A\n",
      "\n",
      "\n",
      " 58%|█████▊    | 59/101 [11:21:53<8:05:25, 693.46s/it]\u001b[A\u001b[A\u001b[A\n",
      "\n",
      "\n",
      " 59%|█████▉    | 60/101 [11:33:21<7:53:47, 693.36s/it]\u001b[A\u001b[A\u001b[A\n",
      "\n",
      "\n",
      " 60%|██████    | 61/101 [11:44:44<7:42:07, 693.19s/it]\u001b[A\u001b[A\u001b[A\n",
      "\n",
      "\n",
      " 61%|██████▏   | 62/101 [11:56:13<7:30:31, 693.11s/it]\u001b[A\u001b[A\u001b[A\n",
      "\n",
      "\n",
      " 62%|██████▏   | 63/101 [12:07:50<7:19:00, 693.18s/it]\u001b[A\u001b[A\u001b[A\n",
      "\n",
      "\n",
      " 63%|██████▎   | 64/101 [12:19:33<7:07:33, 693.34s/it]\u001b[A\u001b[A\u001b[A\n",
      "\n",
      "\n",
      " 64%|██████▍   | 65/101 [12:31:05<6:55:59, 693.31s/it]\u001b[A\u001b[A\u001b[A\n",
      "\n",
      "\n",
      " 65%|██████▌   | 66/101 [12:42:39<6:44:26, 693.32s/it]\u001b[A\u001b[A\u001b[A\n",
      "\n",
      "\n",
      " 66%|██████▋   | 67/101 [12:54:12<6:32:52, 693.32s/it]\u001b[A\u001b[A\u001b[A\n",
      "\n",
      "\n",
      " 67%|██████▋   | 68/101 [13:05:42<6:21:17, 693.27s/it]\u001b[A\u001b[A\u001b[A\n",
      "\n",
      "\n",
      " 68%|██████▊   | 69/101 [13:17:21<6:09:47, 693.36s/it]\u001b[A\u001b[A\u001b[A\n",
      "\n",
      "\n",
      " 69%|██████▉   | 70/101 [13:28:55<5:58:14, 693.37s/it]\u001b[A\u001b[A\u001b[A\n",
      "\n",
      "\n",
      " 70%|███████   | 71/101 [13:40:21<5:46:37, 693.26s/it]\u001b[A\u001b[A\u001b[A\n",
      "\n",
      "\n",
      " 71%|███████▏  | 72/101 [13:51:45<5:35:00, 693.13s/it]\u001b[A\u001b[A\u001b[A\n",
      "\n",
      "\n",
      " 72%|███████▏  | 73/101 [14:03:18<5:23:27, 693.14s/it]\u001b[A\u001b[A\u001b[A\n",
      "\n",
      "\n",
      " 73%|███████▎  | 74/101 [14:14:56<5:11:56, 693.19s/it]\u001b[A\u001b[A\u001b[A\n",
      "\n",
      "\n",
      " 74%|███████▍  | 75/101 [14:26:31<5:00:23, 693.22s/it]\u001b[A\u001b[A\u001b[A\n",
      "\n",
      "\n",
      " 75%|███████▌  | 76/101 [14:38:11<4:48:52, 693.30s/it]\u001b[A\u001b[A\u001b[A\n",
      "\n",
      "\n",
      " 76%|███████▌  | 77/101 [14:49:48<4:37:20, 693.36s/it]\u001b[A\u001b[A\u001b[A\n",
      "\n",
      "\n",
      " 77%|███████▋  | 78/101 [15:01:27<4:25:48, 693.43s/it]\u001b[A\u001b[A\u001b[A\n",
      "\n",
      "\n",
      " 78%|███████▊  | 79/101 [15:13:01<4:14:15, 693.43s/it]\u001b[A\u001b[A\u001b[A\n",
      "\n",
      "\n",
      " 79%|███████▉  | 80/101 [15:24:32<4:02:41, 693.41s/it]\u001b[A\u001b[A\u001b[A\n",
      "\n",
      "\n",
      " 80%|████████  | 81/101 [15:36:17<3:51:10, 693.54s/it]\u001b[A\u001b[A\u001b[A\n",
      "\n",
      "\n",
      " 81%|████████  | 82/101 [15:47:46<3:39:36, 693.50s/it]\u001b[A\u001b[A\u001b[A\n",
      "\n",
      "\n",
      " 82%|████████▏ | 83/101 [15:59:46<3:28:08, 693.82s/it]\u001b[A\u001b[A\u001b[A\n",
      "\n",
      "\n",
      " 83%|████████▎ | 84/101 [16:11:17<3:16:34, 693.78s/it]\u001b[A\u001b[A\u001b[A\n",
      "\n",
      "\n",
      " 84%|████████▍ | 85/101 [16:22:51<3:05:00, 693.78s/it]\u001b[A\u001b[A\u001b[A\n",
      "\n",
      "\n",
      " 85%|████████▌ | 86/101 [16:34:54<2:53:31, 694.12s/it]\u001b[A\u001b[A\u001b[A\n",
      "\n",
      "\n",
      " 86%|████████▌ | 87/101 [16:46:48<2:42:00, 694.34s/it]\u001b[A\u001b[A\u001b[A\n",
      "\n",
      "\n",
      " 87%|████████▋ | 88/101 [16:58:37<2:30:28, 694.52s/it]\u001b[A\u001b[A\u001b[A\n",
      "\n",
      "\n",
      " 88%|████████▊ | 89/101 [17:10:12<2:18:54, 694.52s/it]\u001b[A\u001b[A\u001b[A\n",
      "\n",
      "\n",
      " 89%|████████▉ | 90/101 [17:21:41<2:07:19, 694.46s/it]\u001b[A\u001b[A\u001b[A\n",
      "\n",
      "\n",
      " 90%|█████████ | 91/101 [17:33:46<1:55:48, 694.80s/it]\u001b[A\u001b[A\u001b[A\n",
      "\n",
      "\n",
      " 91%|█████████ | 92/101 [17:45:20<1:44:13, 694.78s/it]\u001b[A\u001b[A\u001b[A\n",
      "\n",
      "\n",
      " 92%|█████████▏| 93/101 [17:56:54<1:32:38, 694.77s/it]\u001b[A\u001b[A\u001b[A\n",
      "\n",
      "\n",
      " 93%|█████████▎| 94/101 [18:08:26<1:21:03, 694.75s/it]\u001b[A\u001b[A\u001b[A\n",
      "\n",
      "\n",
      " 94%|█████████▍| 95/101 [18:19:57<1:09:28, 694.71s/it]\u001b[A\u001b[A\u001b[A\n",
      "\n",
      "\n",
      " 95%|█████████▌| 96/101 [18:31:32<57:53, 694.71s/it]  \u001b[A\u001b[A\u001b[A\n",
      "\n",
      "\n",
      " 96%|█████████▌| 97/101 [18:43:02<46:18, 694.66s/it]\u001b[A\u001b[A\u001b[A\n",
      "\n",
      "\n",
      " 97%|█████████▋| 98/101 [18:54:40<34:44, 694.70s/it]\u001b[A\u001b[A\u001b[A\n",
      "\n",
      "\n",
      " 98%|█████████▊| 99/101 [19:06:26<23:09, 694.81s/it]\u001b[A\u001b[A\u001b[A\n",
      "\n",
      "\n",
      " 99%|█████████▉| 100/101 [19:17:57<11:34, 694.77s/it]\u001b[A\u001b[A\u001b[A\n",
      "\n",
      "\n",
      "100%|██████████| 101/101 [19:19:05<00:00, 688.57s/it]\u001b[A\u001b[A\u001b[A\n",
      "\n",
      "\n",
      "\u001b[A\u001b[A\u001b[A"
     ]
    }
   ],
   "source": [
    "segment = df_sample.shape[0]//100\n",
    "segments = df_sample.shape[0]\n",
    "for segments_i in tqdm(range(0, segments, segment)):\n",
    "    start = segments_i\n",
    "    end = segments_i+segment if segments_i+segment < segments else segments\n",
    "    df_train_i = ParallelGenTSF().run(df_sample.iloc[start:end,:].iterrows(), n_jobs=60)\n",
    "    df_train = pd.concat([df_train, df_train_i], axis=0)\n",
    "    df_train.to_pickle('feats2/features.pkl')"
   ]
  },
  {
   "cell_type": "code",
   "execution_count": 83,
   "metadata": {
    "collapsed": true
   },
   "outputs": [],
   "source": [
    "df_train = df_train.sort_values(by=['index'])\n",
    "df_train = df_train.reset_index(drop=True)"
   ]
  },
  {
   "cell_type": "code",
   "execution_count": 85,
   "metadata": {
    "collapsed": true
   },
   "outputs": [],
   "source": [
    "df_train.to_pickle('feats2/features.pkl')"
   ]
  },
  {
   "cell_type": "code",
   "execution_count": 86,
   "metadata": {},
   "outputs": [
    {
     "name": "stdout",
     "output_type": "stream",
     "text": [
      "CPU times: user 0 ns, sys: 0 ns, total: 0 ns\n",
      "Wall time: 746 µs\n"
     ]
    }
   ],
   "source": [
    "%%time\n",
    "\n",
    "import warnings\n",
    "warnings.filterwarnings(\"ignore\")\n",
    "class ParallelGenTSF(VCParallel):\n",
    "    \n",
    "    def worker(self, X, item, **kwargs):\n",
    "        \n",
    "        try:\n",
    "            file = item\n",
    "            df_test_i = pd.read_csv(test_file_path+file)\n",
    "            x = df_test_i['acoustic_data'].values\n",
    "            \n",
    "            part1 = extract_kaggle_features(pd.Series(x))\n",
    "            part2 = extract_kaggle_features2(pd.Series(x))\n",
    "            part3 = extract_tsfresh_feats(x, normal_parameters)\n",
    "            part4 = extract_tsfresh_feats(x[::20], slow_parameters)\n",
    "            \n",
    "            X.append({'index':file.replace('.csv',''), **part1, **part2, **part3, **part4})\n",
    "        except Exception as e :\n",
    "            print(item , e.__str__())\n",
    "\n",
    "\n",
    "\n",
    "# warnings.filterwarnings(\"default\")"
   ]
  },
  {
   "cell_type": "code",
   "execution_count": 87,
   "metadata": {
    "collapsed": true
   },
   "outputs": [],
   "source": [
    "test_file_path = 'data/test/'\n",
    "df_test = ParallelGenTSF().run(sorted(os.listdir(test_file_path)), n_jobs=60)"
   ]
  },
  {
   "cell_type": "code",
   "execution_count": 90,
   "metadata": {
    "collapsed": true
   },
   "outputs": [],
   "source": [
    "df_test = df_test.sort_values(by=['index'])\n",
    "df_test = df_test.reset_index(drop=True)"
   ]
  },
  {
   "cell_type": "code",
   "execution_count": 91,
   "metadata": {
    "collapsed": true
   },
   "outputs": [],
   "source": [
    "df_test.to_pickle('feats2/test_features.pkl')"
   ]
  },
  {
   "cell_type": "code",
   "execution_count": 92,
   "metadata": {
    "collapsed": true
   },
   "outputs": [],
   "source": [
    "df_sample = df_sample.sort_values(by=['index'])\n",
    "df_sample = df_sample.reset_index(drop=True)"
   ]
  },
  {
   "cell_type": "code",
   "execution_count": 94,
   "metadata": {
    "collapsed": true
   },
   "outputs": [],
   "source": [
    "df_sample[['index','season','y']].to_pickle('feats2/sample.pkl')"
   ]
  },
  {
   "cell_type": "code",
   "execution_count": 8,
   "metadata": {
    "collapsed": true
   },
   "outputs": [],
   "source": [
    "df_train = pd.read_pickle('../feats2/train_features.pkl')\n",
    "df_test = pd.read_pickle('../feats2/test_features.pkl')\n",
    "df_sample = pd.read_pickle('../feats2/sample.pkl')\n",
    "df_sample = df_sample.sort_values(by=['index'])\n",
    "df_sample = df_sample.reset_index(drop=True)\n",
    "df_train = pd.merge(df_train, df_sample, on='index')"
   ]
  },
  {
   "cell_type": "code",
   "execution_count": 24,
   "metadata": {},
   "outputs": [
    {
     "data": {
      "text/html": [
       "<div>\n",
       "<style scoped>\n",
       "    .dataframe tbody tr th:only-of-type {\n",
       "        vertical-align: middle;\n",
       "    }\n",
       "\n",
       "    .dataframe tbody tr th {\n",
       "        vertical-align: top;\n",
       "    }\n",
       "\n",
       "    .dataframe thead th {\n",
       "        text-align: right;\n",
       "    }\n",
       "</style>\n",
       "<table border=\"1\" class=\"dataframe\">\n",
       "  <thead>\n",
       "    <tr style=\"text-align: right;\">\n",
       "      <th></th>\n",
       "      <th>index</th>\n",
       "      <th>season</th>\n",
       "      <th>y</th>\n",
       "    </tr>\n",
       "  </thead>\n",
       "  <tbody>\n",
       "    <tr>\n",
       "      <th>0</th>\n",
       "      <td>0</td>\n",
       "      <td>1</td>\n",
       "      <td>1.430797</td>\n",
       "    </tr>\n",
       "    <tr>\n",
       "      <th>1</th>\n",
       "      <td>18750</td>\n",
       "      <td>1</td>\n",
       "      <td>1.425499</td>\n",
       "    </tr>\n",
       "    <tr>\n",
       "      <th>2</th>\n",
       "      <td>37500</td>\n",
       "      <td>1</td>\n",
       "      <td>1.421296</td>\n",
       "    </tr>\n",
       "    <tr>\n",
       "      <th>3</th>\n",
       "      <td>56250</td>\n",
       "      <td>1</td>\n",
       "      <td>1.415898</td>\n",
       "    </tr>\n",
       "    <tr>\n",
       "      <th>4</th>\n",
       "      <td>75000</td>\n",
       "      <td>1</td>\n",
       "      <td>1.411696</td>\n",
       "    </tr>\n",
       "  </tbody>\n",
       "</table>\n",
       "</div>"
      ],
      "text/plain": [
       "   index  season         y\n",
       "0      0       1  1.430797\n",
       "1  18750       1  1.425499\n",
       "2  37500       1  1.421296\n",
       "3  56250       1  1.415898\n",
       "4  75000       1  1.411696"
      ]
     },
     "execution_count": 24,
     "metadata": {},
     "output_type": "execute_result"
    }
   ],
   "source": [
    "df_sample.head()"
   ]
  },
  {
   "cell_type": "code",
   "execution_count": 16,
   "metadata": {},
   "outputs": [
    {
     "name": "stdout",
     "output_type": "stream",
     "text": [
      "5000rssq_crest_factor_ only in df_test\n",
      "5000rssq_form_factor_ only in df_test\n",
      "5000rssq_peak_to_average_power_ratio_ only in df_test\n",
      "5000rssq_rms_ only in df_test\n"
     ]
    },
    {
     "data": {
      "text/plain": [
       "['5000entropy_clearance_factor_',\n",
       " '5000entropy_crest_factor_',\n",
       " '5000entropy_entropy_',\n",
       " '5000entropy_form_factor_',\n",
       " '5000entropy_impluse_indicator_',\n",
       " '5000entropy_impulse_factor_',\n",
       " '5000entropy_kurtosis_',\n",
       " '5000entropy_peak_peak_amp_',\n",
       " '5000entropy_peak_to_average_power_ratio_',\n",
       " '5000entropy_skewness_',\n",
       " '5000entropy_smoothness_',\n",
       " '5000entropy_std_',\n",
       " '5000entropy_variance_',\n",
       " '5000quantile05entropy_',\n",
       " '5000quantile25entropy_',\n",
       " 'friedrich_coefficientsm_3__r_30__coeff_0',\n",
       " 'friedrich_coefficientsm_3__r_30__coeff_1',\n",
       " 'friedrich_coefficientsm_3__r_30__coeff_2',\n",
       " 'friedrich_coefficientsm_3__r_30__coeff_3',\n",
       " \"max_langevin_fixed_point{'m': 3, 'r': 30}\",\n",
       " '5000rssq_crest_factor_',\n",
       " '5000rssq_form_factor_',\n",
       " '5000rssq_peak_to_average_power_ratio_',\n",
       " '5000rssq_rms_']"
      ]
     },
     "execution_count": 16,
     "metadata": {},
     "output_type": "execute_result"
    }
   ],
   "source": [
    "nullcolumns = []\n",
    "for col, nullcount in zip(df_train.columns, df_train.isnull().sum()):\n",
    "    if nullcount!=0:\n",
    "        nullcolumns.append(col)\n",
    "        \n",
    "for col, nullcount in zip(df_test.columns, df_test.isnull().sum()):\n",
    "    if nullcount!=0:\n",
    "        if col not in nullcolumns:\n",
    "            print(col , 'only in df_test')\n",
    "            nullcolumns.append(col)\n",
    "\n",
    "nullcolumns"
   ]
  },
  {
   "cell_type": "code",
   "execution_count": 18,
   "metadata": {
    "collapsed": true
   },
   "outputs": [],
   "source": [
    "df_train = df_train.drop(columns=nullcolumns)\n",
    "df_test = df_test.drop(columns=nullcolumns)"
   ]
  },
  {
   "cell_type": "code",
   "execution_count": 17,
   "metadata": {},
   "outputs": [
    {
     "data": {
      "text/plain": [
       "[\"large_standard_deviation{'r': 0.05}\",\n",
       " \"large_standard_deviation{'r': 0.15000000000000002}\",\n",
       " \"large_standard_deviation{'r': 0.1}\",\n",
       " \"large_standard_deviation{'r': 0.25}\",\n",
       " \"large_standard_deviation{'r': 0.2}\",\n",
       " \"large_standard_deviation{'r': 0.30000000000000004}\",\n",
       " \"large_standard_deviation{'r': 0.35000000000000003}\",\n",
       " \"large_standard_deviation{'r': 0.45}\",\n",
       " \"large_standard_deviation{'r': 0.4}\",\n",
       " \"large_standard_deviation{'r': 0.55}\",\n",
       " \"large_standard_deviation{'r': 0.5}\",\n",
       " \"large_standard_deviation{'r': 0.6000000000000001}\",\n",
       " \"large_standard_deviation{'r': 0.65}\",\n",
       " \"large_standard_deviation{'r': 0.7000000000000001}\",\n",
       " \"large_standard_deviation{'r': 0.75}\",\n",
       " \"large_standard_deviation{'r': 0.8500000000000001}\",\n",
       " \"large_standard_deviation{'r': 0.8}\",\n",
       " \"large_standard_deviation{'r': 0.9500000000000001}\",\n",
       " \"large_standard_deviation{'r': 0.9}\",\n",
       " 'symmetry_lookingr_0.0',\n",
       " 'symmetry_lookingr_0.05',\n",
       " 'symmetry_lookingr_0.1',\n",
       " 'symmetry_lookingr_0.15000000000000002',\n",
       " 'symmetry_lookingr_0.2',\n",
       " 'symmetry_lookingr_0.25',\n",
       " 'symmetry_lookingr_0.30000000000000004',\n",
       " 'symmetry_lookingr_0.35000000000000003',\n",
       " 'symmetry_lookingr_0.4',\n",
       " 'symmetry_lookingr_0.45',\n",
       " 'symmetry_lookingr_0.5',\n",
       " 'symmetry_lookingr_0.55',\n",
       " 'symmetry_lookingr_0.6000000000000001',\n",
       " 'symmetry_lookingr_0.65',\n",
       " 'symmetry_lookingr_0.7000000000000001',\n",
       " 'symmetry_lookingr_0.75',\n",
       " 'symmetry_lookingr_0.8',\n",
       " 'symmetry_lookingr_0.8500000000000001',\n",
       " 'symmetry_lookingr_0.9',\n",
       " 'symmetry_lookingr_0.9500000000000001']"
      ]
     },
     "execution_count": 17,
     "metadata": {},
     "output_type": "execute_result"
    }
   ],
   "source": [
    "boolcolumns = []\n",
    "for col, typ in zip(df_train.columns, [type(v) for v in list(df_train.values[0,:])]):\n",
    "    if typ == bool:\n",
    "        boolcolumns.append(col)\n",
    "        \n",
    "for col, typ in zip(df_test.columns, [type(v) for v in list(df_test.values[0,:])]):\n",
    "    if typ == bool:\n",
    "        if col not in boolcolumns:\n",
    "            print(col , 'only in df_test')\n",
    "            boolcolumns.append(col)\n",
    "\n",
    "boolcolumns"
   ]
  },
  {
   "cell_type": "code",
   "execution_count": 19,
   "metadata": {
    "collapsed": true
   },
   "outputs": [],
   "source": [
    "for col in boolcolumns:\n",
    "    df_train[col] = df_train[col].astype(int)\n",
    "    df_test[col] = df_test[col].astype(int)"
   ]
  },
  {
   "cell_type": "code",
   "execution_count": 22,
   "metadata": {},
   "outputs": [
    {
     "data": {
      "text/plain": [
       "['5000entropy_max_',\n",
       " '5000entropy_mean_',\n",
       " '5000entropy_median_',\n",
       " '5000entropy_min_',\n",
       " '5000entropy_quantile01',\n",
       " '5000entropy_quantile05',\n",
       " '5000entropy_quantile25',\n",
       " '5000entropy_quantile75',\n",
       " '5000entropy_quantile95',\n",
       " '5000entropy_quantile99',\n",
       " '5000entropy_rms_',\n",
       " '5000entropy_rssq_',\n",
       " '5000kurtosis_entropy_',\n",
       " '5000mean_entropy_',\n",
       " '5000median_entropy_',\n",
       " '5000skewness_entropy_',\n",
       " 'entropy_',\n",
       " 'entropy__roll_mean']"
      ]
     },
     "execution_count": 22,
     "metadata": {},
     "output_type": "execute_result"
    }
   ],
   "source": [
    "infcolumns = []\n",
    "\n",
    "for col, infcount in zip(df_train.columns, df_train.replace([np.inf, -np.inf], np.nan).isnull().sum()):\n",
    "    if infcount!=0:\n",
    "        if col not in infcolumns:\n",
    "            infcolumns.append(col)\n",
    "\n",
    "for col, infcount in zip(df_test.columns, df_test.replace([np.inf, -np.inf], np.nan).isnull().sum()):\n",
    "    if infcount!=0:\n",
    "        if col not in infcolumns:\n",
    "            print(col , 'only in df_test')\n",
    "            infcolumns.append(col)\n",
    "\n",
    "infcolumns"
   ]
  },
  {
   "cell_type": "code",
   "execution_count": 23,
   "metadata": {
    "collapsed": true
   },
   "outputs": [],
   "source": [
    "df_train = df_train.drop(columns=infcolumns)\n",
    "df_test = df_test.drop(columns=infcolumns)"
   ]
  },
  {
   "cell_type": "code",
   "execution_count": 123,
   "metadata": {
    "collapsed": true
   },
   "outputs": [],
   "source": [
    "df_train = pd.read_pickle('feats2/df_train.pkl')"
   ]
  },
  {
   "cell_type": "code",
   "execution_count": 124,
   "metadata": {
    "collapsed": true
   },
   "outputs": [],
   "source": [
    "df_train = pd.merge(df_train, df_train_add, on='index')"
   ]
  },
  {
   "cell_type": "code",
   "execution_count": 125,
   "metadata": {
    "collapsed": true
   },
   "outputs": [],
   "source": [
    "df_test = pd.read_pickle('feats2/df_test.pkl')"
   ]
  },
  {
   "cell_type": "code",
   "execution_count": 126,
   "metadata": {
    "collapsed": true
   },
   "outputs": [],
   "source": [
    "df_test = pd.merge(df_test, df_test_add, on='index')"
   ]
  },
  {
   "cell_type": "code",
   "execution_count": 130,
   "metadata": {},
   "outputs": [
    {
     "data": {
      "text/plain": [
       "1838"
      ]
     },
     "execution_count": 130,
     "metadata": {},
     "output_type": "execute_result"
    }
   ],
   "source": [
    "len(features)"
   ]
  },
  {
   "cell_type": "code",
   "execution_count": 127,
   "metadata": {
    "collapsed": true
   },
   "outputs": [],
   "source": [
    "features = df_train.columns.drop(['index','y','season']).tolist()\n",
    "df_coor = pd.DataFrame(StandardScaler().fit_transform(df_train[features].values), columns=features).corr()\n",
    "cocef = .99\n",
    "grouped_col_lst = []\n",
    "group = {}\n",
    "for col in df_coor.columns:\n",
    "    if col in grouped_col_lst:\n",
    "        continue\n",
    "    group[col] = list(df_coor[(df_coor[col]>cocef)|(df_coor[col]<-cocef)].index)\n",
    "    grouped_col_lst +=  list(df_coor[(df_coor[col]>cocef)|(df_coor[col]<-cocef)].index)\n"
   ]
  },
  {
   "cell_type": "code",
   "execution_count": 128,
   "metadata": {},
   "outputs": [
    {
     "name": "stdout",
     "output_type": "stream",
     "text": [
      "abs_q25_5 ['abs_q25_5', 'q20_roll_std_25', 'q25_roll_std_25']\n",
      "q05_roll_std_100 ['q05_roll_std_100', 'q05_roll_std_25', 'q05_roll_std_50', 'q05_roll_std_75', 'q10_roll_std_25', 'q10_roll_std_50', 'q10_roll_std_75', 'q15_roll_std_25', 'q15_roll_std_50', 'q15_roll_std_75']\n",
      "q25_roll_std_100 ['q25_roll_std_100', 'q15_roll_std_75', 'q20_roll_std_25', 'q20_roll_std_50', 'q20_roll_std_75', 'q25_roll_std_25', 'q25_roll_std_50', 'q25_roll_std_75']\n",
      "spkt_welch_densitycoeff_2 ['spkt_welch_densitycoeff_2', 'spkt_welch_density__coeff_2']\n",
      "spkt_welch_densitycoeff_5 ['spkt_welch_densitycoeff_5', 'spkt_welch_density__coeff_5']\n",
      "spkt_welch_densitycoeff_8 ['spkt_welch_densitycoeff_8', 'spkt_welch_density__coeff_8']\n"
     ]
    }
   ],
   "source": [
    "for k, v in group.items():\n",
    "    if len(v) > 1:\n",
    "        print(k, v)"
   ]
  },
  {
   "cell_type": "code",
   "execution_count": 131,
   "metadata": {
    "collapsed": true
   },
   "outputs": [],
   "source": [
    "features =  list(group.keys())"
   ]
  },
  {
   "cell_type": "code",
   "execution_count": 132,
   "metadata": {},
   "outputs": [
    {
     "data": {
      "text/plain": [
       "1820"
      ]
     },
     "execution_count": 132,
     "metadata": {},
     "output_type": "execute_result"
    }
   ],
   "source": [
    "len(features)"
   ]
  },
  {
   "cell_type": "code",
   "execution_count": 133,
   "metadata": {
    "collapsed": true
   },
   "outputs": [],
   "source": [
    "df_train = df_train[features+['y','index','season']]"
   ]
  },
  {
   "cell_type": "code",
   "execution_count": 134,
   "metadata": {
    "collapsed": true
   },
   "outputs": [],
   "source": [
    "df_test = df_test[features+['index']]"
   ]
  },
  {
   "cell_type": "code",
   "execution_count": 135,
   "metadata": {
    "collapsed": true
   },
   "outputs": [],
   "source": [
    "df_train.to_pickle('feats2/df_train.pkl')"
   ]
  },
  {
   "cell_type": "code",
   "execution_count": 136,
   "metadata": {
    "collapsed": true
   },
   "outputs": [],
   "source": [
    "df_test.to_pickle('feats2/df_test.pkl')"
   ]
  },
  {
   "cell_type": "code",
   "execution_count": 137,
   "metadata": {},
   "outputs": [
    {
     "data": {
      "text/plain": [
       "['1th_peak_freq',\n",
       " '1th_peak_psd',\n",
       " '2th_peak_freq',\n",
       " '2th_peak_psd',\n",
       " '3th_peak_freq',\n",
       " '3th_peak_psd',\n",
       " '4th_peak_freq',\n",
       " '4th_peak_psd',\n",
       " '5th_peak_freq',\n",
       " '5th_peak_psd',\n",
       " 'index',\n",
       " 'q05_roll_std_25',\n",
       " 'q05_roll_std_50',\n",
       " 'q05_roll_std_75',\n",
       " 'q10_roll_std_25',\n",
       " 'q10_roll_std_50',\n",
       " 'q10_roll_std_75',\n",
       " 'q15_roll_std_25',\n",
       " 'q15_roll_std_50',\n",
       " 'q15_roll_std_75',\n",
       " 'q20_roll_std_25',\n",
       " 'q20_roll_std_50',\n",
       " 'q20_roll_std_75',\n",
       " 'q25_roll_std_25',\n",
       " 'q25_roll_std_50',\n",
       " 'q25_roll_std_75',\n",
       " 'spkt_welch_density__coeff_0',\n",
       " 'spkt_welch_density__coeff_1',\n",
       " 'spkt_welch_density__coeff_10',\n",
       " 'spkt_welch_density__coeff_100',\n",
       " 'spkt_welch_density__coeff_101',\n",
       " 'spkt_welch_density__coeff_102',\n",
       " 'spkt_welch_density__coeff_103',\n",
       " 'spkt_welch_density__coeff_104',\n",
       " 'spkt_welch_density__coeff_105',\n",
       " 'spkt_welch_density__coeff_106',\n",
       " 'spkt_welch_density__coeff_107',\n",
       " 'spkt_welch_density__coeff_108',\n",
       " 'spkt_welch_density__coeff_109',\n",
       " 'spkt_welch_density__coeff_11',\n",
       " 'spkt_welch_density__coeff_110',\n",
       " 'spkt_welch_density__coeff_111',\n",
       " 'spkt_welch_density__coeff_112',\n",
       " 'spkt_welch_density__coeff_113',\n",
       " 'spkt_welch_density__coeff_114',\n",
       " 'spkt_welch_density__coeff_115',\n",
       " 'spkt_welch_density__coeff_116',\n",
       " 'spkt_welch_density__coeff_117',\n",
       " 'spkt_welch_density__coeff_118',\n",
       " 'spkt_welch_density__coeff_119',\n",
       " 'spkt_welch_density__coeff_12',\n",
       " 'spkt_welch_density__coeff_120',\n",
       " 'spkt_welch_density__coeff_121',\n",
       " 'spkt_welch_density__coeff_122',\n",
       " 'spkt_welch_density__coeff_123',\n",
       " 'spkt_welch_density__coeff_124',\n",
       " 'spkt_welch_density__coeff_125',\n",
       " 'spkt_welch_density__coeff_126',\n",
       " 'spkt_welch_density__coeff_127',\n",
       " 'spkt_welch_density__coeff_128',\n",
       " 'spkt_welch_density__coeff_13',\n",
       " 'spkt_welch_density__coeff_14',\n",
       " 'spkt_welch_density__coeff_15',\n",
       " 'spkt_welch_density__coeff_16',\n",
       " 'spkt_welch_density__coeff_17',\n",
       " 'spkt_welch_density__coeff_18',\n",
       " 'spkt_welch_density__coeff_19',\n",
       " 'spkt_welch_density__coeff_2',\n",
       " 'spkt_welch_density__coeff_20',\n",
       " 'spkt_welch_density__coeff_21',\n",
       " 'spkt_welch_density__coeff_22',\n",
       " 'spkt_welch_density__coeff_23',\n",
       " 'spkt_welch_density__coeff_24',\n",
       " 'spkt_welch_density__coeff_25',\n",
       " 'spkt_welch_density__coeff_26',\n",
       " 'spkt_welch_density__coeff_27',\n",
       " 'spkt_welch_density__coeff_28',\n",
       " 'spkt_welch_density__coeff_29',\n",
       " 'spkt_welch_density__coeff_3',\n",
       " 'spkt_welch_density__coeff_30',\n",
       " 'spkt_welch_density__coeff_31',\n",
       " 'spkt_welch_density__coeff_32',\n",
       " 'spkt_welch_density__coeff_33',\n",
       " 'spkt_welch_density__coeff_34',\n",
       " 'spkt_welch_density__coeff_35',\n",
       " 'spkt_welch_density__coeff_36',\n",
       " 'spkt_welch_density__coeff_37',\n",
       " 'spkt_welch_density__coeff_38',\n",
       " 'spkt_welch_density__coeff_39',\n",
       " 'spkt_welch_density__coeff_4',\n",
       " 'spkt_welch_density__coeff_40',\n",
       " 'spkt_welch_density__coeff_41',\n",
       " 'spkt_welch_density__coeff_42',\n",
       " 'spkt_welch_density__coeff_43',\n",
       " 'spkt_welch_density__coeff_44',\n",
       " 'spkt_welch_density__coeff_45',\n",
       " 'spkt_welch_density__coeff_46',\n",
       " 'spkt_welch_density__coeff_47',\n",
       " 'spkt_welch_density__coeff_48',\n",
       " 'spkt_welch_density__coeff_49',\n",
       " 'spkt_welch_density__coeff_5',\n",
       " 'spkt_welch_density__coeff_50',\n",
       " 'spkt_welch_density__coeff_51',\n",
       " 'spkt_welch_density__coeff_52',\n",
       " 'spkt_welch_density__coeff_53',\n",
       " 'spkt_welch_density__coeff_54',\n",
       " 'spkt_welch_density__coeff_55',\n",
       " 'spkt_welch_density__coeff_56',\n",
       " 'spkt_welch_density__coeff_57',\n",
       " 'spkt_welch_density__coeff_58',\n",
       " 'spkt_welch_density__coeff_59',\n",
       " 'spkt_welch_density__coeff_6',\n",
       " 'spkt_welch_density__coeff_60',\n",
       " 'spkt_welch_density__coeff_61',\n",
       " 'spkt_welch_density__coeff_62',\n",
       " 'spkt_welch_density__coeff_63',\n",
       " 'spkt_welch_density__coeff_64',\n",
       " 'spkt_welch_density__coeff_65',\n",
       " 'spkt_welch_density__coeff_66',\n",
       " 'spkt_welch_density__coeff_67',\n",
       " 'spkt_welch_density__coeff_68',\n",
       " 'spkt_welch_density__coeff_69',\n",
       " 'spkt_welch_density__coeff_7',\n",
       " 'spkt_welch_density__coeff_70',\n",
       " 'spkt_welch_density__coeff_71',\n",
       " 'spkt_welch_density__coeff_72',\n",
       " 'spkt_welch_density__coeff_73',\n",
       " 'spkt_welch_density__coeff_74',\n",
       " 'spkt_welch_density__coeff_75',\n",
       " 'spkt_welch_density__coeff_76',\n",
       " 'spkt_welch_density__coeff_77',\n",
       " 'spkt_welch_density__coeff_78',\n",
       " 'spkt_welch_density__coeff_79',\n",
       " 'spkt_welch_density__coeff_8',\n",
       " 'spkt_welch_density__coeff_80',\n",
       " 'spkt_welch_density__coeff_81',\n",
       " 'spkt_welch_density__coeff_82',\n",
       " 'spkt_welch_density__coeff_83',\n",
       " 'spkt_welch_density__coeff_84',\n",
       " 'spkt_welch_density__coeff_85',\n",
       " 'spkt_welch_density__coeff_86',\n",
       " 'spkt_welch_density__coeff_87',\n",
       " 'spkt_welch_density__coeff_88',\n",
       " 'spkt_welch_density__coeff_89',\n",
       " 'spkt_welch_density__coeff_9',\n",
       " 'spkt_welch_density__coeff_90',\n",
       " 'spkt_welch_density__coeff_91',\n",
       " 'spkt_welch_density__coeff_92',\n",
       " 'spkt_welch_density__coeff_93',\n",
       " 'spkt_welch_density__coeff_94',\n",
       " 'spkt_welch_density__coeff_95',\n",
       " 'spkt_welch_density__coeff_96',\n",
       " 'spkt_welch_density__coeff_97',\n",
       " 'spkt_welch_density__coeff_98',\n",
       " 'spkt_welch_density__coeff_99']"
      ]
     },
     "execution_count": 137,
     "metadata": {},
     "output_type": "execute_result"
    }
   ],
   "source": [
    "df_train_add.columns.tolist()"
   ]
  },
  {
   "cell_type": "code",
   "execution_count": null,
   "metadata": {
    "collapsed": true
   },
   "outputs": [],
   "source": []
  }
 ],
 "metadata": {
  "kernelspec": {
   "display_name": "Environment (conda_tensorflow_gpu_p36)",
   "language": "python",
   "name": "conda_tensorflow_gpu_p36"
  },
  "language_info": {
   "codemirror_mode": {
    "name": "ipython",
    "version": 3
   },
   "file_extension": ".py",
   "mimetype": "text/x-python",
   "name": "python",
   "nbconvert_exporter": "python",
   "pygments_lexer": "ipython3",
   "version": "3.6.5"
  }
 },
 "nbformat": 4,
 "nbformat_minor": 2
}
