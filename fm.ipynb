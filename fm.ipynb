{
 "cells": [
  {
   "cell_type": "code",
   "execution_count": 1,
   "metadata": {
    "scrolled": true
   },
   "outputs": [
    {
     "name": "stderr",
     "output_type": "stream",
     "text": [
      "Using TensorFlow backend.\n"
     ]
    }
   ],
   "source": [
    "import pandas as pd\n",
    "import numpy as np\n",
    "\n",
    "from sklearn.preprocessing import StandardScaler, MinMaxScaler\n",
    "import lightgbm as lgb\n",
    "import catboost as cb\n",
    "\n",
    "from tsfresh.examples import load_robot_execution_failures\n",
    "from tsfresh import extract_features, select_features\n",
    "from sklearn.neural_network import MLPRegressor\n",
    "from sklearn.svm import SVR\n",
    "from sklearn.neighbors import KNeighborsRegressor\n",
    "from sklearn.linear_model import LogisticRegression, Ridge, Lasso\n",
    "from fastFM import als, mcmc, sgd\n",
    "from pyfm import pylibfm\n",
    "\n",
    "import optuna\n",
    "\n",
    "from common import EP\n",
    "\n",
    "import types"
   ]
  },
  {
   "cell_type": "code",
   "execution_count": 2,
   "metadata": {},
   "outputs": [
    {
     "data": {
      "text/html": [
       "<style>\n",
       "   div#notebook-container    { width: 95%; }\n",
       "   div#menubar-container     { width: 65%; }\n",
       "   div#maintoolbar-container { width: 99%; }\n",
       "</style>"
      ],
      "text/plain": [
       "<IPython.core.display.HTML object>"
      ]
     },
     "metadata": {},
     "output_type": "display_data"
    }
   ],
   "source": [
    "%%HTML\n",
    "<style>\n",
    "   div#notebook-container    { width: 95%; }\n",
    "   div#menubar-container     { width: 65%; }\n",
    "   div#maintoolbar-container { width: 99%; }\n",
    "</style>"
   ]
  },
  {
   "cell_type": "code",
   "execution_count": 3,
   "metadata": {},
   "outputs": [],
   "source": [
    "pd.set_option('display.max_colwidth', -1)"
   ]
  },
  {
   "cell_type": "code",
   "execution_count": 4,
   "metadata": {},
   "outputs": [],
   "source": [
    "df_train = pd.read_pickle('../feats/df_train.pkl')\n",
    "df_test = pd.read_pickle('../feats/df_test.pkl')"
   ]
  },
  {
   "cell_type": "code",
   "execution_count": 5,
   "metadata": {},
   "outputs": [],
   "source": [
    "df_train['label'] = df_train['y'].apply(lambda x:  int(x) if x<15 else 15)\n",
    "group = df_train['season'].values\n",
    "group[np.where(group==17)[0]] = 1\n",
    "df_train['group'] = group\n",
    "df_train = df_train.drop(columns=['season'])"
   ]
  },
  {
   "cell_type": "code",
   "execution_count": 6,
   "metadata": {},
   "outputs": [],
   "source": [
    "test_X = df_train.drop(columns=['y','index','group','label']).copy()\n",
    "test_X.index = df_train['index']\n",
    "test_y = df_train['y'].copy()\n",
    "test_y.index = df_train['index']\n",
    "tsfresh_columns = select_features(test_X, test_y).columns.tolist()"
   ]
  },
  {
   "cell_type": "code",
   "execution_count": 7,
   "metadata": {},
   "outputs": [],
   "source": [
    "original_columns = df_train.columns.drop(['index','y','label','group']).tolist()"
   ]
  },
  {
   "cell_type": "code",
   "execution_count": 9,
   "metadata": {},
   "outputs": [
    {
     "data": {
      "text/plain": [
       "10"
      ]
     },
     "execution_count": 9,
     "metadata": {},
     "output_type": "execute_result"
    }
   ],
   "source": [
    "# mytrial = []\n",
    "mytrial = list(pd.read_pickle('../trial/fm.pkl').T.to_dict().values())\n",
    "df_trial = pd.DataFrame(mytrial)\n",
    "len(mytrial)"
   ]
  },
  {
   "cell_type": "code",
   "execution_count": 39,
   "metadata": {},
   "outputs": [],
   "source": [
    "param = {'algorithm': {'cls': 'als.FMRegression',\n",
    "  'fit': {},\n",
    "  'init': {'n_iter': 10,\n",
    "   'init_stdev': 0.00030963137584220923,\n",
    "   'rank': 2,\n",
    "   'random_state': 42,\n",
    "   'l2_reg_w': 0.1,\n",
    "   'l2_reg_V': 0.1,\n",
    "   'l2_reg': 0}},\n",
    " 'columns': ['q25_roll_std_100',\n",
    " 'abs_q25_5',\n",
    " 'iqr_6',\n",
    " 'abs_q01_4',\n",
    " 'abs_q75_7',\n",
    " 'spkt_welch_density__coeff_3',\n",
    " 'spkt_welch_densitycoeff_2'],\n",
    " 'kfold': {'n_splits': 3,\n",
    "  'random_state': 1985,\n",
    "  'shuffle': True,\n",
    "  'type': 'group'},\n",
    " 'scaler': {'cls': 'StandardScaler'}}"
   ]
  },
  {
   "cell_type": "code",
   "execution_count": 40,
   "metadata": {},
   "outputs": [],
   "source": [
    "# run one try\n",
    "df_his,  df_feature_importances, df_valid_pred, df_test_pred =  EP.process(df_train, param, df_test = df_test, trial=mytrial)"
   ]
  },
  {
   "cell_type": "code",
   "execution_count": 32,
   "metadata": {},
   "outputs": [
    {
     "name": "stderr",
     "output_type": "stream",
     "text": [
      "[I 2019-05-17 02:08:06,859] Finished a trial resulted in value: 1.1128082411819047. Current best value is 1.1128082411819047 with parameters: {'n_iter': 18, 'init_stdev': 0.0003839582549693036, 'rank': 13}.\n",
      "[I 2019-05-17 02:10:26,770] Finished a trial resulted in value: 1.5999636319655133. Current best value is 1.1128082411819047 with parameters: {'n_iter': 18, 'init_stdev': 0.0003839582549693036, 'rank': 13}.\n",
      "[I 2019-05-17 02:13:09,545] Finished a trial resulted in value: 1.8238935807577812. Current best value is 1.1128082411819047 with parameters: {'n_iter': 18, 'init_stdev': 0.0003839582549693036, 'rank': 13}.\n",
      "[I 2019-05-17 02:14:38,769] Finished a trial resulted in value: 1.2556704673348715. Current best value is 1.1128082411819047 with parameters: {'n_iter': 18, 'init_stdev': 0.0003839582549693036, 'rank': 13}.\n",
      "[I 2019-05-17 02:15:43,944] Finished a trial resulted in value: 0.7608375042065423. Current best value is 0.7608375042065423 with parameters: {'n_iter': 82, 'init_stdev': 0.0028472148333418424, 'rank': 2}.\n",
      "[I 2019-05-17 02:16:22,224] Finished a trial resulted in value: 0.9648175901219838. Current best value is 0.7608375042065423 with parameters: {'n_iter': 82, 'init_stdev': 0.0028472148333418424, 'rank': 2}.\n",
      "[I 2019-05-17 02:19:28,843] Finished a trial resulted in value: 1.8856138795479302. Current best value is 0.7608375042065423 with parameters: {'n_iter': 82, 'init_stdev': 0.0028472148333418424, 'rank': 2}.\n",
      "[I 2019-05-17 02:21:00,444] Finished a trial resulted in value: 1.0433505929819755. Current best value is 0.7608375042065423 with parameters: {'n_iter': 82, 'init_stdev': 0.0028472148333418424, 'rank': 2}.\n",
      "[I 2019-05-17 02:25:17,935] Finished a trial resulted in value: 2.3722353700431897. Current best value is 0.7608375042065423 with parameters: {'n_iter': 82, 'init_stdev': 0.0028472148333418424, 'rank': 2}.\n",
      "[I 2019-05-17 02:27:43,732] Finished a trial resulted in value: 1.656213543124404. Current best value is 0.7608375042065423 with parameters: {'n_iter': 82, 'init_stdev': 0.0028472148333418424, 'rank': 2}.\n",
      "[I 2019-05-17 02:28:17,487] Finished a trial resulted in value: 0.7141251717631132. Current best value is 0.7141251717631132 with parameters: {'n_iter': 40, 'init_stdev': 0.004161200362582601, 'rank': 2}.\n",
      "[I 2019-05-17 02:28:55,186] Finished a trial resulted in value: 0.8872821510373796. Current best value is 0.7141251717631132 with parameters: {'n_iter': 40, 'init_stdev': 0.004161200362582601, 'rank': 2}.\n",
      "[I 2019-05-17 02:29:31,715] Finished a trial resulted in value: 0.7177285983400792. Current best value is 0.7141251717631132 with parameters: {'n_iter': 40, 'init_stdev': 0.004161200362582601, 'rank': 2}.\n",
      "[I 2019-05-17 02:30:31,161] Finished a trial resulted in value: 1.017108688939526. Current best value is 0.7141251717631132 with parameters: {'n_iter': 40, 'init_stdev': 0.004161200362582601, 'rank': 2}.\n",
      "[I 2019-05-17 02:31:17,972] Finished a trial resulted in value: 1.1413688976239054. Current best value is 0.7141251717631132 with parameters: {'n_iter': 40, 'init_stdev': 0.004161200362582601, 'rank': 2}.\n",
      "[I 2019-05-17 02:31:29,473] Finished a trial resulted in value: 0.6226072438965753. Current best value is 0.6226072438965753 with parameters: {'n_iter': 11, 'init_stdev': 0.003616854014989626, 'rank': 2}.\n",
      "[I 2019-05-17 02:31:56,066] Finished a trial resulted in value: 1.196244434697413. Current best value is 0.6226072438965753 with parameters: {'n_iter': 11, 'init_stdev': 0.003616854014989626, 'rank': 2}.\n",
      "[I 2019-05-17 02:32:34,899] Finished a trial resulted in value: 0.9999596795369827. Current best value is 0.6226072438965753 with parameters: {'n_iter': 11, 'init_stdev': 0.003616854014989626, 'rank': 2}.\n",
      "[I 2019-05-17 02:32:45,581] Finished a trial resulted in value: 0.614641697571519. Current best value is 0.614641697571519 with parameters: {'n_iter': 10, 'init_stdev': 0.00387007931007777, 'rank': 2}.\n",
      "[I 2019-05-17 02:34:02,846] Finished a trial resulted in value: 1.3146695825712518. Current best value is 0.614641697571519 with parameters: {'n_iter': 10, 'init_stdev': 0.00387007931007777, 'rank': 2}.\n",
      "[I 2019-05-17 02:34:23,340] Finished a trial resulted in value: 1.073839524879218. Current best value is 0.614641697571519 with parameters: {'n_iter': 10, 'init_stdev': 0.00387007931007777, 'rank': 2}.\n",
      "[I 2019-05-17 02:34:37,772] Finished a trial resulted in value: 0.7442001740488997. Current best value is 0.614641697571519 with parameters: {'n_iter': 10, 'init_stdev': 0.00387007931007777, 'rank': 2}.\n",
      "[I 2019-05-17 02:35:58,890] Finished a trial resulted in value: 1.775899599843337. Current best value is 0.614641697571519 with parameters: {'n_iter': 10, 'init_stdev': 0.00387007931007777, 'rank': 2}.\n",
      "[I 2019-05-17 02:37:11,875] Finished a trial resulted in value: 1.3604136524781654. Current best value is 0.614641697571519 with parameters: {'n_iter': 10, 'init_stdev': 0.00387007931007777, 'rank': 2}.\n",
      "[I 2019-05-17 02:37:47,660] Finished a trial resulted in value: 1.2632693339609424. Current best value is 0.614641697571519 with parameters: {'n_iter': 10, 'init_stdev': 0.00387007931007777, 'rank': 2}.\n",
      "[I 2019-05-17 02:38:46,543] Finished a trial resulted in value: 0.948136420495763. Current best value is 0.614641697571519 with parameters: {'n_iter': 10, 'init_stdev': 0.00387007931007777, 'rank': 2}.\n",
      "[I 2019-05-17 02:39:59,865] Finished a trial resulted in value: 1.464648781601407. Current best value is 0.614641697571519 with parameters: {'n_iter': 10, 'init_stdev': 0.00387007931007777, 'rank': 2}.\n",
      "[I 2019-05-17 02:40:39,726] Finished a trial resulted in value: 1.0168335551361283. Current best value is 0.614641697571519 with parameters: {'n_iter': 10, 'init_stdev': 0.00387007931007777, 'rank': 2}.\n",
      "[I 2019-05-17 02:41:36,821] Finished a trial resulted in value: 1.416370364148537. Current best value is 0.614641697571519 with parameters: {'n_iter': 10, 'init_stdev': 0.00387007931007777, 'rank': 2}.\n",
      "[I 2019-05-17 02:41:53,290] Finished a trial resulted in value: 0.7253615466437959. Current best value is 0.614641697571519 with parameters: {'n_iter': 10, 'init_stdev': 0.00387007931007777, 'rank': 2}.\n",
      "[I 2019-05-17 02:45:02,659] Finished a trial resulted in value: 2.0119995973359117. Current best value is 0.614641697571519 with parameters: {'n_iter': 10, 'init_stdev': 0.00387007931007777, 'rank': 2}.\n",
      "[I 2019-05-17 02:46:20,142] Finished a trial resulted in value: 1.3270495714658854. Current best value is 0.614641697571519 with parameters: {'n_iter': 10, 'init_stdev': 0.00387007931007777, 'rank': 2}.\n",
      "[I 2019-05-17 02:47:30,866] Finished a trial resulted in value: 1.4032308153169692. Current best value is 0.614641697571519 with parameters: {'n_iter': 10, 'init_stdev': 0.00387007931007777, 'rank': 2}.\n",
      "[I 2019-05-17 02:48:43,613] Finished a trial resulted in value: 1.1995271308318964. Current best value is 0.614641697571519 with parameters: {'n_iter': 10, 'init_stdev': 0.00387007931007777, 'rank': 2}.\n",
      "[I 2019-05-17 02:52:22,046] Finished a trial resulted in value: 2.232482189390724. Current best value is 0.614641697571519 with parameters: {'n_iter': 10, 'init_stdev': 0.00387007931007777, 'rank': 2}.\n",
      "[I 2019-05-17 02:52:44,564] Finished a trial resulted in value: 0.5649772799486461. Current best value is 0.5649772799486461 with parameters: {'n_iter': 26, 'init_stdev': 0.0005812212418646982, 'rank': 2}.\n",
      "[I 2019-05-17 02:53:17,377] Finished a trial resulted in value: 1.049931732465294. Current best value is 0.5649772799486461 with parameters: {'n_iter': 26, 'init_stdev': 0.0005812212418646982, 'rank': 2}.\n",
      "[I 2019-05-17 02:53:51,468] Finished a trial resulted in value: 0.794027127242026. Current best value is 0.5649772799486461 with parameters: {'n_iter': 26, 'init_stdev': 0.0005812212418646982, 'rank': 2}.\n",
      "[I 2019-05-17 02:54:17,919] Finished a trial resulted in value: 0.7295559371248638. Current best value is 0.5649772799486461 with parameters: {'n_iter': 26, 'init_stdev': 0.0005812212418646982, 'rank': 2}.\n",
      "[I 2019-05-17 02:54:52,086] Finished a trial resulted in value: 1.182518402483197. Current best value is 0.5649772799486461 with parameters: {'n_iter': 26, 'init_stdev': 0.0005812212418646982, 'rank': 2}.\n"
     ]
    },
    {
     "name": "stderr",
     "output_type": "stream",
     "text": [
      "[I 2019-05-17 02:56:05,391] Finished a trial resulted in value: 1.5505349162192792. Current best value is 0.5649772799486461 with parameters: {'n_iter': 26, 'init_stdev': 0.0005812212418646982, 'rank': 2}.\n",
      "[I 2019-05-17 02:56:26,911] Finished a trial resulted in value: 0.9817260560002663. Current best value is 0.5649772799486461 with parameters: {'n_iter': 26, 'init_stdev': 0.0005812212418646982, 'rank': 2}.\n",
      "[I 2019-05-17 02:57:50,118] Finished a trial resulted in value: 1.1288775441832095. Current best value is 0.5649772799486461 with parameters: {'n_iter': 26, 'init_stdev': 0.0005812212418646982, 'rank': 2}.\n",
      "[I 2019-05-17 02:58:33,533] Finished a trial resulted in value: 1.0078181036916154. Current best value is 0.5649772799486461 with parameters: {'n_iter': 26, 'init_stdev': 0.0005812212418646982, 'rank': 2}.\n",
      "[I 2019-05-17 02:59:28,165] Finished a trial resulted in value: 0.6640968083781947. Current best value is 0.5649772799486461 with parameters: {'n_iter': 26, 'init_stdev': 0.0005812212418646982, 'rank': 2}.\n",
      "[I 2019-05-17 03:00:00,657] Finished a trial resulted in value: 0.9967146002644184. Current best value is 0.5649772799486461 with parameters: {'n_iter': 26, 'init_stdev': 0.0005812212418646982, 'rank': 2}.\n",
      "[I 2019-05-17 03:01:37,688] Finished a trial resulted in value: 1.6276212795880913. Current best value is 0.5649772799486461 with parameters: {'n_iter': 26, 'init_stdev': 0.0005812212418646982, 'rank': 2}.\n",
      "[I 2019-05-17 03:02:27,545] Finished a trial resulted in value: 0.6491528104386719. Current best value is 0.5649772799486461 with parameters: {'n_iter': 26, 'init_stdev': 0.0005812212418646982, 'rank': 2}.\n",
      "[I 2019-05-17 03:02:55,141] Finished a trial resulted in value: 1.1640393434044276. Current best value is 0.5649772799486461 with parameters: {'n_iter': 26, 'init_stdev': 0.0005812212418646982, 'rank': 2}.\n",
      "[I 2019-05-17 03:03:27,426] Finished a trial resulted in value: 0.8244149288861109. Current best value is 0.5649772799486461 with parameters: {'n_iter': 26, 'init_stdev': 0.0005812212418646982, 'rank': 2}.\n",
      "[I 2019-05-17 03:04:17,175] Finished a trial resulted in value: 1.2964274936814042. Current best value is 0.5649772799486461 with parameters: {'n_iter': 26, 'init_stdev': 0.0005812212418646982, 'rank': 2}.\n",
      "[I 2019-05-17 03:04:40,919] Finished a trial resulted in value: 1.2147807281727994. Current best value is 0.5649772799486461 with parameters: {'n_iter': 26, 'init_stdev': 0.0005812212418646982, 'rank': 2}.\n",
      "[I 2019-05-17 03:05:05,223] Finished a trial resulted in value: 0.8320471872971729. Current best value is 0.5649772799486461 with parameters: {'n_iter': 26, 'init_stdev': 0.0005812212418646982, 'rank': 2}.\n",
      "[I 2019-05-17 03:06:04,399] Finished a trial resulted in value: 1.2360732045007774. Current best value is 0.5649772799486461 with parameters: {'n_iter': 26, 'init_stdev': 0.0005812212418646982, 'rank': 2}.\n",
      "[I 2019-05-17 03:06:43,314] Finished a trial resulted in value: 1.4755403983573057. Current best value is 0.5649772799486461 with parameters: {'n_iter': 26, 'init_stdev': 0.0005812212418646982, 'rank': 2}.\n",
      "[I 2019-05-17 03:08:41,750] Finished a trial resulted in value: 1.9254407865941674. Current best value is 0.5649772799486461 with parameters: {'n_iter': 26, 'init_stdev': 0.0005812212418646982, 'rank': 2}.\n",
      "[I 2019-05-17 03:09:06,811] Finished a trial resulted in value: 0.9535857085296428. Current best value is 0.5649772799486461 with parameters: {'n_iter': 26, 'init_stdev': 0.0005812212418646982, 'rank': 2}.\n",
      "[I 2019-05-17 03:10:15,499] Finished a trial resulted in value: 1.512889403947181. Current best value is 0.5649772799486461 with parameters: {'n_iter': 26, 'init_stdev': 0.0005812212418646982, 'rank': 2}.\n",
      "[I 2019-05-17 03:12:09,810] Finished a trial resulted in value: 1.4264760708819761. Current best value is 0.5649772799486461 with parameters: {'n_iter': 26, 'init_stdev': 0.0005812212418646982, 'rank': 2}.\n",
      "[I 2019-05-17 03:13:04,834] Finished a trial resulted in value: 1.4192380924769996. Current best value is 0.5649772799486461 with parameters: {'n_iter': 26, 'init_stdev': 0.0005812212418646982, 'rank': 2}.\n",
      "[I 2019-05-17 03:13:29,677] Finished a trial resulted in value: 0.847330863484939. Current best value is 0.5649772799486461 with parameters: {'n_iter': 26, 'init_stdev': 0.0005812212418646982, 'rank': 2}.\n",
      "[I 2019-05-17 03:14:30,446] Finished a trial resulted in value: 0.760086398743291. Current best value is 0.5649772799486461 with parameters: {'n_iter': 26, 'init_stdev': 0.0005812212418646982, 'rank': 2}.\n",
      "[I 2019-05-17 03:14:46,205] Finished a trial resulted in value: 0.7588821265668138. Current best value is 0.5649772799486461 with parameters: {'n_iter': 26, 'init_stdev': 0.0005812212418646982, 'rank': 2}.\n",
      "[I 2019-05-17 03:16:46,893] Finished a trial resulted in value: 1.7590507214367126. Current best value is 0.5649772799486461 with parameters: {'n_iter': 26, 'init_stdev': 0.0005812212418646982, 'rank': 2}.\n",
      "[I 2019-05-17 03:17:54,797] Finished a trial resulted in value: 1.2686082696491758. Current best value is 0.5649772799486461 with parameters: {'n_iter': 26, 'init_stdev': 0.0005812212418646982, 'rank': 2}.\n",
      "[I 2019-05-17 03:18:04,880] Finished a trial resulted in value: 0.5823478076211919. Current best value is 0.5649772799486461 with parameters: {'n_iter': 26, 'init_stdev': 0.0005812212418646982, 'rank': 2}.\n",
      "[I 2019-05-17 03:18:16,291] Finished a trial resulted in value: 0.6799105269043758. Current best value is 0.5649772799486461 with parameters: {'n_iter': 26, 'init_stdev': 0.0005812212418646982, 'rank': 2}.\n",
      "[I 2019-05-17 03:18:30,669] Finished a trial resulted in value: 0.6327547307853492. Current best value is 0.5649772799486461 with parameters: {'n_iter': 26, 'init_stdev': 0.0005812212418646982, 'rank': 2}.\n",
      "[I 2019-05-17 03:18:53,018] Finished a trial resulted in value: 0.9324027259207472. Current best value is 0.5649772799486461 with parameters: {'n_iter': 26, 'init_stdev': 0.0005812212418646982, 'rank': 2}.\n",
      "[I 2019-05-17 03:19:16,137] Finished a trial resulted in value: 0.7589992566567613. Current best value is 0.5649772799486461 with parameters: {'n_iter': 26, 'init_stdev': 0.0005812212418646982, 'rank': 2}.\n",
      "[I 2019-05-17 03:19:32,512] Finished a trial resulted in value: 0.8941933004514563. Current best value is 0.5649772799486461 with parameters: {'n_iter': 26, 'init_stdev': 0.0005812212418646982, 'rank': 2}.\n",
      "[I 2019-05-17 03:20:14,764] Finished a trial resulted in value: 1.0689719273268605. Current best value is 0.5649772799486461 with parameters: {'n_iter': 26, 'init_stdev': 0.0005812212418646982, 'rank': 2}.\n",
      "[I 2019-05-17 03:21:26,337] Finished a trial resulted in value: 0.7838838099239459. Current best value is 0.5649772799486461 with parameters: {'n_iter': 26, 'init_stdev': 0.0005812212418646982, 'rank': 2}.\n",
      "[I 2019-05-17 03:22:18,887] Finished a trial resulted in value: 0.9316746487133327. Current best value is 0.5649772799486461 with parameters: {'n_iter': 26, 'init_stdev': 0.0005812212418646982, 'rank': 2}.\n",
      "[I 2019-05-17 03:22:53,782] Finished a trial resulted in value: 0.7330527622448264. Current best value is 0.5649772799486461 with parameters: {'n_iter': 26, 'init_stdev': 0.0005812212418646982, 'rank': 2}.\n",
      "[I 2019-05-17 03:23:21,361] Finished a trial resulted in value: 0.8921245715360295. Current best value is 0.5649772799486461 with parameters: {'n_iter': 26, 'init_stdev': 0.0005812212418646982, 'rank': 2}.\n",
      "[I 2019-05-17 03:24:58,840] Finished a trial resulted in value: 1.2787539302761113. Current best value is 0.5649772799486461 with parameters: {'n_iter': 26, 'init_stdev': 0.0005812212418646982, 'rank': 2}.\n",
      "[I 2019-05-17 03:25:14,664] Finished a trial resulted in value: 0.6720439822638591. Current best value is 0.5649772799486461 with parameters: {'n_iter': 26, 'init_stdev': 0.0005812212418646982, 'rank': 2}.\n",
      "[I 2019-05-17 03:25:33,980] Finished a trial resulted in value: 0.9576419037360183. Current best value is 0.5649772799486461 with parameters: {'n_iter': 26, 'init_stdev': 0.0005812212418646982, 'rank': 2}.\n"
     ]
    },
    {
     "name": "stderr",
     "output_type": "stream",
     "text": [
      "[I 2019-05-17 03:25:59,178] Finished a trial resulted in value: 1.0447810673152786. Current best value is 0.5649772799486461 with parameters: {'n_iter': 26, 'init_stdev': 0.0005812212418646982, 'rank': 2}.\n",
      "[I 2019-05-17 03:26:19,883] Finished a trial resulted in value: 0.8113551762970573. Current best value is 0.5649772799486461 with parameters: {'n_iter': 26, 'init_stdev': 0.0005812212418646982, 'rank': 2}.\n",
      "[I 2019-05-17 03:27:28,507] Finished a trial resulted in value: 1.0218478663588446. Current best value is 0.5649772799486461 with parameters: {'n_iter': 26, 'init_stdev': 0.0005812212418646982, 'rank': 2}.\n",
      "[I 2019-05-17 03:28:14,115] Finished a trial resulted in value: 1.1454519010074924. Current best value is 0.5649772799486461 with parameters: {'n_iter': 26, 'init_stdev': 0.0005812212418646982, 'rank': 2}.\n",
      "[I 2019-05-17 03:28:45,289] Finished a trial resulted in value: 0.9815758139565772. Current best value is 0.5649772799486461 with parameters: {'n_iter': 26, 'init_stdev': 0.0005812212418646982, 'rank': 2}.\n",
      "[I 2019-05-17 03:28:55,398] Finished a trial resulted in value: 0.45180221130562087. Current best value is 0.45180221130562087 with parameters: {'n_iter': 10, 'init_stdev': 0.00030963137584220923, 'rank': 2}.\n",
      "[I 2019-05-17 03:29:14,555] Finished a trial resulted in value: 0.8766510714209921. Current best value is 0.45180221130562087 with parameters: {'n_iter': 10, 'init_stdev': 0.00030963137584220923, 'rank': 2}.\n",
      "[I 2019-05-17 03:29:55,857] Finished a trial resulted in value: 0.5009636663163255. Current best value is 0.45180221130562087 with parameters: {'n_iter': 10, 'init_stdev': 0.00030963137584220923, 'rank': 2}.\n",
      "[I 2019-05-17 03:31:09,114] Finished a trial resulted in value: 1.2007647079587829. Current best value is 0.45180221130562087 with parameters: {'n_iter': 10, 'init_stdev': 0.00030963137584220923, 'rank': 2}.\n",
      "[I 2019-05-17 03:32:23,583] Finished a trial resulted in value: 1.111554022083854. Current best value is 0.45180221130562087 with parameters: {'n_iter': 10, 'init_stdev': 0.00030963137584220923, 'rank': 2}.\n",
      "[I 2019-05-17 03:33:39,078] Finished a trial resulted in value: 1.0230316261812205. Current best value is 0.45180221130562087 with parameters: {'n_iter': 10, 'init_stdev': 0.00030963137584220923, 'rank': 2}.\n",
      "[I 2019-05-17 03:35:20,145] Finished a trial resulted in value: 1.4859166622930717. Current best value is 0.45180221130562087 with parameters: {'n_iter': 10, 'init_stdev': 0.00030963137584220923, 'rank': 2}.\n",
      "[I 2019-05-17 03:36:34,268] Finished a trial resulted in value: 1.3952269965446196. Current best value is 0.45180221130562087 with parameters: {'n_iter': 10, 'init_stdev': 0.00030963137584220923, 'rank': 2}.\n",
      "[I 2019-05-17 03:37:29,391] Finished a trial resulted in value: 0.9480122343222689. Current best value is 0.45180221130562087 with parameters: {'n_iter': 10, 'init_stdev': 0.00030963137584220923, 'rank': 2}.\n",
      "[I 2019-05-17 03:38:25,075] Finished a trial resulted in value: 0.6625289930872794. Current best value is 0.45180221130562087 with parameters: {'n_iter': 10, 'init_stdev': 0.00030963137584220923, 'rank': 2}.\n",
      "[I 2019-05-17 03:39:52,385] Finished a trial resulted in value: 0.9651491861510074. Current best value is 0.45180221130562087 with parameters: {'n_iter': 10, 'init_stdev': 0.00030963137584220923, 'rank': 2}.\n",
      "[I 2019-05-17 03:40:40,667] Finished a trial resulted in value: 0.9435951767900099. Current best value is 0.45180221130562087 with parameters: {'n_iter': 10, 'init_stdev': 0.00030963137584220923, 'rank': 2}.\n",
      "[I 2019-05-17 03:41:55,539] Finished a trial resulted in value: 1.287276376910105. Current best value is 0.45180221130562087 with parameters: {'n_iter': 10, 'init_stdev': 0.00030963137584220923, 'rank': 2}.\n",
      "[I 2019-05-17 03:42:36,026] Finished a trial resulted in value: 0.6774511053328431. Current best value is 0.45180221130562087 with parameters: {'n_iter': 10, 'init_stdev': 0.00030963137584220923, 'rank': 2}.\n",
      "[I 2019-05-17 03:43:16,945] Finished a trial resulted in value: 0.9547012920655957. Current best value is 0.45180221130562087 with parameters: {'n_iter': 10, 'init_stdev': 0.00030963137584220923, 'rank': 2}.\n",
      "[I 2019-05-17 03:44:36,847] Finished a trial resulted in value: 1.078901353189154. Current best value is 0.45180221130562087 with parameters: {'n_iter': 10, 'init_stdev': 0.00030963137584220923, 'rank': 2}.\n"
     ]
    }
   ],
   "source": [
    "#  tune hypterparameters\n",
    "def objective(trial):\n",
    "\n",
    "    n_iter = trial.suggest_int('n_iter', 10, 100)\n",
    "    init_stdev = trial.suggest_uniform('init_stdev', 0.00001, .01)\n",
    "    rank = trial.suggest_int('rank', 2, 16)\n",
    "        \n",
    "    args={'algorithm': {'cls': 'als.FMRegression',\n",
    "      'fit': {},\n",
    "      'init': {'n_iter': n_iter,\n",
    "       'init_stdev': init_stdev,\n",
    "       'rank': rank,\n",
    "       'random_state': 42,\n",
    "       'l2_reg_w': 0.1,\n",
    "       'l2_reg_V': 0.1,\n",
    "       'l2_reg': 0}},\n",
    "     'columns': param['columns'].copy(),\n",
    "     'kfold': {'n_splits': 3,\n",
    "      'random_state': 1985,\n",
    "      'shuffle': True,\n",
    "      'type': 'group'},\n",
    "     'scaler': {'cls': 'StandardScaler'}}\n",
    "    \n",
    "    df_his,  df_feature_importances, df_valid_pred, df_test_pred =  EP.process(df_train, args, df_test = df_test, trial=mytrial, remark='tune 11')\n",
    "    val_mae_mean = np.mean(df_his.valid)\n",
    "    val_mae_var = np.var(df_his.valid)\n",
    "    train_mae_mean = np.mean(df_his.train)\n",
    "    train_mae_var = np.var(df_his.train)\n",
    "    \n",
    "    trial.set_user_attr('val_mae', val_mae_mean)\n",
    "    trial.set_user_attr('train_mae', train_mae_mean)\n",
    "    trial.set_user_attr('mae_diff', val_mae_mean-train_mae_mean)\n",
    "    trial.set_user_attr('val_mae_var', val_mae_var)\n",
    "\n",
    "    return np.abs(val_mae_mean - train_mae_mean)*val_mae_mean\n",
    "\n",
    "study = optuna.create_study()\n",
    "study.optimize(objective, n_trials=100)"
   ]
  },
  {
   "cell_type": "code",
   "execution_count": 43,
   "metadata": {},
   "outputs": [
    {
     "data": {
      "text/html": [
       "<div>\n",
       "<style scoped>\n",
       "    .dataframe tbody tr th:only-of-type {\n",
       "        vertical-align: middle;\n",
       "    }\n",
       "\n",
       "    .dataframe tbody tr th {\n",
       "        vertical-align: top;\n",
       "    }\n",
       "\n",
       "    .dataframe thead th {\n",
       "        text-align: right;\n",
       "    }\n",
       "</style>\n",
       "<table border=\"1\" class=\"dataframe\">\n",
       "  <thead>\n",
       "    <tr style=\"text-align: right;\">\n",
       "      <th></th>\n",
       "      <th>datetime</th>\n",
       "      <th>algorithm-init</th>\n",
       "      <th>kfold-type</th>\n",
       "      <th>nfeatures</th>\n",
       "      <th>train_mae</th>\n",
       "      <th>train_mae_var</th>\n",
       "      <th>val_mae</th>\n",
       "      <th>val_mae_var</th>\n",
       "      <th>mae_diff</th>\n",
       "    </tr>\n",
       "  </thead>\n",
       "  <tbody>\n",
       "    <tr>\n",
       "      <th>313</th>\n",
       "      <td>2019-05-17 04:14:15.187700</td>\n",
       "      <td>{'n_iter': 10, 'init_stdev': 0.00030963137584220923, 'rank': 2, 'random_state': 42, 'l2_reg_w': 0.1, 'l2_reg_V': 0.1, 'l2_reg': 0}</td>\n",
       "      <td>group</td>\n",
       "      <td>7</td>\n",
       "      <td>2.099356</td>\n",
       "      <td>0.00307</td>\n",
       "      <td>2.10857</td>\n",
       "      <td>0.01448</td>\n",
       "      <td>0.009214</td>\n",
       "    </tr>\n",
       "  </tbody>\n",
       "</table>\n",
       "</div>"
      ],
      "text/plain": [
       "                      datetime  \\\n",
       "313 2019-05-17 04:14:15.187700   \n",
       "\n",
       "                                                                                                                         algorithm-init  \\\n",
       "313  {'n_iter': 10, 'init_stdev': 0.00030963137584220923, 'rank': 2, 'random_state': 42, 'l2_reg_w': 0.1, 'l2_reg_V': 0.1, 'l2_reg': 0}   \n",
       "\n",
       "    kfold-type  nfeatures  train_mae  train_mae_var  val_mae  val_mae_var  \\\n",
       "313  group      7          2.099356   0.00307        2.10857  0.01448       \n",
       "\n",
       "     mae_diff  \n",
       "313  0.009214  "
      ]
     },
     "execution_count": 43,
     "metadata": {},
     "output_type": "execute_result"
    }
   ],
   "source": [
    "df_trial = pd.DataFrame(mytrial)\n",
    "df_trial['algorithm-init'] = df_trial['param'].apply(lambda x: x['algorithm']['init'])\n",
    "df_trial['kfold-type'] = df_trial['param'].apply(lambda x: x['kfold']['type'])\n",
    "#[(df_trial['remark']=='tune 11')&(df_trial['mae_diff']<0.3)].sort_values(by=['val_mae'])\n",
    "df_trial[['datetime','algorithm-init','kfold-type','nfeatures', 'train_mae','train_mae_var','val_mae','val_mae_var','mae_diff']].tail(1)"
   ]
  },
  {
   "cell_type": "code",
   "execution_count": 44,
   "metadata": {},
   "outputs": [],
   "source": [
    "df_submit = pd.DataFrame()\n",
    "df_submit['time_to_failure'] = np.mean(df_test_pred.drop(columns=['index']).values, axis=1)\n",
    "df_submit['seg_id'] = df_test_pred['index']\n",
    "df_submit.to_csv('submission.csv', index=False)"
   ]
  },
  {
   "cell_type": "code",
   "execution_count": 44,
   "metadata": {},
   "outputs": [],
   "source": [
    "df_trial.to_pickle('../trial/fm.pkl')"
   ]
  },
  {
   "cell_type": "code",
   "execution_count": null,
   "metadata": {},
   "outputs": [],
   "source": []
  }
 ],
 "metadata": {
  "kernelspec": {
   "display_name": "Environment (conda_tensorflow_gpu_p36)",
   "language": "python",
   "name": "conda_tensorflow_gpu_p36"
  },
  "language_info": {
   "codemirror_mode": {
    "name": "ipython",
    "version": 3
   },
   "file_extension": ".py",
   "mimetype": "text/x-python",
   "name": "python",
   "nbconvert_exporter": "python",
   "pygments_lexer": "ipython3",
   "version": "3.6.5"
  }
 },
 "nbformat": 4,
 "nbformat_minor": 2
}
