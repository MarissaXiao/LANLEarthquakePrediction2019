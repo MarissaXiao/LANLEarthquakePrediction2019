{
 "cells": [
  {
   "cell_type": "code",
   "execution_count": 2,
   "metadata": {
    "scrolled": true
   },
   "outputs": [
    {
     "name": "stderr",
     "output_type": "stream",
     "text": [
      "/home/ubuntu/.conda/envs/py36/lib/python3.6/site-packages/sklearn/ensemble/weight_boosting.py:29: DeprecationWarning: numpy.core.umath_tests is an internal NumPy module and should not be imported. It will be removed in a future NumPy release.\n",
      "  from numpy.core.umath_tests import inner1d\n",
      "Using TensorFlow backend.\n"
     ]
    }
   ],
   "source": [
    "import pandas as pd\n",
    "import numpy as np\n",
    "\n",
    "from sklearn.preprocessing import StandardScaler, MinMaxScaler\n",
    "import lightgbm as lgb\n",
    "import catboost as cb\n",
    "\n",
    "from tsfresh.examples import load_robot_execution_failures\n",
    "from tsfresh import extract_features, select_features\n",
    "from sklearn.neural_network import MLPRegressor\n",
    "from sklearn.svm import SVR\n",
    "from sklearn.neighbors import KNeighborsRegressor\n",
    "from sklearn.linear_model import LogisticRegression, Ridge, Lasso\n",
    "from fastFM import als, mcmc, sgd\n",
    "# from pyfm import pylibfm\n",
    "\n",
    "import optuna\n",
    "\n",
    "from common import EP\n",
    "from dfdb import DFDB\n",
    "\n",
    "import types\n",
    "import copy"
   ]
  },
  {
   "cell_type": "code",
   "execution_count": 3,
   "metadata": {},
   "outputs": [
    {
     "data": {
      "text/html": [
       "<style>\n",
       "   div#notebook-container    { width: 95%; }\n",
       "   div#menubar-container     { width: 65%; }\n",
       "   div#maintoolbar-container { width: 99%; }\n",
       "</style>"
      ],
      "text/plain": [
       "<IPython.core.display.HTML object>"
      ]
     },
     "metadata": {},
     "output_type": "display_data"
    }
   ],
   "source": [
    "%%HTML\n",
    "<style>\n",
    "   div#notebook-container    { width: 95%; }\n",
    "   div#menubar-container     { width: 65%; }\n",
    "   div#maintoolbar-container { width: 99%; }\n",
    "</style>"
   ]
  },
  {
   "cell_type": "code",
   "execution_count": 4,
   "metadata": {
    "collapsed": true
   },
   "outputs": [],
   "source": [
    "pd.set_option('display.max_colwidth', -1)"
   ]
  },
  {
   "cell_type": "code",
   "execution_count": 5,
   "metadata": {
    "collapsed": true
   },
   "outputs": [],
   "source": [
    "df_train = pd.read_pickle('../feats/df_train.pkl')\n",
    "df_test = pd.read_pickle('../feats/df_test.pkl')"
   ]
  },
  {
   "cell_type": "code",
   "execution_count": 6,
   "metadata": {
    "collapsed": true
   },
   "outputs": [],
   "source": [
    "df_train['label'] = df_train['y'].apply(lambda x:  int(x) if x<15 else 15)\n",
    "group = df_train['season'].values\n",
    "group[np.where(group==17)[0]] = 1\n",
    "df_train['group'] = group\n",
    "df_train = df_train.drop(columns=['season'])"
   ]
  },
  {
   "cell_type": "code",
   "execution_count": 7,
   "metadata": {
    "collapsed": true
   },
   "outputs": [],
   "source": [
    "test_X = df_train.drop(columns=['y','index','group','label']).copy()\n",
    "test_X.index = df_train['index']\n",
    "test_y = df_train['y'].copy()\n",
    "test_y.index = df_train['index']\n",
    "tsfresh_columns = select_features(test_X, test_y).columns.tolist()"
   ]
  },
  {
   "cell_type": "code",
   "execution_count": 8,
   "metadata": {
    "collapsed": true
   },
   "outputs": [],
   "source": [
    "original_columns = df_train.columns.drop(['index','y','label','group']).tolist()"
   ]
  },
  {
   "cell_type": "code",
   "execution_count": 14,
   "metadata": {},
   "outputs": [],
   "source": [
    "unique_columns = ['5000variance_median_',\n",
    " \"number_peaks{'n': 5}\",\n",
    " 'spkt_welch_density__coeff_3',\n",
    " '5000quantile99median_',\n",
    " 'q05_roll_std_1000',\n",
    " '5000skewness_max_',\n",
    " '5000form_factor_quantile75',\n",
    " 'abs_q05_6',\n",
    " '5000smoothness_std_',\n",
    " 'abs_q75_6',\n",
    " 'q05_5',\n",
    " 'abs_q75_2',\n",
    " 'abs_q95_6',\n",
    " '5000smoothness_median_',\n",
    " 'median__roll_std',\n",
    " 'abs_q75_7',\n",
    " '5000smoothness_quantile25',\n",
    " 'q75_roll_std_10',\n",
    " '5000median_variance_',\n",
    " 'abs_q25_5',\n",
    " \"number_peaks{'n': 1}\",\n",
    " '5000smoothness_quantile05',\n",
    " 'MA_1000MA_std_mean_7',\n",
    " 'iqr_6',\n",
    " '5000std_median_',\n",
    " '3th_peak_freq',\n",
    " \"change_quantiles{'ql': 0.2, 'qh': 0.8, 'isabs': False, 'f_agg': 'var'}\",\n",
    " 'abs_q01_5',\n",
    " 'spkt_welch_density__coeff_4',\n",
    " '5000variance_quantile25',\n",
    " 'q01_2',\n",
    " '5000crest_factor_quantile75',\n",
    " '5000std_quantile05',\n",
    " 'q01_roll_std_10',\n",
    " 'iqr_3',\n",
    " 'abs_q01_3',\n",
    " '5000std_quantile25',\n",
    " 'spkt_welch_densitycoeff_2',\n",
    " 'q01_roll_std_1000',\n",
    " \"autocorrelation{'lag': 5}\",\n",
    " \"value_count{'value': 1}\",\n",
    " \"number_peaks{'n': 3}\",\n",
    " 'abs_q95_2',\n",
    " \"number_peaks{'n': 10}\",\n",
    " '5000smoothness_mean_',\n",
    " '5000smoothness_entropy_',\n",
    " 'q05_roll_std_100',\n",
    " 'q01_roll_std_100',\n",
    " 'abs_q01_4',\n",
    " \"quantile{'q': 0.9}\",\n",
    " 'q05_roll_std_10',\n",
    " 'FFT_Mag_75q0',\n",
    " 'q25_roll_std_100']"
   ]
  },
  {
   "cell_type": "code",
   "execution_count": 12,
   "metadata": {},
   "outputs": [],
   "source": [
    "common_columns = ['q05_roll_std_1000',\n",
    " 'abs_q75_6',\n",
    " 'abs_q25_5',\n",
    " 'iqr_6',\n",
    " \"number_peaks{'n': 10}\",\n",
    " 'q05_roll_std_100',\n",
    " 'abs_q01_4',\n",
    " 'q25_roll_std_100']"
   ]
  },
  {
   "cell_type": "code",
   "execution_count": 13,
   "metadata": {},
   "outputs": [],
   "source": [
    "common_columns75 = ['spkt_welch_density__coeff_3',\n",
    " 'q05_roll_std_1000',\n",
    " 'abs_q75_6',\n",
    " 'q05_5',\n",
    " 'median__roll_std',\n",
    " 'abs_q75_7',\n",
    " 'abs_q25_5',\n",
    " '5000smoothness_quantile05',\n",
    " 'iqr_6',\n",
    " \"change_quantiles{'ql': 0.2, 'qh': 0.8, 'isabs': False, 'f_agg': 'var'}\",\n",
    " 'spkt_welch_densitycoeff_2',\n",
    " \"number_peaks{'n': 10}\",\n",
    " 'q05_roll_std_100',\n",
    " 'abs_q01_4',\n",
    " 'q05_roll_std_10',\n",
    " 'q25_roll_std_100']"
   ]
  },
  {
   "cell_type": "code",
   "execution_count": 15,
   "metadata": {},
   "outputs": [],
   "source": [
    "# mytrial = []\n",
    "db = DFDB('../trial/fm.pkl', auto_commit=False)"
   ]
  },
  {
   "cell_type": "code",
   "execution_count": 36,
   "metadata": {
    "collapsed": true
   },
   "outputs": [],
   "source": [
    "param = {'algorithm': {'cls': 'als.FMRegression',\n",
    "  'fit': {},\n",
    "  'init': {'n_iter': 10,\n",
    "   'init_stdev': 0.00030963137584220923,\n",
    "   'rank': 2,\n",
    "   'random_state': 42,\n",
    "   'l2_reg_w': 0.1,\n",
    "   'l2_reg_V': 0.1,\n",
    "   'l2_reg': 0}},\n",
    " 'columns': common_columns75,\n",
    " 'kfold': {'n_splits': 3,\n",
    "  'random_state': 1985,\n",
    "  'shuffle': True,\n",
    "  'type': 'group'},\n",
    " 'scaler': {'cls': 'StandardScaler'}}"
   ]
  },
  {
   "cell_type": "code",
   "execution_count": 40,
   "metadata": {
    "collapsed": true
   },
   "outputs": [],
   "source": [
    "# run one try\n",
    "mytrial = []\n",
    "df_his,  df_feature_importances, df_valid_pred, df_test_pred =  EP.process(df_train, param, df_test = df_test, trial=mytrial, remark='try common_columns75')\n",
    "db.insert(mytrial[0])\n",
    "df_trial = db.select()"
   ]
  },
  {
   "cell_type": "code",
   "execution_count": 43,
   "metadata": {},
   "outputs": [
    {
     "data": {
      "text/html": [
       "<div>\n",
       "<style scoped>\n",
       "    .dataframe tbody tr th:only-of-type {\n",
       "        vertical-align: middle;\n",
       "    }\n",
       "\n",
       "    .dataframe tbody tr th {\n",
       "        vertical-align: top;\n",
       "    }\n",
       "\n",
       "    .dataframe thead th {\n",
       "        text-align: right;\n",
       "    }\n",
       "</style>\n",
       "<table border=\"1\" class=\"dataframe\">\n",
       "  <thead>\n",
       "    <tr style=\"text-align: right;\">\n",
       "      <th></th>\n",
       "      <th>datetime</th>\n",
       "      <th>nfeatures</th>\n",
       "      <th>train_mae</th>\n",
       "      <th>train_mae_var</th>\n",
       "      <th>val_mae</th>\n",
       "      <th>val_mae_var</th>\n",
       "      <th>mae_diff</th>\n",
       "      <th>remark</th>\n",
       "    </tr>\n",
       "  </thead>\n",
       "  <tbody>\n",
       "    <tr>\n",
       "      <th>0</th>\n",
       "      <td>2019-05-19 02:27:37.231419</td>\n",
       "      <td>53</td>\n",
       "      <td>2.046364</td>\n",
       "      <td>0.002760</td>\n",
       "      <td>2.133099</td>\n",
       "      <td>0.007646</td>\n",
       "      <td>0.086735</td>\n",
       "      <td>try unique_columns</td>\n",
       "    </tr>\n",
       "    <tr>\n",
       "      <th>1</th>\n",
       "      <td>2019-05-19 02:30:35.286431</td>\n",
       "      <td>8</td>\n",
       "      <td>2.103744</td>\n",
       "      <td>0.002911</td>\n",
       "      <td>2.114094</td>\n",
       "      <td>0.011880</td>\n",
       "      <td>0.010349</td>\n",
       "      <td>try common_columns</td>\n",
       "    </tr>\n",
       "    <tr>\n",
       "      <th>2</th>\n",
       "      <td>2019-05-19 02:30:51.965487</td>\n",
       "      <td>16</td>\n",
       "      <td>2.162543</td>\n",
       "      <td>0.003232</td>\n",
       "      <td>2.172957</td>\n",
       "      <td>0.011460</td>\n",
       "      <td>0.010414</td>\n",
       "      <td>try common_columns75</td>\n",
       "    </tr>\n",
       "  </tbody>\n",
       "</table>\n",
       "</div>"
      ],
      "text/plain": [
       "                    datetime  nfeatures  train_mae  train_mae_var   val_mae  \\\n",
       "0 2019-05-19 02:27:37.231419  53         2.046364   0.002760       2.133099   \n",
       "1 2019-05-19 02:30:35.286431  8          2.103744   0.002911       2.114094   \n",
       "2 2019-05-19 02:30:51.965487  16         2.162543   0.003232       2.172957   \n",
       "\n",
       "   val_mae_var  mae_diff                remark  \n",
       "0  0.007646     0.086735  try unique_columns    \n",
       "1  0.011880     0.010349  try common_columns    \n",
       "2  0.011460     0.010414  try common_columns75  "
      ]
     },
     "execution_count": 43,
     "metadata": {},
     "output_type": "execute_result"
    }
   ],
   "source": [
    "df_trial[['datetime','nfeatures', 'train_mae','train_mae_var','val_mae','val_mae_var','mae_diff','remark']]"
   ]
  },
  {
   "cell_type": "code",
   "execution_count": 45,
   "metadata": {
    "collapsed": true
   },
   "outputs": [],
   "source": [
    "db.commit()"
   ]
  },
  {
   "cell_type": "code",
   "execution_count": null,
   "metadata": {},
   "outputs": [
    {
     "name": "stderr",
     "output_type": "stream",
     "text": [
      "[I 2019-05-19 02:34:43,332] Finished trial#0 resulted in value: 0.03402100634977167. Current best value is 0.03402100634977167 with parameters: {'n_iter': 89, 'init_stdev': 0.003222444750043738, 'rank': 16, 'random_state': 2447}.\n",
      "[I 2019-05-19 02:34:44,578] Finished trial#1 resulted in value: 0.022427260037415204. Current best value is 0.022427260037415204 with parameters: {'n_iter': 30, 'init_stdev': 0.008279886934058144, 'rank': 2, 'random_state': 1633}.\n",
      "[I 2019-05-19 02:34:47,743] Finished trial#2 resulted in value: 0.02863462341975847. Current best value is 0.022427260037415204 with parameters: {'n_iter': 30, 'init_stdev': 0.008279886934058144, 'rank': 2, 'random_state': 1633}.\n",
      "[I 2019-05-19 02:34:49,181] Finished trial#3 resulted in value: 0.024687066057663406. Current best value is 0.022427260037415204 with parameters: {'n_iter': 30, 'init_stdev': 0.008279886934058144, 'rank': 2, 'random_state': 1633}.\n",
      "[I 2019-05-19 02:34:53,920] Finished trial#4 resulted in value: 0.03231120537499163. Current best value is 0.022427260037415204 with parameters: {'n_iter': 30, 'init_stdev': 0.008279886934058144, 'rank': 2, 'random_state': 1633}.\n",
      "[I 2019-05-19 02:34:57,656] Finished trial#5 resulted in value: 0.032617305199385126. Current best value is 0.022427260037415204 with parameters: {'n_iter': 30, 'init_stdev': 0.008279886934058144, 'rank': 2, 'random_state': 1633}.\n",
      "[I 2019-05-19 02:35:07,511] Finished trial#6 resulted in value: 0.03529598532909238. Current best value is 0.022427260037415204 with parameters: {'n_iter': 30, 'init_stdev': 0.008279886934058144, 'rank': 2, 'random_state': 1633}.\n",
      "[I 2019-05-19 02:35:16,769] Finished trial#7 resulted in value: 0.022718027878547185. Current best value is 0.022427260037415204 with parameters: {'n_iter': 30, 'init_stdev': 0.008279886934058144, 'rank': 2, 'random_state': 1633}.\n",
      "[I 2019-05-19 02:35:21,441] Finished trial#8 resulted in value: 0.033017740833638884. Current best value is 0.022427260037415204 with parameters: {'n_iter': 30, 'init_stdev': 0.008279886934058144, 'rank': 2, 'random_state': 1633}.\n",
      "[I 2019-05-19 02:35:24,563] Finished trial#9 resulted in value: 0.028998758311619507. Current best value is 0.022427260037415204 with parameters: {'n_iter': 30, 'init_stdev': 0.008279886934058144, 'rank': 2, 'random_state': 1633}.\n",
      "[I 2019-05-19 02:35:25,889] Finished trial#10 resulted in value: 0.022617984380541616. Current best value is 0.022427260037415204 with parameters: {'n_iter': 30, 'init_stdev': 0.008279886934058144, 'rank': 2, 'random_state': 1633}.\n",
      "[I 2019-05-19 02:35:28,399] Finished trial#11 resulted in value: 0.027580678024896013. Current best value is 0.022427260037415204 with parameters: {'n_iter': 30, 'init_stdev': 0.008279886934058144, 'rank': 2, 'random_state': 1633}.\n",
      "[I 2019-05-19 02:35:29,020] Finished trial#12 resulted in value: 0.021102133733175366. Current best value is 0.021102133733175366 with parameters: {'n_iter': 12, 'init_stdev': 0.009208278358929654, 'rank': 2, 'random_state': 5734}.\n",
      "[I 2019-05-19 02:35:29,525] Finished trial#13 resulted in value: 0.018962093786284044. Current best value is 0.018962093786284044 with parameters: {'n_iter': 11, 'init_stdev': 0.009530413860508399, 'rank': 2, 'random_state': 7661}.\n",
      "[I 2019-05-19 02:35:35,110] Finished trial#14 resulted in value: 0.028945815136905976. Current best value is 0.018962093786284044 with parameters: {'n_iter': 11, 'init_stdev': 0.009530413860508399, 'rank': 2, 'random_state': 7661}.\n",
      "[I 2019-05-19 02:35:36,275] Finished trial#15 resulted in value: 0.022877353178165954. Current best value is 0.018962093786284044 with parameters: {'n_iter': 11, 'init_stdev': 0.009530413860508399, 'rank': 2, 'random_state': 7661}.\n",
      "[I 2019-05-19 02:35:39,732] Finished trial#16 resulted in value: 0.03181207606643221. Current best value is 0.018962093786284044 with parameters: {'n_iter': 11, 'init_stdev': 0.009530413860508399, 'rank': 2, 'random_state': 7661}.\n",
      "[I 2019-05-19 02:35:40,405] Finished trial#17 resulted in value: 0.02167068318456423. Current best value is 0.018962093786284044 with parameters: {'n_iter': 11, 'init_stdev': 0.009530413860508399, 'rank': 2, 'random_state': 7661}.\n",
      "[I 2019-05-19 02:35:47,190] Finished trial#18 resulted in value: 0.03817741597753502. Current best value is 0.018962093786284044 with parameters: {'n_iter': 11, 'init_stdev': 0.009530413860508399, 'rank': 2, 'random_state': 7661}.\n",
      "[I 2019-05-19 02:35:48,322] Finished trial#19 resulted in value: 0.03409297118996149. Current best value is 0.018962093786284044 with parameters: {'n_iter': 11, 'init_stdev': 0.009530413860508399, 'rank': 2, 'random_state': 7661}.\n",
      "[I 2019-05-19 02:35:49,305] Finished trial#20 resulted in value: 0.028083493521519967. Current best value is 0.018962093786284044 with parameters: {'n_iter': 11, 'init_stdev': 0.009530413860508399, 'rank': 2, 'random_state': 7661}.\n",
      "[I 2019-05-19 02:35:53,670] Finished trial#21 resulted in value: 0.029385460912064294. Current best value is 0.018962093786284044 with parameters: {'n_iter': 11, 'init_stdev': 0.009530413860508399, 'rank': 2, 'random_state': 7661}.\n",
      "[I 2019-05-19 02:35:57,294] Finished trial#22 resulted in value: 0.029464923655503378. Current best value is 0.018962093786284044 with parameters: {'n_iter': 11, 'init_stdev': 0.009530413860508399, 'rank': 2, 'random_state': 7661}.\n",
      "[I 2019-05-19 02:35:59,480] Finished trial#23 resulted in value: 0.0240099893435796. Current best value is 0.018962093786284044 with parameters: {'n_iter': 11, 'init_stdev': 0.009530413860508399, 'rank': 2, 'random_state': 7661}.\n",
      "[I 2019-05-19 02:36:06,620] Finished trial#24 resulted in value: 0.0299545471444487. Current best value is 0.018962093786284044 with parameters: {'n_iter': 11, 'init_stdev': 0.009530413860508399, 'rank': 2, 'random_state': 7661}.\n",
      "[I 2019-05-19 02:36:08,439] Finished trial#25 resulted in value: 0.03411295439478355. Current best value is 0.018962093786284044 with parameters: {'n_iter': 11, 'init_stdev': 0.009530413860508399, 'rank': 2, 'random_state': 7661}.\n",
      "[I 2019-05-19 02:36:09,333] Finished trial#26 resulted in value: 0.025764071446230045. Current best value is 0.018962093786284044 with parameters: {'n_iter': 11, 'init_stdev': 0.009530413860508399, 'rank': 2, 'random_state': 7661}.\n",
      "[I 2019-05-19 02:36:14,027] Finished trial#27 resulted in value: 0.034897405511958655. Current best value is 0.018962093786284044 with parameters: {'n_iter': 11, 'init_stdev': 0.009530413860508399, 'rank': 2, 'random_state': 7661}.\n",
      "[I 2019-05-19 02:36:22,962] Finished trial#28 resulted in value: 0.03219643243760039. Current best value is 0.018962093786284044 with parameters: {'n_iter': 11, 'init_stdev': 0.009530413860508399, 'rank': 2, 'random_state': 7661}.\n",
      "[I 2019-05-19 02:36:26,316] Finished trial#29 resulted in value: 0.028604882099599646. Current best value is 0.018962093786284044 with parameters: {'n_iter': 11, 'init_stdev': 0.009530413860508399, 'rank': 2, 'random_state': 7661}.\n",
      "[I 2019-05-19 02:36:27,010] Finished trial#30 resulted in value: 0.022328160561321746. Current best value is 0.018962093786284044 with parameters: {'n_iter': 11, 'init_stdev': 0.009530413860508399, 'rank': 2, 'random_state': 7661}.\n",
      "[I 2019-05-19 02:36:29,888] Finished trial#31 resulted in value: 0.018994343723466072. Current best value is 0.018962093786284044 with parameters: {'n_iter': 11, 'init_stdev': 0.009530413860508399, 'rank': 2, 'random_state': 7661}.\n",
      "[I 2019-05-19 02:36:32,816] Finished trial#32 resulted in value: 0.022949148668885692. Current best value is 0.018962093786284044 with parameters: {'n_iter': 11, 'init_stdev': 0.009530413860508399, 'rank': 2, 'random_state': 7661}.\n",
      "[I 2019-05-19 02:36:36,215] Finished trial#33 resulted in value: 0.02189762708254269. Current best value is 0.018962093786284044 with parameters: {'n_iter': 11, 'init_stdev': 0.009530413860508399, 'rank': 2, 'random_state': 7661}.\n",
      "[I 2019-05-19 02:36:40,019] Finished trial#34 resulted in value: 0.027287740943558677. Current best value is 0.018962093786284044 with parameters: {'n_iter': 11, 'init_stdev': 0.009530413860508399, 'rank': 2, 'random_state': 7661}.\n"
     ]
    }
   ],
   "source": [
    "mytrial = []\n",
    "#  tune hypterparameters\n",
    "def objective(trial):\n",
    "\n",
    "    n_iter = trial.suggest_int('n_iter', 10, 100)\n",
    "    init_stdev = trial.suggest_uniform('init_stdev', 0.00001, .01)\n",
    "    rank = trial.suggest_int('rank', 2, 16)\n",
    "    random_state = trial.suggest_int('random_state', 0, 9999)\n",
    "        \n",
    "    args={'algorithm': {'cls': 'als.FMRegression',\n",
    "      'fit': {},\n",
    "      'init': {'n_iter': n_iter,\n",
    "       'init_stdev': init_stdev,\n",
    "       'rank': rank,\n",
    "       'random_state': random_state,}},\n",
    "     'columns': common_columns,\n",
    "     'kfold': {'n_splits': 3,\n",
    "      'random_state': 1985,\n",
    "      'shuffle': True,\n",
    "      'type': 'group'},\n",
    "     'scaler': {'cls': 'StandardScaler'}}\n",
    "    \n",
    "    df_his,  df_feature_importances, df_valid_pred, df_test_pred =  EP.process(df_train, args, df_test = df_test, trial=mytrial, remark='tune 1')\n",
    "    val_mae_mean = np.mean(df_his.valid)\n",
    "    val_mae_var = np.var(df_his.valid)\n",
    "    train_mae_mean = np.mean(df_his.train)\n",
    "    train_mae_var = np.var(df_his.train)\n",
    "    \n",
    "    trial.set_user_attr('val_mae', val_mae_mean)\n",
    "    trial.set_user_attr('train_mae', train_mae_mean)\n",
    "    trial.set_user_attr('mae_diff', val_mae_mean-train_mae_mean)\n",
    "    trial.set_user_attr('val_mae_var', val_mae_var)\n",
    "\n",
    "    return np.abs(val_mae_mean - train_mae_mean)*val_mae_mean\n",
    "\n",
    "study = optuna.create_study()\n",
    "study.optimize(objective, n_trials=100)"
   ]
  },
  {
   "cell_type": "code",
   "execution_count": 47,
   "metadata": {
    "collapsed": true
   },
   "outputs": [],
   "source": [
    "for trial_i in mytrial:\n",
    "    db.insert(trial_i)\n",
    "df_trial = db.select()"
   ]
  },
  {
   "cell_type": "code",
   "execution_count": 52,
   "metadata": {},
   "outputs": [
    {
     "data": {
      "text/html": [
       "<div>\n",
       "<style scoped>\n",
       "    .dataframe tbody tr th:only-of-type {\n",
       "        vertical-align: middle;\n",
       "    }\n",
       "\n",
       "    .dataframe tbody tr th {\n",
       "        vertical-align: top;\n",
       "    }\n",
       "\n",
       "    .dataframe thead th {\n",
       "        text-align: right;\n",
       "    }\n",
       "</style>\n",
       "<table border=\"1\" class=\"dataframe\">\n",
       "  <thead>\n",
       "    <tr style=\"text-align: right;\">\n",
       "      <th></th>\n",
       "      <th>datetime</th>\n",
       "      <th>nfeatures</th>\n",
       "      <th>train_mae</th>\n",
       "      <th>train_mae_var</th>\n",
       "      <th>val_mae</th>\n",
       "      <th>val_mae_var</th>\n",
       "      <th>mae_diff</th>\n",
       "      <th>remark</th>\n",
       "    </tr>\n",
       "  </thead>\n",
       "  <tbody>\n",
       "    <tr>\n",
       "      <th>87</th>\n",
       "      <td>2019-05-19 02:39:02.429082</td>\n",
       "      <td>8</td>\n",
       "      <td>2.081971</td>\n",
       "      <td>0.003128</td>\n",
       "      <td>2.098198</td>\n",
       "      <td>0.013561</td>\n",
       "      <td>0.016227</td>\n",
       "      <td>tune 1</td>\n",
       "    </tr>\n",
       "    <tr>\n",
       "      <th>31</th>\n",
       "      <td>2019-05-19 02:36:22.957864</td>\n",
       "      <td>8</td>\n",
       "      <td>2.082857</td>\n",
       "      <td>0.003129</td>\n",
       "      <td>2.098202</td>\n",
       "      <td>0.013558</td>\n",
       "      <td>0.015345</td>\n",
       "      <td>tune 1</td>\n",
       "    </tr>\n",
       "    <tr>\n",
       "      <th>17</th>\n",
       "      <td>2019-05-19 02:35:35.107136</td>\n",
       "      <td>8</td>\n",
       "      <td>2.084507</td>\n",
       "      <td>0.003200</td>\n",
       "      <td>2.098301</td>\n",
       "      <td>0.013485</td>\n",
       "      <td>0.013795</td>\n",
       "      <td>tune 1</td>\n",
       "    </tr>\n",
       "    <tr>\n",
       "      <th>74</th>\n",
       "      <td>2019-05-19 02:38:25.206793</td>\n",
       "      <td>8</td>\n",
       "      <td>2.085270</td>\n",
       "      <td>0.002988</td>\n",
       "      <td>2.098578</td>\n",
       "      <td>0.013128</td>\n",
       "      <td>0.013308</td>\n",
       "      <td>tune 1</td>\n",
       "    </tr>\n",
       "    <tr>\n",
       "      <th>100</th>\n",
       "      <td>2019-05-19 02:39:40.090049</td>\n",
       "      <td>8</td>\n",
       "      <td>2.090270</td>\n",
       "      <td>0.002844</td>\n",
       "      <td>2.098669</td>\n",
       "      <td>0.012769</td>\n",
       "      <td>0.008399</td>\n",
       "      <td>tune 1</td>\n",
       "    </tr>\n",
       "  </tbody>\n",
       "</table>\n",
       "</div>"
      ],
      "text/plain": [
       "                      datetime  nfeatures  train_mae  train_mae_var   val_mae  \\\n",
       "87  2019-05-19 02:39:02.429082  8          2.081971   0.003128       2.098198   \n",
       "31  2019-05-19 02:36:22.957864  8          2.082857   0.003129       2.098202   \n",
       "17  2019-05-19 02:35:35.107136  8          2.084507   0.003200       2.098301   \n",
       "74  2019-05-19 02:38:25.206793  8          2.085270   0.002988       2.098578   \n",
       "100 2019-05-19 02:39:40.090049  8          2.090270   0.002844       2.098669   \n",
       "\n",
       "     val_mae_var  mae_diff  remark  \n",
       "87   0.013561     0.016227  tune 1  \n",
       "31   0.013558     0.015345  tune 1  \n",
       "17   0.013485     0.013795  tune 1  \n",
       "74   0.013128     0.013308  tune 1  \n",
       "100  0.012769     0.008399  tune 1  "
      ]
     },
     "execution_count": 52,
     "metadata": {},
     "output_type": "execute_result"
    }
   ],
   "source": [
    "df_trial[(df_trial['remark']=='tune 1')&(df_trial['mae_diff']<.05)].sort_values(by=['val_mae'])[['datetime','nfeatures', 'train_mae','train_mae_var','val_mae','val_mae_var','mae_diff','remark']].head()"
   ]
  },
  {
   "cell_type": "code",
   "execution_count": 53,
   "metadata": {
    "collapsed": true
   },
   "outputs": [],
   "source": [
    "db.commit()"
   ]
  },
  {
   "cell_type": "code",
   "execution_count": 54,
   "metadata": {
    "collapsed": true
   },
   "outputs": [],
   "source": [
    "param = copy.deepcopy(df_trial.loc[87]['param'])\n",
    "param['kfold']['type'] = 'stratified'\n",
    "# run one try\n",
    "mytrial=[]\n",
    "df_his,  df_feature_importances, df_valid_pred, df_test_pred =  EP.process(df_train, param, df_test = df_test, trial=mytrial, remark='remodel 87 use stratified')"
   ]
  },
  {
   "cell_type": "code",
   "execution_count": 55,
   "metadata": {
    "collapsed": true
   },
   "outputs": [],
   "source": [
    "for trial_i in mytrial:\n",
    "    db.insert(trial_i)\n",
    "df_trial = db.select()"
   ]
  },
  {
   "cell_type": "code",
   "execution_count": 56,
   "metadata": {},
   "outputs": [
    {
     "data": {
      "text/html": [
       "<div>\n",
       "<style scoped>\n",
       "    .dataframe tbody tr th:only-of-type {\n",
       "        vertical-align: middle;\n",
       "    }\n",
       "\n",
       "    .dataframe tbody tr th {\n",
       "        vertical-align: top;\n",
       "    }\n",
       "\n",
       "    .dataframe thead th {\n",
       "        text-align: right;\n",
       "    }\n",
       "</style>\n",
       "<table border=\"1\" class=\"dataframe\">\n",
       "  <thead>\n",
       "    <tr style=\"text-align: right;\">\n",
       "      <th></th>\n",
       "      <th>datetime</th>\n",
       "      <th>nfeatures</th>\n",
       "      <th>train_mae</th>\n",
       "      <th>train_mae_var</th>\n",
       "      <th>val_mae</th>\n",
       "      <th>val_mae_var</th>\n",
       "      <th>mae_diff</th>\n",
       "    </tr>\n",
       "  </thead>\n",
       "  <tbody>\n",
       "    <tr>\n",
       "      <th>103</th>\n",
       "      <td>2019-05-19 02:46:58.134980</td>\n",
       "      <td>8</td>\n",
       "      <td>2.084925</td>\n",
       "      <td>0.000004</td>\n",
       "      <td>2.087292</td>\n",
       "      <td>0.000042</td>\n",
       "      <td>0.002367</td>\n",
       "    </tr>\n",
       "  </tbody>\n",
       "</table>\n",
       "</div>"
      ],
      "text/plain": [
       "                      datetime  nfeatures  train_mae  train_mae_var   val_mae  \\\n",
       "103 2019-05-19 02:46:58.134980  8          2.084925   0.000004       2.087292   \n",
       "\n",
       "     val_mae_var  mae_diff  \n",
       "103  0.000042     0.002367  "
      ]
     },
     "execution_count": 56,
     "metadata": {},
     "output_type": "execute_result"
    }
   ],
   "source": [
    "df_trial.tail(1)[['datetime','nfeatures', 'train_mae','train_mae_var','val_mae','val_mae_var','mae_diff']]"
   ]
  },
  {
   "cell_type": "code",
   "execution_count": 57,
   "metadata": {
    "collapsed": true
   },
   "outputs": [],
   "source": [
    "db.commit()"
   ]
  },
  {
   "cell_type": "code",
   "execution_count": null,
   "metadata": {
    "collapsed": true
   },
   "outputs": [],
   "source": []
  }
 ],
 "metadata": {
  "kernelspec": {
   "display_name": "python3.6",
   "language": "python",
   "name": "py36"
  },
  "language_info": {
   "codemirror_mode": {
    "name": "ipython",
    "version": 3
   },
   "file_extension": ".py",
   "mimetype": "text/x-python",
   "name": "python",
   "nbconvert_exporter": "python",
   "pygments_lexer": "ipython3",
   "version": "3.6.4"
  }
 },
 "nbformat": 4,
 "nbformat_minor": 2
}
