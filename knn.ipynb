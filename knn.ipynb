{
 "cells": [
  {
   "cell_type": "code",
   "execution_count": 21,
   "metadata": {
    "scrolled": true
   },
   "outputs": [],
   "source": [
    "import pandas as pd\n",
    "import numpy as np\n",
    "\n",
    "from sklearn.preprocessing import StandardScaler, MinMaxScaler\n",
    "import lightgbm as lgb\n",
    "import catboost as cb\n",
    "\n",
    "from tsfresh.examples import load_robot_execution_failures\n",
    "from tsfresh import extract_features, select_features\n",
    "from sklearn.neural_network import MLPRegressor\n",
    "from sklearn.svm import SVR\n",
    "from sklearn.neighbors import KNeighborsRegressor\n",
    "from sklearn.linear_model import LogisticRegression, Ridge, Lasso\n",
    "from fastFM import als, mcmc, sgd\n",
    "# from pyfm import pylibfm\n",
    "\n",
    "import optuna\n",
    "\n",
    "from common import EP\n",
    "from dfdb import DFDB\n",
    "\n",
    "import types\n",
    "import copy"
   ]
  },
  {
   "cell_type": "code",
   "execution_count": 22,
   "metadata": {},
   "outputs": [
    {
     "data": {
      "text/html": [
       "<style>\n",
       "   div#notebook-container    { width: 95%; }\n",
       "   div#menubar-container     { width: 65%; }\n",
       "   div#maintoolbar-container { width: 99%; }\n",
       "</style>"
      ],
      "text/plain": [
       "<IPython.core.display.HTML object>"
      ]
     },
     "metadata": {},
     "output_type": "display_data"
    }
   ],
   "source": [
    "%%HTML\n",
    "<style>\n",
    "   div#notebook-container    { width: 95%; }\n",
    "   div#menubar-container     { width: 65%; }\n",
    "   div#maintoolbar-container { width: 99%; }\n",
    "</style>"
   ]
  },
  {
   "cell_type": "code",
   "execution_count": 23,
   "metadata": {
    "collapsed": true
   },
   "outputs": [],
   "source": [
    "pd.set_option('display.max_colwidth', -1)"
   ]
  },
  {
   "cell_type": "code",
   "execution_count": 24,
   "metadata": {
    "collapsed": true
   },
   "outputs": [],
   "source": [
    "df_train = pd.read_pickle('../feats/df_train.pkl')\n",
    "df_test = pd.read_pickle('../feats/df_test.pkl')"
   ]
  },
  {
   "cell_type": "code",
   "execution_count": 25,
   "metadata": {
    "collapsed": true
   },
   "outputs": [],
   "source": [
    "df_train['label'] = df_train['y'].apply(lambda x:  int(x) if x<15 else 15)\n",
    "group = df_train['season'].values\n",
    "group[np.where(group==17)[0]] = 1\n",
    "df_train['group'] = group\n",
    "df_train = df_train.drop(columns=['season'])"
   ]
  },
  {
   "cell_type": "code",
   "execution_count": 26,
   "metadata": {
    "collapsed": true
   },
   "outputs": [],
   "source": [
    "test_X = df_train.drop(columns=['y','index','group','label']).copy()\n",
    "test_X.index = df_train['index']\n",
    "test_y = df_train['y'].copy()\n",
    "test_y.index = df_train['index']\n",
    "tsfresh_columns = select_features(test_X, test_y).columns.tolist()"
   ]
  },
  {
   "cell_type": "code",
   "execution_count": 27,
   "metadata": {
    "collapsed": true
   },
   "outputs": [],
   "source": [
    "original_columns = df_train.columns.drop(['index','y','label','group']).tolist()"
   ]
  },
  {
   "cell_type": "code",
   "execution_count": 28,
   "metadata": {
    "collapsed": true
   },
   "outputs": [],
   "source": [
    "unique_columns = ['5000variance_median_',\n",
    " \"number_peaks{'n': 5}\",\n",
    " 'spkt_welch_density__coeff_3',\n",
    " '5000quantile99median_',\n",
    " 'q05_roll_std_1000',\n",
    " '5000skewness_max_',\n",
    " '5000form_factor_quantile75',\n",
    " 'abs_q05_6',\n",
    " '5000smoothness_std_',\n",
    " 'abs_q75_6',\n",
    " 'q05_5',\n",
    " 'abs_q75_2',\n",
    " 'abs_q95_6',\n",
    " '5000smoothness_median_',\n",
    " 'median__roll_std',\n",
    " 'abs_q75_7',\n",
    " '5000smoothness_quantile25',\n",
    " 'q75_roll_std_10',\n",
    " '5000median_variance_',\n",
    " 'abs_q25_5',\n",
    " \"number_peaks{'n': 1}\",\n",
    " '5000smoothness_quantile05',\n",
    " 'MA_1000MA_std_mean_7',\n",
    " 'iqr_6',\n",
    " '5000std_median_',\n",
    " '3th_peak_freq',\n",
    " \"change_quantiles{'ql': 0.2, 'qh': 0.8, 'isabs': False, 'f_agg': 'var'}\",\n",
    " 'abs_q01_5',\n",
    " 'spkt_welch_density__coeff_4',\n",
    " '5000variance_quantile25',\n",
    " 'q01_2',\n",
    " '5000crest_factor_quantile75',\n",
    " '5000std_quantile05',\n",
    " 'q01_roll_std_10',\n",
    " 'iqr_3',\n",
    " 'abs_q01_3',\n",
    " '5000std_quantile25',\n",
    " 'spkt_welch_densitycoeff_2',\n",
    " 'q01_roll_std_1000',\n",
    " \"autocorrelation{'lag': 5}\",\n",
    " \"value_count{'value': 1}\",\n",
    " \"number_peaks{'n': 3}\",\n",
    " 'abs_q95_2',\n",
    " \"number_peaks{'n': 10}\",\n",
    " '5000smoothness_mean_',\n",
    " '5000smoothness_entropy_',\n",
    " 'q05_roll_std_100',\n",
    " 'q01_roll_std_100',\n",
    " 'abs_q01_4',\n",
    " \"quantile{'q': 0.9}\",\n",
    " 'q05_roll_std_10',\n",
    " 'FFT_Mag_75q0',\n",
    " 'q25_roll_std_100']"
   ]
  },
  {
   "cell_type": "code",
   "execution_count": 29,
   "metadata": {
    "collapsed": true
   },
   "outputs": [],
   "source": [
    "common_columns = ['q05_roll_std_1000',\n",
    " 'abs_q75_6',\n",
    " 'abs_q25_5',\n",
    " 'iqr_6',\n",
    " \"number_peaks{'n': 10}\",\n",
    " 'q05_roll_std_100',\n",
    " 'abs_q01_4',\n",
    " 'q25_roll_std_100']"
   ]
  },
  {
   "cell_type": "code",
   "execution_count": 30,
   "metadata": {
    "collapsed": true
   },
   "outputs": [],
   "source": [
    "common_columns75 = ['spkt_welch_density__coeff_3',\n",
    " 'q05_roll_std_1000',\n",
    " 'abs_q75_6',\n",
    " 'q05_5',\n",
    " 'median__roll_std',\n",
    " 'abs_q75_7',\n",
    " 'abs_q25_5',\n",
    " '5000smoothness_quantile05',\n",
    " 'iqr_6',\n",
    " \"change_quantiles{'ql': 0.2, 'qh': 0.8, 'isabs': False, 'f_agg': 'var'}\",\n",
    " 'spkt_welch_densitycoeff_2',\n",
    " \"number_peaks{'n': 10}\",\n",
    " 'q05_roll_std_100',\n",
    " 'abs_q01_4',\n",
    " 'q05_roll_std_10',\n",
    " 'q25_roll_std_100']"
   ]
  },
  {
   "cell_type": "code",
   "execution_count": 31,
   "metadata": {
    "collapsed": true
   },
   "outputs": [],
   "source": [
    "# mytrial = []\n",
    "db = DFDB('../trial/knn.pkl', auto_commit=False)"
   ]
  },
  {
   "cell_type": "code",
   "execution_count": 38,
   "metadata": {
    "collapsed": true
   },
   "outputs": [],
   "source": [
    "param = {'algorithm': {'cls': 'KNeighborsRegressor',\n",
    "  'fit': {},\n",
    "  'init': {'n_neighbors': 500,\n",
    "   'weights': 'uniform',\n",
    "   'algorithm': 'ball_tree',\n",
    "   'leaf_size': 30,\n",
    "   'p': 2,\n",
    "   'metric': 'minkowski'}},\n",
    " 'columns':common_columns ,\n",
    " 'kfold': {'n_splits': 3,\n",
    "  'random_state': 1985,\n",
    "  'shuffle': True,\n",
    "  'type': 'group'},\n",
    " 'scaler': {'cls': 'StandardScaler'}}"
   ]
  },
  {
   "cell_type": "code",
   "execution_count": 39,
   "metadata": {
    "collapsed": true
   },
   "outputs": [],
   "source": [
    "# run one try\n",
    "mytrial = []\n",
    "df_his,  df_feature_importances, df_valid_pred, df_test_pred =  EP.process(df_train, param, df_test = df_test, trial=mytrial, remark='try common_columns')\n",
    "db.insert(mytrial[0])\n",
    "df_trial = db.select()"
   ]
  },
  {
   "cell_type": "code",
   "execution_count": 40,
   "metadata": {},
   "outputs": [
    {
     "data": {
      "text/html": [
       "<div>\n",
       "<style scoped>\n",
       "    .dataframe tbody tr th:only-of-type {\n",
       "        vertical-align: middle;\n",
       "    }\n",
       "\n",
       "    .dataframe tbody tr th {\n",
       "        vertical-align: top;\n",
       "    }\n",
       "\n",
       "    .dataframe thead th {\n",
       "        text-align: right;\n",
       "    }\n",
       "</style>\n",
       "<table border=\"1\" class=\"dataframe\">\n",
       "  <thead>\n",
       "    <tr style=\"text-align: right;\">\n",
       "      <th></th>\n",
       "      <th>datetime</th>\n",
       "      <th>nfeatures</th>\n",
       "      <th>train_mae</th>\n",
       "      <th>train_mae_var</th>\n",
       "      <th>val_mae</th>\n",
       "      <th>val_mae_var</th>\n",
       "      <th>mae_diff</th>\n",
       "      <th>remark</th>\n",
       "    </tr>\n",
       "  </thead>\n",
       "  <tbody>\n",
       "    <tr>\n",
       "      <th>0</th>\n",
       "      <td>2019-05-19 03:03:20.036697</td>\n",
       "      <td>16</td>\n",
       "      <td>2.024692</td>\n",
       "      <td>0.002800</td>\n",
       "      <td>2.075379</td>\n",
       "      <td>0.013900</td>\n",
       "      <td>0.050687</td>\n",
       "      <td>try common_columns75</td>\n",
       "    </tr>\n",
       "    <tr>\n",
       "      <th>1</th>\n",
       "      <td>2019-05-19 03:04:25.860199</td>\n",
       "      <td>8</td>\n",
       "      <td>2.044007</td>\n",
       "      <td>0.002525</td>\n",
       "      <td>2.081530</td>\n",
       "      <td>0.012794</td>\n",
       "      <td>0.037523</td>\n",
       "      <td>try common_columns</td>\n",
       "    </tr>\n",
       "  </tbody>\n",
       "</table>\n",
       "</div>"
      ],
      "text/plain": [
       "                    datetime  nfeatures  train_mae  train_mae_var   val_mae  \\\n",
       "0 2019-05-19 03:03:20.036697  16         2.024692   0.002800       2.075379   \n",
       "1 2019-05-19 03:04:25.860199  8          2.044007   0.002525       2.081530   \n",
       "\n",
       "   val_mae_var  mae_diff                remark  \n",
       "0  0.013900     0.050687  try common_columns75  \n",
       "1  0.012794     0.037523  try common_columns    "
      ]
     },
     "execution_count": 40,
     "metadata": {},
     "output_type": "execute_result"
    }
   ],
   "source": [
    "df_trial[['datetime','nfeatures', 'train_mae','train_mae_var','val_mae','val_mae_var','mae_diff','remark']]"
   ]
  },
  {
   "cell_type": "code",
   "execution_count": 41,
   "metadata": {},
   "outputs": [
    {
     "name": "stderr",
     "output_type": "stream",
     "text": [
      "[I 2019-05-19 03:06:15,308] Finished trial#0 resulted in value: 0.07318632536974794. Current best value is 0.07318632536974794 with parameters: {'n_neighbors': 569}.\n",
      "[I 2019-05-19 03:07:04,573] Finished trial#1 resulted in value: 0.061117887181583924. Current best value is 0.061117887181583924 with parameters: {'n_neighbors': 759}.\n",
      "[I 2019-05-19 03:07:58,483] Finished trial#2 resulted in value: 0.056168214996267216. Current best value is 0.056168214996267216 with parameters: {'n_neighbors': 884}.\n",
      "[I 2019-05-19 03:08:37,269] Finished trial#3 resulted in value: 0.09430557063087121. Current best value is 0.056168214996267216 with parameters: {'n_neighbors': 884}.\n",
      "[I 2019-05-19 03:09:45,239] Finished trial#4 resulted in value: 0.05406133522384894. Current best value is 0.05406133522384894 with parameters: {'n_neighbors': 937}.\n",
      "[I 2019-05-19 03:10:40,348] Finished trial#5 resulted in value: 0.06259075830185049. Current best value is 0.05406133522384894 with parameters: {'n_neighbors': 937}.\n",
      "[I 2019-05-19 03:11:36,719] Finished trial#6 resulted in value: 0.06305863002963447. Current best value is 0.05406133522384894 with parameters: {'n_neighbors': 937}.\n",
      "[I 2019-05-19 03:12:40,215] Finished trial#7 resulted in value: 0.05277570503781047. Current best value is 0.05277570503781047 with parameters: {'n_neighbors': 977}.\n",
      "[I 2019-05-19 03:13:25,579] Finished trial#8 resulted in value: 0.06481720720048618. Current best value is 0.05277570503781047 with parameters: {'n_neighbors': 977}.\n",
      "[I 2019-05-19 03:14:01,875] Finished trial#9 resulted in value: 0.07741616836867848. Current best value is 0.05277570503781047 with parameters: {'n_neighbors': 977}.\n",
      "[I 2019-05-19 03:14:17,969] Finished trial#10 resulted in value: 0.19216659408737938. Current best value is 0.05277570503781047 with parameters: {'n_neighbors': 977}.\n",
      "[I 2019-05-19 03:14:44,043] Finished trial#11 resulted in value: 0.11526334123517491. Current best value is 0.05277570503781047 with parameters: {'n_neighbors': 977}.\n",
      "[I 2019-05-19 03:15:39,730] Finished trial#12 resulted in value: 0.0521185352888391. Current best value is 0.0521185352888391 with parameters: {'n_neighbors': 992}.\n",
      "[I 2019-05-19 03:16:07,133] Finished trial#13 resulted in value: 0.10884082565019451. Current best value is 0.0521185352888391 with parameters: {'n_neighbors': 992}.\n",
      "[I 2019-05-19 03:16:57,954] Finished trial#14 resulted in value: 0.05752948117279431. Current best value is 0.0521185352888391 with parameters: {'n_neighbors': 992}.\n",
      "[I 2019-05-19 03:17:33,985] Finished trial#15 resulted in value: 0.08110472195824635. Current best value is 0.0521185352888391 with parameters: {'n_neighbors': 992}.\n",
      "[I 2019-05-19 03:18:23,121] Finished trial#16 resulted in value: 0.058578159628795236. Current best value is 0.0521185352888391 with parameters: {'n_neighbors': 992}.\n",
      "[I 2019-05-19 03:19:16,826] Finished trial#17 resulted in value: 0.05298106413953124. Current best value is 0.0521185352888391 with parameters: {'n_neighbors': 992}.\n",
      "[I 2019-05-19 03:20:13,206] Finished trial#18 resulted in value: 0.05199563426970925. Current best value is 0.05199563426970925 with parameters: {'n_neighbors': 997}.\n",
      "[I 2019-05-19 03:21:10,053] Finished trial#19 resulted in value: 0.05199563426970925. Current best value is 0.05199563426970925 with parameters: {'n_neighbors': 997}.\n",
      "[I 2019-05-19 03:22:03,060] Finished trial#20 resulted in value: 0.0557135911641834. Current best value is 0.05199563426970925 with parameters: {'n_neighbors': 997}.\n",
      "[I 2019-05-19 03:22:44,046] Finished trial#21 resulted in value: 0.06919614638743223. Current best value is 0.05199563426970925 with parameters: {'n_neighbors': 997}.\n",
      "[I 2019-05-19 03:23:33,654] Finished trial#22 resulted in value: 0.058721371434898854. Current best value is 0.05199563426970925 with parameters: {'n_neighbors': 997}.\n",
      "[I 2019-05-19 03:24:32,351] Finished trial#23 resulted in value: 0.05200707104566633. Current best value is 0.05199563426970925 with parameters: {'n_neighbors': 997}.\n",
      "[I 2019-05-19 03:24:56,763] Finished trial#24 resulted in value: 0.13089154445746687. Current best value is 0.05199563426970925 with parameters: {'n_neighbors': 997}.\n",
      "[I 2019-05-19 03:25:32,624] Finished trial#25 resulted in value: 0.0837734893376137. Current best value is 0.05199563426970925 with parameters: {'n_neighbors': 997}.\n",
      "[I 2019-05-19 03:26:14,470] Finished trial#26 resulted in value: 0.06830494620014405. Current best value is 0.05199563426970925 with parameters: {'n_neighbors': 997}.\n",
      "[I 2019-05-19 03:27:08,570] Finished trial#27 resulted in value: 0.054569199583269. Current best value is 0.05199563426970925 with parameters: {'n_neighbors': 997}.\n",
      "[I 2019-05-19 03:27:57,259] Finished trial#28 resulted in value: 0.060049922546832966. Current best value is 0.05199563426970925 with parameters: {'n_neighbors': 997}.\n",
      "[I 2019-05-19 03:28:37,875] Finished trial#29 resulted in value: 0.07145367292368777. Current best value is 0.05199563426970925 with parameters: {'n_neighbors': 997}.\n",
      "[I 2019-05-19 03:29:30,494] Finished trial#30 resulted in value: 0.05792939833285549. Current best value is 0.05199563426970925 with parameters: {'n_neighbors': 997}.\n",
      "[I 2019-05-19 03:30:18,617] Finished trial#31 resulted in value: 0.06120868031529415. Current best value is 0.05199563426970925 with parameters: {'n_neighbors': 997}.\n",
      "[I 2019-05-19 03:31:11,792] Finished trial#32 resulted in value: 0.055403847147812504. Current best value is 0.05199563426970925 with parameters: {'n_neighbors': 997}.\n",
      "[I 2019-05-19 03:31:44,460] Finished trial#33 resulted in value: 0.08973643341958575. Current best value is 0.05199563426970925 with parameters: {'n_neighbors': 997}.\n",
      "[I 2019-05-19 03:32:39,439] Finished trial#34 resulted in value: 0.05377505497954092. Current best value is 0.05199563426970925 with parameters: {'n_neighbors': 997}.\n",
      "[I 2019-05-19 03:33:22,496] Finished trial#35 resulted in value: 0.06600982733832401. Current best value is 0.05199563426970925 with parameters: {'n_neighbors': 997}.\n",
      "[I 2019-05-19 03:34:08,638] Finished trial#36 resulted in value: 0.06185103193474632. Current best value is 0.05199563426970925 with parameters: {'n_neighbors': 997}.\n",
      "[I 2019-05-19 03:34:47,997] Finished trial#37 resulted in value: 0.0747561051462449. Current best value is 0.05199563426970925 with parameters: {'n_neighbors': 997}.\n",
      "[I 2019-05-19 03:35:39,912] Finished trial#38 resulted in value: 0.05742203028334357. Current best value is 0.05199563426970925 with parameters: {'n_neighbors': 997}.\n",
      "[I 2019-05-19 03:36:00,581] Finished trial#39 resulted in value: 0.13892667429516228. Current best value is 0.05199563426970925 with parameters: {'n_neighbors': 997}.\n",
      "[I 2019-05-19 03:36:31,441] Finished trial#40 resulted in value: 0.09452490882313716. Current best value is 0.05199563426970925 with parameters: {'n_neighbors': 997}.\n",
      "[I 2019-05-19 03:37:17,559] Finished trial#41 resulted in value: 0.06259075830185049. Current best value is 0.05199563426970925 with parameters: {'n_neighbors': 997}.\n",
      "[I 2019-05-19 03:38:12,250] Finished trial#42 resulted in value: 0.05345587057134452. Current best value is 0.05199563426970925 with parameters: {'n_neighbors': 997}.\n",
      "[I 2019-05-19 03:38:56,511] Finished trial#43 resulted in value: 0.06453085281077912. Current best value is 0.05199563426970925 with parameters: {'n_neighbors': 997}.\n",
      "[I 2019-05-19 03:39:44,273] Finished trial#44 resulted in value: 0.05975271177030631. Current best value is 0.05199563426970925 with parameters: {'n_neighbors': 997}.\n",
      "[I 2019-05-19 03:40:42,991] Finished trial#45 resulted in value: 0.05204555027740994. Current best value is 0.05199563426970925 with parameters: {'n_neighbors': 997}.\n",
      "[I 2019-05-19 03:41:37,206] Finished trial#46 resulted in value: 0.0560556133616268. Current best value is 0.05199563426970925 with parameters: {'n_neighbors': 997}.\n",
      "[I 2019-05-19 03:42:15,314] Finished trial#47 resulted in value: 0.07558417081578704. Current best value is 0.05199563426970925 with parameters: {'n_neighbors': 997}.\n",
      "[I 2019-05-19 03:42:35,289] Finished trial#48 resulted in value: 0.1566835527515534. Current best value is 0.05199563426970925 with parameters: {'n_neighbors': 997}.\n"
     ]
    },
    {
     "name": "stderr",
     "output_type": "stream",
     "text": [
      "[I 2019-05-19 03:43:08,334] Finished trial#49 resulted in value: 0.09627099135150795. Current best value is 0.05199563426970925 with parameters: {'n_neighbors': 997}.\n",
      "[I 2019-05-19 03:44:06,478] Finished trial#50 resulted in value: 0.054785515805889536. Current best value is 0.05199563426970925 with parameters: {'n_neighbors': 997}.\n",
      "[I 2019-05-19 03:44:35,615] Finished trial#51 resulted in value: 0.10167386695565821. Current best value is 0.05199563426970925 with parameters: {'n_neighbors': 997}.\n",
      "[I 2019-05-19 03:45:25,328] Finished trial#52 resulted in value: 0.05851229990750937. Current best value is 0.05199563426970925 with parameters: {'n_neighbors': 997}.\n",
      "[I 2019-05-19 03:46:16,813] Finished trial#53 resulted in value: 0.05753274955387322. Current best value is 0.05199563426970925 with parameters: {'n_neighbors': 997}.\n",
      "[I 2019-05-19 03:46:52,471] Finished trial#54 resulted in value: 0.08092855058538002. Current best value is 0.05199563426970925 with parameters: {'n_neighbors': 997}.\n",
      "[I 2019-05-19 03:47:18,252] Finished trial#55 resulted in value: 0.11616372921731205. Current best value is 0.05199563426970925 with parameters: {'n_neighbors': 997}.\n",
      "[I 2019-05-19 03:48:13,858] Finished trial#56 resulted in value: 0.05187819023918285. Current best value is 0.05187819023918285 with parameters: {'n_neighbors': 999}.\n",
      "[I 2019-05-19 03:49:08,316] Finished trial#57 resulted in value: 0.0531709481145612. Current best value is 0.05187819023918285 with parameters: {'n_neighbors': 999}.\n",
      "[I 2019-05-19 03:49:52,419] Finished trial#58 resulted in value: 0.06491795523151438. Current best value is 0.05187819023918285 with parameters: {'n_neighbors': 999}.\n",
      "[I 2019-05-19 03:50:29,960] Finished trial#59 resulted in value: 0.08764305194020768. Current best value is 0.05187819023918285 with parameters: {'n_neighbors': 999}.\n",
      "[I 2019-05-19 03:51:17,695] Finished trial#60 resulted in value: 0.07170823125586413. Current best value is 0.05187819023918285 with parameters: {'n_neighbors': 999}.\n",
      "[I 2019-05-19 03:52:13,377] Finished trial#61 resulted in value: 0.06774952188821473. Current best value is 0.05187819023918285 with parameters: {'n_neighbors': 999}.\n",
      "[I 2019-05-19 03:53:15,515] Finished trial#62 resulted in value: 0.06107836679750107. Current best value is 0.05187819023918285 with parameters: {'n_neighbors': 999}.\n",
      "[I 2019-05-19 03:54:13,482] Finished trial#63 resulted in value: 0.05498193909466005. Current best value is 0.05187819023918285 with parameters: {'n_neighbors': 999}.\n",
      "[I 2019-05-19 03:54:52,856] Finished trial#64 resulted in value: 0.07741616836867848. Current best value is 0.05187819023918285 with parameters: {'n_neighbors': 999}.\n",
      "[I 2019-05-19 03:56:07,286] Finished trial#65 resulted in value: 0.05216965649195094. Current best value is 0.05187819023918285 with parameters: {'n_neighbors': 999}.\n",
      "[I 2019-05-19 03:57:23,621] Finished trial#66 resulted in value: 0.05304043421665738. Current best value is 0.05187819023918285 with parameters: {'n_neighbors': 999}.\n",
      "[I 2019-05-19 03:58:29,588] Finished trial#67 resulted in value: 0.05681705580536178. Current best value is 0.05187819023918285 with parameters: {'n_neighbors': 999}.\n",
      "[I 2019-05-19 03:59:39,812] Finished trial#68 resulted in value: 0.05788845565194874. Current best value is 0.05187819023918285 with parameters: {'n_neighbors': 999}.\n",
      "[I 2019-05-19 04:00:42,378] Finished trial#69 resulted in value: 0.05976083928765766. Current best value is 0.05187819023918285 with parameters: {'n_neighbors': 999}.\n",
      "[I 2019-05-19 04:01:48,120] Finished trial#70 resulted in value: 0.05199563426970925. Current best value is 0.05187819023918285 with parameters: {'n_neighbors': 999}.\n",
      "[I 2019-05-19 04:02:44,120] Finished trial#71 resulted in value: 0.05415921277993371. Current best value is 0.05187819023918285 with parameters: {'n_neighbors': 999}.\n",
      "[I 2019-05-19 04:03:37,944] Finished trial#72 resulted in value: 0.05591497411420415. Current best value is 0.05187819023918285 with parameters: {'n_neighbors': 999}.\n",
      "[I 2019-05-19 04:04:29,749] Finished trial#73 resulted in value: 0.05794305079773677. Current best value is 0.05187819023918285 with parameters: {'n_neighbors': 999}.\n",
      "[I 2019-05-19 04:05:27,615] Finished trial#74 resulted in value: 0.05199563426970925. Current best value is 0.05187819023918285 with parameters: {'n_neighbors': 999}.\n",
      "[I 2019-05-19 04:06:14,566] Finished trial#75 resulted in value: 0.06362216728187861. Current best value is 0.05187819023918285 with parameters: {'n_neighbors': 999}.\n",
      "[I 2019-05-19 04:07:11,021] Finished trial#76 resulted in value: 0.05369374961242693. Current best value is 0.05187819023918285 with parameters: {'n_neighbors': 999}.\n",
      "[I 2019-05-19 04:07:59,928] Finished trial#77 resulted in value: 0.058719721292920316. Current best value is 0.05187819023918285 with parameters: {'n_neighbors': 999}.\n",
      "[I 2019-05-19 04:08:47,317] Finished trial#78 resulted in value: 0.06185103193474632. Current best value is 0.05187819023918285 with parameters: {'n_neighbors': 999}.\n",
      "[I 2019-05-19 04:09:46,508] Finished trial#79 resulted in value: 0.05518891921816642. Current best value is 0.05187819023918285 with parameters: {'n_neighbors': 999}.\n",
      "[I 2019-05-19 04:10:41,466] Finished trial#80 resulted in value: 0.057629886972304055. Current best value is 0.05187819023918285 with parameters: {'n_neighbors': 999}.\n",
      "[I 2019-05-19 04:11:36,220] Finished trial#81 resulted in value: 0.05298106413953124. Current best value is 0.05187819023918285 with parameters: {'n_neighbors': 999}.\n",
      "[I 2019-05-19 04:12:19,945] Finished trial#82 resulted in value: 0.06655034713873036. Current best value is 0.05187819023918285 with parameters: {'n_neighbors': 999}.\n",
      "[I 2019-05-19 04:13:12,142] Finished trial#83 resulted in value: 0.05672196216966207. Current best value is 0.05187819023918285 with parameters: {'n_neighbors': 999}.\n",
      "[I 2019-05-19 04:14:09,690] Finished trial#84 resulted in value: 0.05195526397837849. Current best value is 0.05187819023918285 with parameters: {'n_neighbors': 999}.\n",
      "[I 2019-05-19 04:14:57,076] Finished trial#85 resulted in value: 0.06117489305966085. Current best value is 0.05187819023918285 with parameters: {'n_neighbors': 999}.\n",
      "[I 2019-05-19 04:15:51,510] Finished trial#86 resulted in value: 0.05426165268421131. Current best value is 0.05187819023918285 with parameters: {'n_neighbors': 999}.\n",
      "[I 2019-05-19 04:16:33,610] Finished trial#87 resulted in value: 0.06992343597425142. Current best value is 0.05187819023918285 with parameters: {'n_neighbors': 999}.\n",
      "[I 2019-05-19 04:17:28,443] Finished trial#88 resulted in value: 0.053440357640545416. Current best value is 0.05187819023918285 with parameters: {'n_neighbors': 999}.\n",
      "[I 2019-05-19 04:18:25,186] Finished trial#89 resulted in value: 0.05254121044831789. Current best value is 0.05187819023918285 with parameters: {'n_neighbors': 999}.\n",
      "[I 2019-05-19 04:19:12,262] Finished trial#90 resulted in value: 0.06234458418157985. Current best value is 0.05187819023918285 with parameters: {'n_neighbors': 999}.\n",
      "[I 2019-05-19 04:19:30,527] Finished trial#91 resulted in value: 0.16996085697268987. Current best value is 0.05187819023918285 with parameters: {'n_neighbors': 999}.\n",
      "[I 2019-05-19 04:20:13,103] Finished trial#92 resulted in value: 0.06394178572540228. Current best value is 0.05187819023918285 with parameters: {'n_neighbors': 999}.\n",
      "[I 2019-05-19 04:20:55,881] Finished trial#93 resulted in value: 0.060009843907873714. Current best value is 0.05187819023918285 with parameters: {'n_neighbors': 999}.\n",
      "[I 2019-05-19 04:21:39,986] Finished trial#94 resulted in value: 0.05835227130118822. Current best value is 0.05187819023918285 with parameters: {'n_neighbors': 999}.\n",
      "[I 2019-05-19 04:22:26,964] Finished trial#95 resulted in value: 0.05537476595223662. Current best value is 0.05187819023918285 with parameters: {'n_neighbors': 999}.\n",
      "[I 2019-05-19 04:23:10,562] Finished trial#96 resulted in value: 0.0591028795152021. Current best value is 0.05187819023918285 with parameters: {'n_neighbors': 999}.\n",
      "[I 2019-05-19 04:23:56,805] Finished trial#97 resulted in value: 0.056222438199314016. Current best value is 0.05187819023918285 with parameters: {'n_neighbors': 999}.\n"
     ]
    },
    {
     "name": "stderr",
     "output_type": "stream",
     "text": [
      "[I 2019-05-19 04:24:17,139] Finished trial#98 resulted in value: 0.12835303022939196. Current best value is 0.05187819023918285 with parameters: {'n_neighbors': 999}.\n",
      "[I 2019-05-19 04:24:52,628] Finished trial#99 resulted in value: 0.07322823898739679. Current best value is 0.05187819023918285 with parameters: {'n_neighbors': 999}.\n"
     ]
    }
   ],
   "source": [
    "mytrial = []\n",
    "#  tune hypterparameters\n",
    "def objective(trial):\n",
    "\n",
    "    n_neighbors = trial.suggest_int('n_neighbors', 100, 1000)\n",
    "        \n",
    "    args={'algorithm': {'cls': 'KNeighborsRegressor',\n",
    "  'fit': {},\n",
    "  'init': {'n_neighbors': n_neighbors,\n",
    "   'weights': 'uniform',\n",
    "   'algorithm': 'ball_tree',\n",
    "   'leaf_size': 30,\n",
    "   'p': 2,\n",
    "   'metric': 'minkowski'}},\n",
    " 'columns':common_columns ,\n",
    " 'kfold': {'n_splits': 3,\n",
    "  'random_state': 1985,\n",
    "  'shuffle': True,\n",
    "  'type': 'group'},\n",
    " 'scaler': {'cls': 'StandardScaler'}}\n",
    "    \n",
    "    df_his,  df_feature_importances, df_valid_pred, df_test_pred =  EP.process(df_train, args, df_test = df_test, trial=mytrial, remark='tune 0')\n",
    "    val_mae_mean = np.mean(df_his.valid)\n",
    "    val_mae_var = np.var(df_his.valid)\n",
    "    train_mae_mean = np.mean(df_his.train)\n",
    "    train_mae_var = np.var(df_his.train)\n",
    "    \n",
    "    trial.set_user_attr('val_mae', val_mae_mean)\n",
    "    trial.set_user_attr('train_mae', train_mae_mean)\n",
    "    trial.set_user_attr('mae_diff', val_mae_mean-train_mae_mean)\n",
    "    trial.set_user_attr('val_mae_var', val_mae_var)\n",
    "\n",
    "    return np.abs(val_mae_mean - train_mae_mean)*val_mae_mean\n",
    "\n",
    "study = optuna.create_study()\n",
    "study.optimize(objective, n_trials=100)"
   ]
  },
  {
   "cell_type": "code",
   "execution_count": 42,
   "metadata": {
    "collapsed": true
   },
   "outputs": [],
   "source": [
    "for trial_i in mytrial:\n",
    "    db.insert(trial_i)"
   ]
  },
  {
   "cell_type": "code",
   "execution_count": 43,
   "metadata": {
    "collapsed": true
   },
   "outputs": [],
   "source": [
    "db.commit()"
   ]
  },
  {
   "cell_type": "code",
   "execution_count": null,
   "metadata": {
    "collapsed": true
   },
   "outputs": [],
   "source": []
  }
 ],
 "metadata": {
  "kernelspec": {
   "display_name": "python3.6",
   "language": "python",
   "name": "py36"
  },
  "language_info": {
   "codemirror_mode": {
    "name": "ipython",
    "version": 3
   },
   "file_extension": ".py",
   "mimetype": "text/x-python",
   "name": "python",
   "nbconvert_exporter": "python",
   "pygments_lexer": "ipython3",
   "version": "3.6.4"
  }
 },
 "nbformat": 4,
 "nbformat_minor": 2
}
