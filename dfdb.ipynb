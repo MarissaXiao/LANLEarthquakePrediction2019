{
 "cells": [
  {
   "cell_type": "code",
   "execution_count": 1,
   "metadata": {},
   "outputs": [
    {
     "data": {
      "text/html": [
       "<style>\n",
       "   div#notebook-container    { width: 95%; }\n",
       "   div#menubar-container     { width: 65%; }\n",
       "   div#maintoolbar-container { width: 99%; }\n",
       "</style>"
      ],
      "text/plain": [
       "<IPython.core.display.HTML object>"
      ]
     },
     "metadata": {},
     "output_type": "display_data"
    }
   ],
   "source": [
    "%%HTML\n",
    "<style>\n",
    "   div#notebook-container    { width: 95%; }\n",
    "   div#menubar-container     { width: 65%; }\n",
    "   div#maintoolbar-container { width: 99%; }\n",
    "</style>"
   ]
  },
  {
   "cell_type": "code",
   "execution_count": 112,
   "metadata": {},
   "outputs": [],
   "source": [
    "import pandas as pd\n",
    "import numpy as np\n",
    "import copy\n",
    "import os"
   ]
  },
  {
   "cell_type": "code",
   "execution_count": 109,
   "metadata": {},
   "outputs": [
    {
     "data": {
      "text/html": [
       "<div>\n",
       "<style scoped>\n",
       "    .dataframe tbody tr th:only-of-type {\n",
       "        vertical-align: middle;\n",
       "    }\n",
       "\n",
       "    .dataframe tbody tr th {\n",
       "        vertical-align: top;\n",
       "    }\n",
       "\n",
       "    .dataframe thead th {\n",
       "        text-align: right;\n",
       "    }\n",
       "</style>\n",
       "<table border=\"1\" class=\"dataframe\">\n",
       "  <thead>\n",
       "    <tr style=\"text-align: right;\">\n",
       "      <th></th>\n",
       "      <th>a</th>\n",
       "      <th>b</th>\n",
       "      <th>c</th>\n",
       "    </tr>\n",
       "  </thead>\n",
       "  <tbody>\n",
       "    <tr>\n",
       "      <th>0</th>\n",
       "      <td>1.0</td>\n",
       "      <td>3.0</td>\n",
       "      <td>NaN</td>\n",
       "    </tr>\n",
       "    <tr>\n",
       "      <th>1</th>\n",
       "      <td>2.0</td>\n",
       "      <td>4.0</td>\n",
       "      <td>NaN</td>\n",
       "    </tr>\n",
       "    <tr>\n",
       "      <th>2</th>\n",
       "      <td>3.0</td>\n",
       "      <td>4.0</td>\n",
       "      <td>NaN</td>\n",
       "    </tr>\n",
       "    <tr>\n",
       "      <th>3</th>\n",
       "      <td>NaN</td>\n",
       "      <td>NaN</td>\n",
       "      <td>{'a': 1231232}</td>\n",
       "    </tr>\n",
       "  </tbody>\n",
       "</table>\n",
       "</div>"
      ],
      "text/plain": [
       "     a    b               c\n",
       "0  1.0  3.0             NaN\n",
       "1  2.0  4.0             NaN\n",
       "2  3.0  4.0             NaN\n",
       "3  NaN  NaN  {'a': 1231232}"
      ]
     },
     "execution_count": 109,
     "metadata": {},
     "output_type": "execute_result"
    }
   ],
   "source": [
    "db = pd.DataFrame({'a':[1,2,3], 'b':[3,4,4]})\n",
    "c = [{'a':1231232}]\n",
    "db.loc[3,'c']= c.copy()\n",
    "db"
   ]
  },
  {
   "cell_type": "code",
   "execution_count": 110,
   "metadata": {},
   "outputs": [
    {
     "data": {
      "text/html": [
       "<div>\n",
       "<style scoped>\n",
       "    .dataframe tbody tr th:only-of-type {\n",
       "        vertical-align: middle;\n",
       "    }\n",
       "\n",
       "    .dataframe tbody tr th {\n",
       "        vertical-align: top;\n",
       "    }\n",
       "\n",
       "    .dataframe thead th {\n",
       "        text-align: right;\n",
       "    }\n",
       "</style>\n",
       "<table border=\"1\" class=\"dataframe\">\n",
       "  <thead>\n",
       "    <tr style=\"text-align: right;\">\n",
       "      <th></th>\n",
       "      <th>a</th>\n",
       "      <th>b</th>\n",
       "      <th>c</th>\n",
       "    </tr>\n",
       "  </thead>\n",
       "  <tbody>\n",
       "    <tr>\n",
       "      <th>0</th>\n",
       "      <td>1.0</td>\n",
       "      <td>3.0</td>\n",
       "      <td>NaN</td>\n",
       "    </tr>\n",
       "    <tr>\n",
       "      <th>1</th>\n",
       "      <td>2.0</td>\n",
       "      <td>4.0</td>\n",
       "      <td>NaN</td>\n",
       "    </tr>\n",
       "    <tr>\n",
       "      <th>2</th>\n",
       "      <td>3.0</td>\n",
       "      <td>4.0</td>\n",
       "      <td>NaN</td>\n",
       "    </tr>\n",
       "    <tr>\n",
       "      <th>3</th>\n",
       "      <td>NaN</td>\n",
       "      <td>NaN</td>\n",
       "      <td>{'a': 32}</td>\n",
       "    </tr>\n",
       "  </tbody>\n",
       "</table>\n",
       "</div>"
      ],
      "text/plain": [
       "     a    b          c\n",
       "0  1.0  3.0        NaN\n",
       "1  2.0  4.0        NaN\n",
       "2  3.0  4.0        NaN\n",
       "3  NaN  NaN  {'a': 32}"
      ]
     },
     "execution_count": 110,
     "metadata": {},
     "output_type": "execute_result"
    }
   ],
   "source": [
    "c[0]['a']=32\n",
    "db"
   ]
  },
  {
   "cell_type": "code",
   "execution_count": 118,
   "metadata": {},
   "outputs": [],
   "source": [
    "db = DFDB('./test_dfdb')"
   ]
  },
  {
   "cell_type": "code",
   "execution_count": 119,
   "metadata": {},
   "outputs": [
    {
     "data": {
      "text/html": [
       "<div>\n",
       "<style scoped>\n",
       "    .dataframe tbody tr th:only-of-type {\n",
       "        vertical-align: middle;\n",
       "    }\n",
       "\n",
       "    .dataframe tbody tr th {\n",
       "        vertical-align: top;\n",
       "    }\n",
       "\n",
       "    .dataframe thead th {\n",
       "        text-align: right;\n",
       "    }\n",
       "</style>\n",
       "<table border=\"1\" class=\"dataframe\">\n",
       "  <thead>\n",
       "    <tr style=\"text-align: right;\">\n",
       "      <th></th>\n",
       "    </tr>\n",
       "  </thead>\n",
       "  <tbody>\n",
       "  </tbody>\n",
       "</table>\n",
       "</div>"
      ],
      "text/plain": [
       "Empty DataFrame\n",
       "Columns: []\n",
       "Index: []"
      ]
     },
     "execution_count": 119,
     "metadata": {},
     "output_type": "execute_result"
    }
   ],
   "source": [
    "db.select()"
   ]
  },
  {
   "cell_type": "code",
   "execution_count": 121,
   "metadata": {},
   "outputs": [],
   "source": [
    "db.insert({'a':1,'b':2})"
   ]
  },
  {
   "cell_type": "code",
   "execution_count": 122,
   "metadata": {},
   "outputs": [
    {
     "data": {
      "text/html": [
       "<div>\n",
       "<style scoped>\n",
       "    .dataframe tbody tr th:only-of-type {\n",
       "        vertical-align: middle;\n",
       "    }\n",
       "\n",
       "    .dataframe tbody tr th {\n",
       "        vertical-align: top;\n",
       "    }\n",
       "\n",
       "    .dataframe thead th {\n",
       "        text-align: right;\n",
       "    }\n",
       "</style>\n",
       "<table border=\"1\" class=\"dataframe\">\n",
       "  <thead>\n",
       "    <tr style=\"text-align: right;\">\n",
       "      <th></th>\n",
       "      <th>a</th>\n",
       "      <th>b</th>\n",
       "    </tr>\n",
       "  </thead>\n",
       "  <tbody>\n",
       "    <tr>\n",
       "      <th>0</th>\n",
       "      <td>1</td>\n",
       "      <td>2</td>\n",
       "    </tr>\n",
       "  </tbody>\n",
       "</table>\n",
       "</div>"
      ],
      "text/plain": [
       "   a  b\n",
       "0  1  2"
      ]
     },
     "execution_count": 122,
     "metadata": {},
     "output_type": "execute_result"
    }
   ],
   "source": [
    "db.select()"
   ]
  },
  {
   "cell_type": "code",
   "execution_count": 123,
   "metadata": {},
   "outputs": [],
   "source": [
    "db.commit()"
   ]
  },
  {
   "cell_type": "code",
   "execution_count": 125,
   "metadata": {},
   "outputs": [
    {
     "data": {
      "text/html": [
       "<div>\n",
       "<style scoped>\n",
       "    .dataframe tbody tr th:only-of-type {\n",
       "        vertical-align: middle;\n",
       "    }\n",
       "\n",
       "    .dataframe tbody tr th {\n",
       "        vertical-align: top;\n",
       "    }\n",
       "\n",
       "    .dataframe thead th {\n",
       "        text-align: right;\n",
       "    }\n",
       "</style>\n",
       "<table border=\"1\" class=\"dataframe\">\n",
       "  <thead>\n",
       "    <tr style=\"text-align: right;\">\n",
       "      <th></th>\n",
       "      <th>a</th>\n",
       "      <th>b</th>\n",
       "    </tr>\n",
       "  </thead>\n",
       "  <tbody>\n",
       "    <tr>\n",
       "      <th>0</th>\n",
       "      <td>1</td>\n",
       "      <td>2</td>\n",
       "    </tr>\n",
       "  </tbody>\n",
       "</table>\n",
       "</div>"
      ],
      "text/plain": [
       "   a  b\n",
       "0  1  2"
      ]
     },
     "execution_count": 125,
     "metadata": {},
     "output_type": "execute_result"
    }
   ],
   "source": [
    "db = DFDB('./test_dfdb')\n",
    "db.select()"
   ]
  },
  {
   "cell_type": "code",
   "execution_count": 117,
   "metadata": {},
   "outputs": [],
   "source": [
    "class DFDB(object):\n",
    "    \n",
    "    '''\n",
    "    data structure:\n",
    "    table(dataframe) pd.DataFrame\n",
    "    record(tuple) {'datetime':datetime.datetime.now(), 'kernel':'1827638172456.json', 'score':1.2, 'param':{'alpha':.1, }, 'df_his':pd.DataFrame(), 'y_pred':np.array(), 'parent':2, 'description':'no detail'}\n",
    "    \n",
    "    operation:\n",
    "    load db from a file \n",
    "    insert a record\n",
    "    update a record\n",
    "    delete a record\n",
    "    select copy a sub dataframe and  return a copy\n",
    "    commit save\n",
    "    rollback clear change in memory and reload file\n",
    "    \n",
    "    '''\n",
    "    \n",
    "\n",
    "#     key_string_error = TypeError('Key/name must be a string!')\n",
    "\n",
    "    def __init__(self, location, auto_commit=False):\n",
    "        '''Creates a database object and loads the data from the location path.\n",
    "        If the file does not exist it will be created on the first update.\n",
    "        '''\n",
    "        self.location = location\n",
    "        self.auto_commit = auto_commit\n",
    "        self.load(self.location)\n",
    "        return\n",
    "    \n",
    "    def set_auto_commit(auto_commit):\n",
    "        '''reset auto_commit'''\n",
    "        self.auto_commit = auto_commit\n",
    "        return\n",
    "\n",
    "    def load(self, location):\n",
    "        '''Loads, reloads or changes the path to the db file'''\n",
    "        location = os.path.expanduser(location)\n",
    "        if os.path.exists(location):\n",
    "            self.db = pd.read_pickle(location)\n",
    "        else:\n",
    "            self.db = pd.DataFrame()\n",
    "        return\n",
    "    \n",
    "    def save(self):\n",
    "        '''save df to the db file'''\n",
    "        self.db.to_pickle(self.location)\n",
    "        return\n",
    "    \n",
    "    def insert(self, record):\n",
    "        '''insert a new record'''\n",
    "        cache = list(self.db.T.to_dict().values())\n",
    "        cache.append(record)\n",
    "        self.db = pd.DataFrame(cache)\n",
    "        del cache\n",
    "        if self.auto_commit:\n",
    "            self.save()\n",
    "        return\n",
    "    \n",
    "    def select(self, idx_list=[], key_list=[]):\n",
    "        \n",
    "#          \"\"\"\n",
    "#          insert a new record \n",
    "#          idx_list is a index list\n",
    "#          key_list is column name list\n",
    "#          if some column's value is dict \n",
    "#          key cound use like key-key\n",
    "#          for example param column's value is {'a':{'b':123}}\n",
    "#          you can use ['a-b']\n",
    "#          \"\"\"\n",
    "        \n",
    "        assert type(idx_list) == list, 'idx_list should be a list'\n",
    "        assert type(key_list) == list, 'key_list should be a list'\n",
    "        columns_ = self.db.columns.tolist()\n",
    "        original_columns = [col for col in key_list if col in columns_]\n",
    "        decomposed_columns = [col for col in key_list if col not in columns_]\n",
    "        \n",
    "        if (len(idx_list) == 0) & (len(key_list) == 0):\n",
    "            df_sub =  self.db.loc[:,:].copy()\n",
    "        elif (len(idx_list) != 0) & (len(key_list) == 0):\n",
    "            df_sub =  self.db.loc[idx_list,:].copy()\n",
    "        elif (len(idx_list) == 0) & (len(key_list) != 0):\n",
    "            df_sub =  self.db.loc[:,key_list].copy()\n",
    "        else:\n",
    "            df_sub =  self.db.loc[idx_list,key_list].copy()\n",
    "            \n",
    "        for col in decomposed_columns:\n",
    "            keys = col.split('-')\n",
    "            series = df_sub[keys[0]]\n",
    "            for k in keys[1:]:\n",
    "                series = series.apply(lambda x : x[k])\n",
    "            df_sub[col] = series\n",
    "            \n",
    "        return df_sub\n",
    "    \n",
    "    def update(self, idx, key, value):\n",
    "        '''update a record key's value'''\n",
    "        self.db.loc[idx,key] = copy.deepcopy(value)\n",
    "        if self.auto_commit:\n",
    "            self.save()\n",
    "        return\n",
    "    \n",
    "    def delete(self, idx):\n",
    "        '''del a record '''\n",
    "        self.db = self.db.drop([idx])\n",
    "        if self.auto_commit:\n",
    "            self.save()\n",
    "        return\n",
    "    \n",
    "    def commit(self):\n",
    "        '''save cache to file '''\n",
    "        self.save()\n",
    "        return \n",
    "    \n",
    "    def rollback(self):\n",
    "        '''reload file'''\n",
    "        self.load(self.location)\n",
    "        return\n",
    "    \n",
    "    "
   ]
  },
  {
   "cell_type": "code",
   "execution_count": null,
   "metadata": {},
   "outputs": [],
   "source": []
  }
 ],
 "metadata": {
  "kernelspec": {
   "display_name": "Environment (conda_tensorflow_gpu_p36)",
   "language": "python",
   "name": "conda_tensorflow_gpu_p36"
  },
  "language_info": {
   "codemirror_mode": {
    "name": "ipython",
    "version": 3
   },
   "file_extension": ".py",
   "mimetype": "text/x-python",
   "name": "python",
   "nbconvert_exporter": "python",
   "pygments_lexer": "ipython3",
   "version": "3.6.5"
  }
 },
 "nbformat": 4,
 "nbformat_minor": 2
}
