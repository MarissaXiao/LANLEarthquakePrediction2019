{
 "cells": [
  {
   "cell_type": "code",
   "execution_count": 13,
   "metadata": {
    "scrolled": true
   },
   "outputs": [],
   "source": [
    "import pandas as pd\n",
    "import numpy as np\n",
    "\n",
    "from sklearn.preprocessing import StandardScaler, MinMaxScaler\n",
    "\n",
    "import lightgbm as lgb\n",
    "import catboost as cb\n",
    "from keras.wrappers.scikit_learn import KerasRegressor\n",
    "from keras import Sequential\n",
    "from keras.layers import Dense\n",
    "\n",
    "from tsfresh.examples import load_robot_execution_failures\n",
    "from tsfresh import extract_features, select_features\n",
    "import optuna\n",
    "\n",
    "from common import EP\n",
    "from models import *\n",
    "from dfdb import DFDB\n",
    "\n",
    "import types\n",
    "import os\n",
    "import copy\n",
    "\n",
    "import seaborn as sns\n",
    "import matplotlib.pyplot as plt\n",
    "\n",
    "# os.environ[\"CUDA_DEVICE_ORDER\"]=\"PCI_BUS_ID\";\n",
    "# os.environ[\"CUDA_VISIBLE_DEVICES\"]=\"3\";  "
   ]
  },
  {
   "cell_type": "code",
   "execution_count": 2,
   "metadata": {},
   "outputs": [],
   "source": [
    "pd.set_option('display.max_colwidth', -1)"
   ]
  },
  {
   "cell_type": "code",
   "execution_count": 3,
   "metadata": {},
   "outputs": [
    {
     "data": {
      "text/html": [
       "<style>\n",
       "   div#notebook-container    { width: 95%; }\n",
       "   div#menubar-container     { width: 65%; }\n",
       "   div#maintoolbar-container { width: 99%; }\n",
       "</style>"
      ],
      "text/plain": [
       "<IPython.core.display.HTML object>"
      ]
     },
     "metadata": {},
     "output_type": "display_data"
    }
   ],
   "source": [
    "%%HTML\n",
    "<style>\n",
    "   div#notebook-container    { width: 95%; }\n",
    "   div#menubar-container     { width: 65%; }\n",
    "   div#maintoolbar-container { width: 99%; }\n",
    "</style>"
   ]
  },
  {
   "cell_type": "code",
   "execution_count": 4,
   "metadata": {},
   "outputs": [],
   "source": [
    "def m_lineplot(dflist, plot_features=None, n_col=3):\n",
    "\n",
    "    \n",
    "    n_chart = len(dflist)\n",
    "    n_row = int(n_chart/n_col) if n_chart % n_col == 0 else n_row+1\n",
    "        \n",
    "    fig = plt.figure(figsize=(5*n_col, 3*n_row))\n",
    "    for i, df in enumerate(dflist):\n",
    "        ax = fig.add_subplot(n_row, n_col, i+1)\n",
    "        if type(plot_features) == type(None):\n",
    "            plot_features = df.columns.tolist()\n",
    "        for feat in plot_features:\n",
    "            sns.lineplot(x=df.index, y=df[feat], ax=ax)\n",
    "    return "
   ]
  },
  {
   "cell_type": "code",
   "execution_count": 5,
   "metadata": {},
   "outputs": [],
   "source": [
    "df_train = pd.read_pickle('../feats/df_train.pkl')\n",
    "df_test = pd.read_pickle('../feats/df_test.pkl')"
   ]
  },
  {
   "cell_type": "code",
   "execution_count": 6,
   "metadata": {},
   "outputs": [],
   "source": [
    "df_train['label'] = df_train['y'].apply(lambda x:  int(x) if x<15 else 15)\n",
    "group = df_train['season'].values\n",
    "group[np.where(group==17)[0]] = 1\n",
    "df_train['group'] = group\n",
    "df_train = df_train.drop(columns=['season'])"
   ]
  },
  {
   "cell_type": "code",
   "execution_count": 7,
   "metadata": {},
   "outputs": [],
   "source": [
    "test_X = df_train.drop(columns=['y','index','group','label']).copy()\n",
    "test_X.index = df_train['index']\n",
    "test_y = df_train['y'].copy()\n",
    "test_y.index = df_train['index']\n",
    "tsfresh_columns = select_features(test_X, test_y).columns.tolist()"
   ]
  },
  {
   "cell_type": "code",
   "execution_count": 8,
   "metadata": {},
   "outputs": [],
   "source": [
    "original_columns = df_train.columns.drop(['index','y','label','group']).tolist()"
   ]
  },
  {
   "cell_type": "code",
   "execution_count": 9,
   "metadata": {},
   "outputs": [],
   "source": [
    "common_columns50 = [\"number_peaks{'n': 5}\",\n",
    " 'abs_q75_6',\n",
    " 'q01_roll_std_100',\n",
    " '5000crest_factor_quantile75',\n",
    " 'abs_q01_4',\n",
    " 'q25_roll_std_100',\n",
    " 'q05_roll_std_10',\n",
    " 'median__roll_std',\n",
    " 'abs_q05_6',\n",
    " '5000form_factor_quantile75',\n",
    " '5000smoothness_quantile05',\n",
    " \"quantile{'q': 0.9}\",\n",
    " 'abs_q75_2',\n",
    " 'q01_roll_std_1000',\n",
    " '5000quantile75mean_',\n",
    " 'spkt_welch_density__coeff_3',\n",
    " \"number_peaks{'n': 10}\",\n",
    " \"number_peaks{'n': 1}\",\n",
    " '5000smoothness_mean_',\n",
    " 'abs_q25_5',\n",
    " '5000std_quantile05',\n",
    " '5000smoothness_std_',\n",
    " '5000smoothness_median_',\n",
    " '5000median_variance_',\n",
    " 'spkt_welch_density__coeff_4',\n",
    " '5000variance_quantile25',\n",
    " 'abs_q95_2',\n",
    " 'abs_q75_7',\n",
    " 'q05_5',\n",
    " '5000smoothness_entropy_',\n",
    " '5000smoothness_quantile25',\n",
    " 'q01_2',\n",
    " 'q05_roll_std_100',\n",
    " '3th_peak_freq',\n",
    " \"autocorrelation{'lag': 5}\",\n",
    " \"change_quantiles{'ql': 0.2, 'qh': 0.8, 'isabs': False, 'f_agg': 'var'}\",\n",
    " 'q01_roll_std_10',\n",
    " 'abs_q01_3',\n",
    " '5000variance_median_',\n",
    " 'q75_roll_std_10',\n",
    " '5000skewness_max_',\n",
    " 'iqr_3',\n",
    " 'abs_q01_5',\n",
    " 'q75_roll_mean_10',\n",
    " '5000quantile99median_',\n",
    " 'iqr_6',\n",
    " 'Hilbert_mean_6',\n",
    " 'q05_roll_std_1000',\n",
    " \"number_peaks{'n': 3}\",\n",
    " 'spkt_welch_densitycoeff_2',\n",
    " '5000std_median_',\n",
    " '5000std_quantile25']"
   ]
  },
  {
   "cell_type": "code",
   "execution_count": 10,
   "metadata": {},
   "outputs": [],
   "source": [
    "common_columns75 = ['abs_q75_6',\n",
    " 'abs_q01_4',\n",
    " 'q25_roll_std_100',\n",
    " 'q05_roll_std_10',\n",
    " 'median__roll_std',\n",
    " '5000smoothness_quantile05',\n",
    " 'spkt_welch_density__coeff_3',\n",
    " \"number_peaks{'n': 10}\",\n",
    " 'abs_q25_5',\n",
    " 'abs_q75_7',\n",
    " 'q05_5',\n",
    " 'q05_roll_std_100',\n",
    " \"change_quantiles{'ql': 0.2, 'qh': 0.8, 'isabs': False, 'f_agg': 'var'}\",\n",
    " 'iqr_6',\n",
    " 'q05_roll_std_1000']"
   ]
  },
  {
   "cell_type": "code",
   "execution_count": 11,
   "metadata": {},
   "outputs": [],
   "source": [
    "common_columns95 = ['abs_q75_6',\n",
    " 'abs_q01_4',\n",
    " 'q25_roll_std_100',\n",
    " \"number_peaks{'n': 10}\",\n",
    " 'abs_q25_5',\n",
    " 'q05_roll_std_100',\n",
    " 'iqr_6',\n",
    " 'q05_roll_std_1000']"
   ]
  },
  {
   "cell_type": "code",
   "execution_count": 16,
   "metadata": {},
   "outputs": [
    {
     "data": {
      "text/plain": [
       "(0, 0)"
      ]
     },
     "execution_count": 16,
     "metadata": {},
     "output_type": "execute_result"
    }
   ],
   "source": [
    "db = DFDB('../trial2/kerasmlp.pkl', auto_commit=False)\n",
    "db.select().shape"
   ]
  },
  {
   "cell_type": "code",
   "execution_count": 17,
   "metadata": {},
   "outputs": [
    {
     "data": {
      "text/plain": [
       "(52, 15, 8)"
      ]
     },
     "execution_count": 17,
     "metadata": {},
     "output_type": "execute_result"
    }
   ],
   "source": [
    "len(common_columns50),len(common_columns75),len(common_columns95)"
   ]
  },
  {
   "cell_type": "code",
   "execution_count": 60,
   "metadata": {},
   "outputs": [],
   "source": [
    "path_param={\n",
    "    'input_dim':52,\n",
    "    'hidden_layer_sizes':[64, 16],\n",
    "    'activation':'relu',\n",
    "    'l1l2regularizer':None,\n",
    "    'dropout':.3,\n",
    "}\n",
    "base_save_dir = create_path('KerasMLPRegressor', path_param)\n",
    "param={\n",
    "    'algorithm': {\n",
    "        'cls': 'KerasMLPRegressor',\n",
    "        'fit': {\n",
    "            'versbose':0, \n",
    "            'epochs':50, \n",
    "            'early_stopping_rounds':20,\n",
    "        },\n",
    "        'init': {\n",
    "            'batch':128, \n",
    "            'solver':'adam', \n",
    "            'metric':'mean_absolute_error', \n",
    "            'lr':.0001, \n",
    "            'sgd_momentum':.9, \n",
    "            'sgd_decay':0.0001,\n",
    "            'base_save_dir':base_save_dir, \n",
    "            'alias':'kerasmlp',\n",
    "            **path_param\n",
    "        }\n",
    "    },\n",
    "    'columns': common_columns50,\n",
    "    'kfold': {\n",
    "        'n_splits': 3,\n",
    "        'random_state': 1985,\n",
    "        'shuffle': True,\n",
    "        'type': 'group'#stratified\n",
    "    },\n",
    "    'scaler': {\n",
    "        'cls': 'StandardScaler'\n",
    "    }\n",
    "}"
   ]
  },
  {
   "cell_type": "code",
   "execution_count": null,
   "metadata": {
    "scrolled": true
   },
   "outputs": [],
   "source": [
    "# run one try\n",
    "mytrial = []\n",
    "df_his,  df_feature_importances, df_valid_pred, df_test_pred =  EP.process(df_train, param, df_test = df_test, trial=mytrial)\n",
    "db.insert(mytrial[0])\n",
    "df_trial = db.select()"
   ]
  },
  {
   "cell_type": "code",
   "execution_count": 66,
   "metadata": {},
   "outputs": [
    {
     "data": {
      "text/html": [
       "<div>\n",
       "<style scoped>\n",
       "    .dataframe tbody tr th:only-of-type {\n",
       "        vertical-align: middle;\n",
       "    }\n",
       "\n",
       "    .dataframe tbody tr th {\n",
       "        vertical-align: top;\n",
       "    }\n",
       "\n",
       "    .dataframe thead th {\n",
       "        text-align: right;\n",
       "    }\n",
       "</style>\n",
       "<table border=\"1\" class=\"dataframe\">\n",
       "  <thead>\n",
       "    <tr style=\"text-align: right;\">\n",
       "      <th></th>\n",
       "      <th>datetime</th>\n",
       "      <th>nfeatures</th>\n",
       "      <th>kfold-type</th>\n",
       "      <th>algorithm-init</th>\n",
       "      <th>train_mae</th>\n",
       "      <th>train_mae_var</th>\n",
       "      <th>val_mae</th>\n",
       "      <th>val_mae_var</th>\n",
       "      <th>mae_diff</th>\n",
       "    </tr>\n",
       "  </thead>\n",
       "  <tbody>\n",
       "    <tr>\n",
       "      <th>0</th>\n",
       "      <td>2019-05-20 03:17:00.036329</td>\n",
       "      <td>52</td>\n",
       "      <td>group</td>\n",
       "      <td>{'batch': 128, 'solver': 'adam', 'metric': 'mean_absolute_error', 'lr': 0.0001, 'sgd_momentum': 0.9, 'sgd_decay': 0.0001, 'base_save_dir': 'KerasMLPRegressor/input_dim=52,hidden_layer_sizes=[512, 64],activation='relu',l1l2regularizer=None,dropout=0.3', 'alias': 'kerasmlp', 'input_dim': 52, 'hidden_layer_sizes': [512, 64], 'activation': 'relu', 'l1l2regularizer': None, 'dropout': 0.3}</td>\n",
       "      <td>1.719521</td>\n",
       "      <td>0.001195</td>\n",
       "      <td>2.202497</td>\n",
       "      <td>0.003352</td>\n",
       "      <td>0.482976</td>\n",
       "    </tr>\n",
       "    <tr>\n",
       "      <th>1</th>\n",
       "      <td>2019-05-20 03:59:20.953064</td>\n",
       "      <td>15</td>\n",
       "      <td>group</td>\n",
       "      <td>{'batch': 128, 'solver': 'adam', 'metric': 'mean_absolute_error', 'lr': 0.0001, 'sgd_momentum': 0.9, 'sgd_decay': 0.0001, 'base_save_dir': 'KerasMLPRegressor/input_dim=15,hidden_layer_sizes=[128, 16],activation='relu',l1l2regularizer=None,dropout=0.3', 'alias': 'kerasmlp', 'input_dim': 15, 'hidden_layer_sizes': [128, 16], 'activation': 'relu', 'l1l2regularizer': None, 'dropout': 0.3}</td>\n",
       "      <td>1.962702</td>\n",
       "      <td>0.001743</td>\n",
       "      <td>2.095119</td>\n",
       "      <td>0.018669</td>\n",
       "      <td>0.132416</td>\n",
       "    </tr>\n",
       "    <tr>\n",
       "      <th>2</th>\n",
       "      <td>2019-05-20 04:10:33.387380</td>\n",
       "      <td>15</td>\n",
       "      <td>group</td>\n",
       "      <td>{'batch': 128, 'solver': 'adam', 'metric': 'mean_absolute_error', 'lr': 0.0001, 'sgd_momentum': 0.9, 'sgd_decay': 0.0001, 'base_save_dir': 'KerasMLPRegressor/input_dim=15,hidden_layer_sizes=[64, 16],activation='relu',l1l2regularizer=None,dropout=0.3', 'alias': 'kerasmlp', 'input_dim': 15, 'hidden_layer_sizes': [64, 16], 'activation': 'relu', 'l1l2regularizer': None, 'dropout': 0.3}</td>\n",
       "      <td>1.974893</td>\n",
       "      <td>0.002249</td>\n",
       "      <td>2.084937</td>\n",
       "      <td>0.016540</td>\n",
       "      <td>0.110044</td>\n",
       "    </tr>\n",
       "    <tr>\n",
       "      <th>3</th>\n",
       "      <td>2019-05-20 04:31:58.892823</td>\n",
       "      <td>8</td>\n",
       "      <td>group</td>\n",
       "      <td>{'batch': 128, 'solver': 'adam', 'metric': 'mean_absolute_error', 'lr': 0.0001, 'sgd_momentum': 0.9, 'sgd_decay': 0.0001, 'base_save_dir': 'KerasMLPRegressor/input_dim=8,hidden_layer_sizes=[64, 16],activation='relu',l1l2regularizer=None,dropout=0.3', 'alias': 'kerasmlp', 'input_dim': 8, 'hidden_layer_sizes': [64, 16], 'activation': 'relu', 'l1l2regularizer': None, 'dropout': 0.3}</td>\n",
       "      <td>2.011699</td>\n",
       "      <td>0.002986</td>\n",
       "      <td>2.092593</td>\n",
       "      <td>0.018385</td>\n",
       "      <td>0.080894</td>\n",
       "    </tr>\n",
       "    <tr>\n",
       "      <th>4</th>\n",
       "      <td>2019-05-20 04:47:50.530474</td>\n",
       "      <td>15</td>\n",
       "      <td>stratified</td>\n",
       "      <td>{'batch': 128, 'solver': 'adam', 'metric': 'mean_absolute_error', 'lr': 0.0001, 'sgd_momentum': 0.9, 'sgd_decay': 0.0001, 'base_save_dir': 'KerasMLPRegressor/input_dim=15,hidden_layer_sizes=[64, 16],activation='relu',l1l2regularizer=None,dropout=0.3', 'alias': 'kerasmlp', 'input_dim': 15, 'hidden_layer_sizes': [64, 16], 'activation': 'relu', 'l1l2regularizer': None, 'dropout': 0.3}</td>\n",
       "      <td>1.997296</td>\n",
       "      <td>0.000077</td>\n",
       "      <td>2.006472</td>\n",
       "      <td>0.000015</td>\n",
       "      <td>0.009176</td>\n",
       "    </tr>\n",
       "    <tr>\n",
       "      <th>5</th>\n",
       "      <td>2019-05-20 05:13:44.729127</td>\n",
       "      <td>8</td>\n",
       "      <td>stratified</td>\n",
       "      <td>{'batch': 128, 'solver': 'adam', 'metric': 'mean_absolute_error', 'lr': 0.0001, 'sgd_momentum': 0.9, 'sgd_decay': 0.0001, 'base_save_dir': 'KerasMLPRegressor/input_dim=8,hidden_layer_sizes=[64, 16],activation='relu',l1l2regularizer=None,dropout=0.3', 'alias': 'kerasmlp', 'input_dim': 8, 'hidden_layer_sizes': [64, 16], 'activation': 'relu', 'l1l2regularizer': None, 'dropout': 0.3}</td>\n",
       "      <td>2.035242</td>\n",
       "      <td>0.000116</td>\n",
       "      <td>2.042545</td>\n",
       "      <td>0.000120</td>\n",
       "      <td>0.007303</td>\n",
       "    </tr>\n",
       "    <tr>\n",
       "      <th>6</th>\n",
       "      <td>2019-05-20 05:26:04.460335</td>\n",
       "      <td>52</td>\n",
       "      <td>stratified</td>\n",
       "      <td>{'batch': 128, 'solver': 'adam', 'metric': 'mean_absolute_error', 'lr': 0.0001, 'sgd_momentum': 0.9, 'sgd_decay': 0.0001, 'base_save_dir': 'KerasMLPRegressor/input_dim=52,hidden_layer_sizes=[64, 16],activation='relu',l1l2regularizer=None,dropout=0.3', 'alias': 'kerasmlp', 'input_dim': 52, 'hidden_layer_sizes': [64, 16], 'activation': 'relu', 'l1l2regularizer': None, 'dropout': 0.3}</td>\n",
       "      <td>1.931558</td>\n",
       "      <td>0.000003</td>\n",
       "      <td>1.953183</td>\n",
       "      <td>0.000050</td>\n",
       "      <td>0.021624</td>\n",
       "    </tr>\n",
       "    <tr>\n",
       "      <th>7</th>\n",
       "      <td>2019-05-20 05:46:08.237023</td>\n",
       "      <td>52</td>\n",
       "      <td>stratified</td>\n",
       "      <td>{'batch': 128, 'solver': 'adam', 'metric': 'mean_absolute_error', 'lr': 0.0001, 'sgd_momentum': 0.9, 'sgd_decay': 0.0001, 'base_save_dir': 'KerasMLPRegressor/input_dim=52,hidden_layer_sizes=[512, 64],activation='relu',l1l2regularizer=None,dropout=0.3', 'alias': 'kerasmlp', 'input_dim': 52, 'hidden_layer_sizes': [512, 64], 'activation': 'relu', 'l1l2regularizer': None, 'dropout': 0.3}</td>\n",
       "      <td>1.783952</td>\n",
       "      <td>0.000174</td>\n",
       "      <td>1.867055</td>\n",
       "      <td>0.000046</td>\n",
       "      <td>0.083103</td>\n",
       "    </tr>\n",
       "    <tr>\n",
       "      <th>8</th>\n",
       "      <td>2019-05-20 06:02:55.058381</td>\n",
       "      <td>52</td>\n",
       "      <td>group</td>\n",
       "      <td>{'batch': 128, 'solver': 'adam', 'metric': 'mean_absolute_error', 'lr': 0.0001, 'sgd_momentum': 0.9, 'sgd_decay': 0.0001, 'base_save_dir': 'KerasMLPRegressor/input_dim=52,hidden_layer_sizes=[256, 64],activation='relu',l1l2regularizer=None,dropout=0.3', 'alias': 'kerasmlp', 'input_dim': 52, 'hidden_layer_sizes': [256, 64], 'activation': 'relu', 'l1l2regularizer': None, 'dropout': 0.3}</td>\n",
       "      <td>1.755580</td>\n",
       "      <td>0.001141</td>\n",
       "      <td>2.191866</td>\n",
       "      <td>0.008575</td>\n",
       "      <td>0.436286</td>\n",
       "    </tr>\n",
       "    <tr>\n",
       "      <th>9</th>\n",
       "      <td>2019-05-20 06:15:43.530744</td>\n",
       "      <td>52</td>\n",
       "      <td>group</td>\n",
       "      <td>{'batch': 128, 'solver': 'adam', 'metric': 'mean_absolute_error', 'lr': 0.0001, 'sgd_momentum': 0.9, 'sgd_decay': 0.0001, 'base_save_dir': 'KerasMLPRegressor/input_dim=52,hidden_layer_sizes=[64, 16],activation='relu',l1l2regularizer=None,dropout=0.3', 'alias': 'kerasmlp', 'input_dim': 52, 'hidden_layer_sizes': [64, 16], 'activation': 'relu', 'l1l2regularizer': None, 'dropout': 0.3}</td>\n",
       "      <td>1.882952</td>\n",
       "      <td>0.000819</td>\n",
       "      <td>2.163666</td>\n",
       "      <td>0.004173</td>\n",
       "      <td>0.280715</td>\n",
       "    </tr>\n",
       "  </tbody>\n",
       "</table>\n",
       "</div>"
      ],
      "text/plain": [
       "                    datetime  nfeatures  kfold-type  \\\n",
       "0 2019-05-20 03:17:00.036329  52         group        \n",
       "1 2019-05-20 03:59:20.953064  15         group        \n",
       "2 2019-05-20 04:10:33.387380  15         group        \n",
       "3 2019-05-20 04:31:58.892823  8          group        \n",
       "4 2019-05-20 04:47:50.530474  15         stratified   \n",
       "5 2019-05-20 05:13:44.729127  8          stratified   \n",
       "6 2019-05-20 05:26:04.460335  52         stratified   \n",
       "7 2019-05-20 05:46:08.237023  52         stratified   \n",
       "8 2019-05-20 06:02:55.058381  52         group        \n",
       "9 2019-05-20 06:15:43.530744  52         group        \n",
       "\n",
       "                                                                                                                                                                                                                                                                                                                                                                                       algorithm-init  \\\n",
       "0  {'batch': 128, 'solver': 'adam', 'metric': 'mean_absolute_error', 'lr': 0.0001, 'sgd_momentum': 0.9, 'sgd_decay': 0.0001, 'base_save_dir': 'KerasMLPRegressor/input_dim=52,hidden_layer_sizes=[512, 64],activation='relu',l1l2regularizer=None,dropout=0.3', 'alias': 'kerasmlp', 'input_dim': 52, 'hidden_layer_sizes': [512, 64], 'activation': 'relu', 'l1l2regularizer': None, 'dropout': 0.3}   \n",
       "1  {'batch': 128, 'solver': 'adam', 'metric': 'mean_absolute_error', 'lr': 0.0001, 'sgd_momentum': 0.9, 'sgd_decay': 0.0001, 'base_save_dir': 'KerasMLPRegressor/input_dim=15,hidden_layer_sizes=[128, 16],activation='relu',l1l2regularizer=None,dropout=0.3', 'alias': 'kerasmlp', 'input_dim': 15, 'hidden_layer_sizes': [128, 16], 'activation': 'relu', 'l1l2regularizer': None, 'dropout': 0.3}   \n",
       "2  {'batch': 128, 'solver': 'adam', 'metric': 'mean_absolute_error', 'lr': 0.0001, 'sgd_momentum': 0.9, 'sgd_decay': 0.0001, 'base_save_dir': 'KerasMLPRegressor/input_dim=15,hidden_layer_sizes=[64, 16],activation='relu',l1l2regularizer=None,dropout=0.3', 'alias': 'kerasmlp', 'input_dim': 15, 'hidden_layer_sizes': [64, 16], 'activation': 'relu', 'l1l2regularizer': None, 'dropout': 0.3}     \n",
       "3  {'batch': 128, 'solver': 'adam', 'metric': 'mean_absolute_error', 'lr': 0.0001, 'sgd_momentum': 0.9, 'sgd_decay': 0.0001, 'base_save_dir': 'KerasMLPRegressor/input_dim=8,hidden_layer_sizes=[64, 16],activation='relu',l1l2regularizer=None,dropout=0.3', 'alias': 'kerasmlp', 'input_dim': 8, 'hidden_layer_sizes': [64, 16], 'activation': 'relu', 'l1l2regularizer': None, 'dropout': 0.3}       \n",
       "4  {'batch': 128, 'solver': 'adam', 'metric': 'mean_absolute_error', 'lr': 0.0001, 'sgd_momentum': 0.9, 'sgd_decay': 0.0001, 'base_save_dir': 'KerasMLPRegressor/input_dim=15,hidden_layer_sizes=[64, 16],activation='relu',l1l2regularizer=None,dropout=0.3', 'alias': 'kerasmlp', 'input_dim': 15, 'hidden_layer_sizes': [64, 16], 'activation': 'relu', 'l1l2regularizer': None, 'dropout': 0.3}     \n",
       "5  {'batch': 128, 'solver': 'adam', 'metric': 'mean_absolute_error', 'lr': 0.0001, 'sgd_momentum': 0.9, 'sgd_decay': 0.0001, 'base_save_dir': 'KerasMLPRegressor/input_dim=8,hidden_layer_sizes=[64, 16],activation='relu',l1l2regularizer=None,dropout=0.3', 'alias': 'kerasmlp', 'input_dim': 8, 'hidden_layer_sizes': [64, 16], 'activation': 'relu', 'l1l2regularizer': None, 'dropout': 0.3}       \n",
       "6  {'batch': 128, 'solver': 'adam', 'metric': 'mean_absolute_error', 'lr': 0.0001, 'sgd_momentum': 0.9, 'sgd_decay': 0.0001, 'base_save_dir': 'KerasMLPRegressor/input_dim=52,hidden_layer_sizes=[64, 16],activation='relu',l1l2regularizer=None,dropout=0.3', 'alias': 'kerasmlp', 'input_dim': 52, 'hidden_layer_sizes': [64, 16], 'activation': 'relu', 'l1l2regularizer': None, 'dropout': 0.3}     \n",
       "7  {'batch': 128, 'solver': 'adam', 'metric': 'mean_absolute_error', 'lr': 0.0001, 'sgd_momentum': 0.9, 'sgd_decay': 0.0001, 'base_save_dir': 'KerasMLPRegressor/input_dim=52,hidden_layer_sizes=[512, 64],activation='relu',l1l2regularizer=None,dropout=0.3', 'alias': 'kerasmlp', 'input_dim': 52, 'hidden_layer_sizes': [512, 64], 'activation': 'relu', 'l1l2regularizer': None, 'dropout': 0.3}   \n",
       "8  {'batch': 128, 'solver': 'adam', 'metric': 'mean_absolute_error', 'lr': 0.0001, 'sgd_momentum': 0.9, 'sgd_decay': 0.0001, 'base_save_dir': 'KerasMLPRegressor/input_dim=52,hidden_layer_sizes=[256, 64],activation='relu',l1l2regularizer=None,dropout=0.3', 'alias': 'kerasmlp', 'input_dim': 52, 'hidden_layer_sizes': [256, 64], 'activation': 'relu', 'l1l2regularizer': None, 'dropout': 0.3}   \n",
       "9  {'batch': 128, 'solver': 'adam', 'metric': 'mean_absolute_error', 'lr': 0.0001, 'sgd_momentum': 0.9, 'sgd_decay': 0.0001, 'base_save_dir': 'KerasMLPRegressor/input_dim=52,hidden_layer_sizes=[64, 16],activation='relu',l1l2regularizer=None,dropout=0.3', 'alias': 'kerasmlp', 'input_dim': 52, 'hidden_layer_sizes': [64, 16], 'activation': 'relu', 'l1l2regularizer': None, 'dropout': 0.3}     \n",
       "\n",
       "   train_mae  train_mae_var   val_mae  val_mae_var  mae_diff  \n",
       "0  1.719521   0.001195       2.202497  0.003352     0.482976  \n",
       "1  1.962702   0.001743       2.095119  0.018669     0.132416  \n",
       "2  1.974893   0.002249       2.084937  0.016540     0.110044  \n",
       "3  2.011699   0.002986       2.092593  0.018385     0.080894  \n",
       "4  1.997296   0.000077       2.006472  0.000015     0.009176  \n",
       "5  2.035242   0.000116       2.042545  0.000120     0.007303  \n",
       "6  1.931558   0.000003       1.953183  0.000050     0.021624  \n",
       "7  1.783952   0.000174       1.867055  0.000046     0.083103  \n",
       "8  1.755580   0.001141       2.191866  0.008575     0.436286  \n",
       "9  1.882952   0.000819       2.163666  0.004173     0.280715  "
      ]
     },
     "execution_count": 66,
     "metadata": {},
     "output_type": "execute_result"
    }
   ],
   "source": [
    "df_trial['kfold-type'] = df_trial['param'].apply(lambda x: x['kfold']['type'])\n",
    "df_trial['algorithm-init'] = df_trial['param'].apply(lambda x: x['algorithm']['init'])\n",
    "df_trial[['datetime','nfeatures', 'kfold-type', 'algorithm-init', 'train_mae','train_mae_var','val_mae','val_mae_var','mae_diff']]"
   ]
  },
  {
   "cell_type": "code",
   "execution_count": 67,
   "metadata": {},
   "outputs": [],
   "source": [
    "df_his_list = [pd.read_csv(param['algorithm']['init']['base_save_dir'] + '/{}_{}_train_his.csv'.format(param['algorithm']['init']['alias'], i), index_col=0) for i in range(param['kfold']['n_splits'])]"
   ]
  },
  {
   "cell_type": "code",
   "execution_count": 68,
   "metadata": {},
   "outputs": [
    {
     "data": {
      "image/png": "[encoded data removed]",
      "text/plain": [
       "<Figure size 1080x216 with 3 Axes>"
      ]
     },
     "metadata": {},
     "output_type": "display_data"
    }
   ],
   "source": [
    "m_lineplot(df_his_list)"
   ]
  },
  {
   "cell_type": "code",
   "execution_count": 69,
   "metadata": {},
   "outputs": [],
   "source": [
    "db.commit()"
   ]
  },
  {
   "cell_type": "code",
   "execution_count": null,
   "metadata": {},
   "outputs": [],
   "source": []
  }
 ],
 "metadata": {
  "kernelspec": {
   "display_name": "Environment (conda_tensorflow_gpu_p36)",
   "language": "python",
   "name": "conda_tensorflow_gpu_p36"
  },
  "language_info": {
   "codemirror_mode": {
    "name": "ipython",
    "version": 3
   },
   "file_extension": ".py",
   "mimetype": "text/x-python",
   "name": "python",
   "nbconvert_exporter": "python",
   "pygments_lexer": "ipython3",
   "version": "3.6.5"
  }
 },
 "nbformat": 4,
 "nbformat_minor": 2
}
